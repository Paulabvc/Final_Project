{
 "cells": [
  {
   "cell_type": "code",
   "execution_count": 90,
   "metadata": {},
   "outputs": [],
   "source": [
    "import pandas as pd\n",
    "import numpy as np\n",
    "from scipy import stats\n",
    "import re\n",
    "from sklearn import linear_model\n",
    "from sklearn.metrics import mean_squared_error, r2_score\n",
    "import seaborn as sns\n",
    "import matplotlib.pyplot as plt\n",
    "from sklearn.utils import resample\n",
    "from sklearn.model_selection import train_test_split\n",
    "from sklearn.linear_model import LogisticRegression\n",
    "from sklearn.metrics import accuracy_score, precision_score, recall_score, f1_score\n",
    "from sklearn.metrics import classification_report, cohen_kappa_score\n",
    "from sklearn.metrics import confusion_matrix, ConfusionMatrixDisplay\n",
    "from sklearn.metrics import classification_report\n",
    "from sklearn.metrics import cohen_kappa_score\n",
    "from sklearn.tree import DecisionTreeRegressor\n",
    "from sklearn.model_selection import cross_validate\n",
    "from sklearn.cluster import KMeans\n",
    "from sklearn.cluster import DBSCAN\n",
    "from sklearn import metrics\n",
    "from sklearn.datasets import make_blobs\n",
    "from sklearn.neighbors import KNeighborsRegressor\n",
    "from sklearn.model_selection import cross_validate\n",
    "from sklearn.model_selection import cross_val_score\n"
   ]
  },
  {
   "cell_type": "markdown",
   "metadata": {},
   "source": [
    "### Read the data"
   ]
  },
  {
   "cell_type": "code",
   "execution_count": 2,
   "metadata": {},
   "outputs": [
    {
     "data": {
      "text/html": [
       "<div>\n",
       "<style scoped>\n",
       "    .dataframe tbody tr th:only-of-type {\n",
       "        vertical-align: middle;\n",
       "    }\n",
       "\n",
       "    .dataframe tbody tr th {\n",
       "        vertical-align: top;\n",
       "    }\n",
       "\n",
       "    .dataframe thead th {\n",
       "        text-align: right;\n",
       "    }\n",
       "</style>\n",
       "<table border=\"1\" class=\"dataframe\">\n",
       "  <thead>\n",
       "    <tr style=\"text-align: right;\">\n",
       "      <th></th>\n",
       "      <th>firm</th>\n",
       "      <th>date_review</th>\n",
       "      <th>job_title</th>\n",
       "      <th>current</th>\n",
       "      <th>location</th>\n",
       "      <th>overall_rating</th>\n",
       "      <th>work_life_balance</th>\n",
       "      <th>culture_values</th>\n",
       "      <th>diversity_inclusion</th>\n",
       "      <th>career_opp</th>\n",
       "      <th>comp_benefits</th>\n",
       "      <th>senior_mgmt</th>\n",
       "      <th>recommend</th>\n",
       "      <th>ceo_approv</th>\n",
       "      <th>outlook</th>\n",
       "      <th>headline</th>\n",
       "      <th>pros</th>\n",
       "      <th>cons</th>\n",
       "      <th>year</th>\n",
       "      <th>status</th>\n",
       "    </tr>\n",
       "  </thead>\n",
       "  <tbody>\n",
       "    <tr>\n",
       "      <th>0</th>\n",
       "      <td>ALDI</td>\n",
       "      <td>2018-01-11</td>\n",
       "      <td>Store Assistant</td>\n",
       "      <td>Current Employee, more than 1 year</td>\n",
       "      <td>Market Harborough, England, England</td>\n",
       "      <td>1</td>\n",
       "      <td>1.0</td>\n",
       "      <td>3.0</td>\n",
       "      <td>5.0</td>\n",
       "      <td>1.0</td>\n",
       "      <td>4.0</td>\n",
       "      <td>2.0</td>\n",
       "      <td>x</td>\n",
       "      <td>o</td>\n",
       "      <td>v</td>\n",
       "      <td>Cannot WAIT to hand in my resignation!</td>\n",
       "      <td>Good pay for role, decent benefits package,  n...</td>\n",
       "      <td>**THIS  IS SPECIFIC TO  MKT H'BRO STORE - I  s...</td>\n",
       "      <td>2018</td>\n",
       "      <td>C</td>\n",
       "    </tr>\n",
       "    <tr>\n",
       "      <th>1</th>\n",
       "      <td>ALDI</td>\n",
       "      <td>2018-01-12</td>\n",
       "      <td>Deputy Manager</td>\n",
       "      <td>Current Employee, more than 5 years</td>\n",
       "      <td>Tamworth, England, England</td>\n",
       "      <td>4</td>\n",
       "      <td>3.0</td>\n",
       "      <td>4.0</td>\n",
       "      <td>5.0</td>\n",
       "      <td>2.0</td>\n",
       "      <td>3.0</td>\n",
       "      <td>2.0</td>\n",
       "      <td>v</td>\n",
       "      <td>r</td>\n",
       "      <td>r</td>\n",
       "      <td>Deputy manager</td>\n",
       "      <td>good company to work for very addaptable for p...</td>\n",
       "      <td>dont push for progression for everyone</td>\n",
       "      <td>2018</td>\n",
       "      <td>C</td>\n",
       "    </tr>\n",
       "    <tr>\n",
       "      <th>2</th>\n",
       "      <td>ALDI</td>\n",
       "      <td>2018-01-28</td>\n",
       "      <td>Store Manager</td>\n",
       "      <td>Current Employee, more than 5 years</td>\n",
       "      <td>Ellesmere Port, England, England</td>\n",
       "      <td>4</td>\n",
       "      <td>1.0</td>\n",
       "      <td>5.0</td>\n",
       "      <td>5.0</td>\n",
       "      <td>5.0</td>\n",
       "      <td>4.0</td>\n",
       "      <td>1.0</td>\n",
       "      <td>v</td>\n",
       "      <td>v</td>\n",
       "      <td>v</td>\n",
       "      <td>It WILL make you or break you</td>\n",
       "      <td>Huge amount of responsibility\\r\\nFree rain to ...</td>\n",
       "      <td>Little to no support from AM’s once the going ...</td>\n",
       "      <td>2018</td>\n",
       "      <td>C</td>\n",
       "    </tr>\n",
       "    <tr>\n",
       "      <th>3</th>\n",
       "      <td>ALDI</td>\n",
       "      <td>2018-01-30</td>\n",
       "      <td>Store Assistant</td>\n",
       "      <td>Former Employee, more than 1 year</td>\n",
       "      <td>Crewe, England, England</td>\n",
       "      <td>4</td>\n",
       "      <td>5.0</td>\n",
       "      <td>4.0</td>\n",
       "      <td>5.0</td>\n",
       "      <td>4.0</td>\n",
       "      <td>4.0</td>\n",
       "      <td>3.0</td>\n",
       "      <td>v</td>\n",
       "      <td>r</td>\n",
       "      <td>v</td>\n",
       "      <td>Store Assistant</td>\n",
       "      <td>Good pay and flexible working when part time</td>\n",
       "      <td>The work is very physically demanding</td>\n",
       "      <td>2018</td>\n",
       "      <td>F</td>\n",
       "    </tr>\n",
       "    <tr>\n",
       "      <th>4</th>\n",
       "      <td>ALDI</td>\n",
       "      <td>2018-02-01</td>\n",
       "      <td>Deputy Manager</td>\n",
       "      <td>Current Employee, more than 8 years</td>\n",
       "      <td>Stafford, England, England</td>\n",
       "      <td>2</td>\n",
       "      <td>1.0</td>\n",
       "      <td>1.0</td>\n",
       "      <td>5.0</td>\n",
       "      <td>2.0</td>\n",
       "      <td>3.0</td>\n",
       "      <td>1.0</td>\n",
       "      <td>o</td>\n",
       "      <td>r</td>\n",
       "      <td>x</td>\n",
       "      <td>Deputy manager. With 9 years experience</td>\n",
       "      <td>As a company aldi are good to work for. The pa...</td>\n",
       "      <td>In store it’s vile. I’ve worked in quite a few...</td>\n",
       "      <td>2018</td>\n",
       "      <td>C</td>\n",
       "    </tr>\n",
       "  </tbody>\n",
       "</table>\n",
       "</div>"
      ],
      "text/plain": [
       "   firm date_review         job_title                              current  \\\n",
       "0  ALDI  2018-01-11   Store Assistant   Current Employee, more than 1 year   \n",
       "1  ALDI  2018-01-12    Deputy Manager  Current Employee, more than 5 years   \n",
       "2  ALDI  2018-01-28     Store Manager  Current Employee, more than 5 years   \n",
       "3  ALDI  2018-01-30   Store Assistant    Former Employee, more than 1 year   \n",
       "4  ALDI  2018-02-01    Deputy Manager  Current Employee, more than 8 years   \n",
       "\n",
       "                              location  overall_rating  work_life_balance  \\\n",
       "0  Market Harborough, England, England               1                1.0   \n",
       "1           Tamworth, England, England               4                3.0   \n",
       "2     Ellesmere Port, England, England               4                1.0   \n",
       "3              Crewe, England, England               4                5.0   \n",
       "4           Stafford, England, England               2                1.0   \n",
       "\n",
       "   culture_values  diversity_inclusion  career_opp  comp_benefits  \\\n",
       "0             3.0                  5.0         1.0            4.0   \n",
       "1             4.0                  5.0         2.0            3.0   \n",
       "2             5.0                  5.0         5.0            4.0   \n",
       "3             4.0                  5.0         4.0            4.0   \n",
       "4             1.0                  5.0         2.0            3.0   \n",
       "\n",
       "   senior_mgmt recommend ceo_approv outlook  \\\n",
       "0          2.0         x          o       v   \n",
       "1          2.0         v          r       r   \n",
       "2          1.0         v          v       v   \n",
       "3          3.0         v          r       v   \n",
       "4          1.0         o          r       x   \n",
       "\n",
       "                                  headline  \\\n",
       "0   Cannot WAIT to hand in my resignation!   \n",
       "1                           Deputy manager   \n",
       "2            It WILL make you or break you   \n",
       "3                          Store Assistant   \n",
       "4  Deputy manager. With 9 years experience   \n",
       "\n",
       "                                                pros  \\\n",
       "0  Good pay for role, decent benefits package,  n...   \n",
       "1  good company to work for very addaptable for p...   \n",
       "2  Huge amount of responsibility\\r\\nFree rain to ...   \n",
       "3       Good pay and flexible working when part time   \n",
       "4  As a company aldi are good to work for. The pa...   \n",
       "\n",
       "                                                cons  year status  \n",
       "0  **THIS  IS SPECIFIC TO  MKT H'BRO STORE - I  s...  2018      C  \n",
       "1             dont push for progression for everyone  2018      C  \n",
       "2  Little to no support from AM’s once the going ...  2018      C  \n",
       "3              The work is very physically demanding  2018      F  \n",
       "4  In store it’s vile. I’ve worked in quite a few...  2018      C  "
      ]
     },
     "execution_count": 2,
     "metadata": {},
     "output_type": "execute_result"
    }
   ],
   "source": [
    "df=pd.read_csv('../data/clean/df_exp2.csv')\n",
    "df.head()"
   ]
  },
  {
   "cell_type": "code",
   "execution_count": 3,
   "metadata": {},
   "outputs": [],
   "source": [
    "df_num = df.select_dtypes(include=[np.number])\n",
    "df_cat = df.select_dtypes(exclude=[np.number])"
   ]
  },
  {
   "cell_type": "markdown",
   "metadata": {},
   "source": [
    "### Correlation Matrix"
   ]
  },
  {
   "cell_type": "code",
   "execution_count": 4,
   "metadata": {},
   "outputs": [
    {
     "data": {
      "text/html": [
       "<div>\n",
       "<style scoped>\n",
       "    .dataframe tbody tr th:only-of-type {\n",
       "        vertical-align: middle;\n",
       "    }\n",
       "\n",
       "    .dataframe tbody tr th {\n",
       "        vertical-align: top;\n",
       "    }\n",
       "\n",
       "    .dataframe thead th {\n",
       "        text-align: right;\n",
       "    }\n",
       "</style>\n",
       "<table border=\"1\" class=\"dataframe\">\n",
       "  <thead>\n",
       "    <tr style=\"text-align: right;\">\n",
       "      <th></th>\n",
       "      <th>overall_rating</th>\n",
       "      <th>work_life_balance</th>\n",
       "      <th>culture_values</th>\n",
       "      <th>diversity_inclusion</th>\n",
       "      <th>career_opp</th>\n",
       "      <th>comp_benefits</th>\n",
       "      <th>senior_mgmt</th>\n",
       "      <th>year</th>\n",
       "    </tr>\n",
       "  </thead>\n",
       "  <tbody>\n",
       "    <tr>\n",
       "      <th>overall_rating</th>\n",
       "      <td>1.000000</td>\n",
       "      <td>0.505030</td>\n",
       "      <td>0.666696</td>\n",
       "      <td>0.258149</td>\n",
       "      <td>0.622323</td>\n",
       "      <td>0.544748</td>\n",
       "      <td>0.648367</td>\n",
       "      <td>0.067458</td>\n",
       "    </tr>\n",
       "    <tr>\n",
       "      <th>work_life_balance</th>\n",
       "      <td>0.505030</td>\n",
       "      <td>1.000000</td>\n",
       "      <td>0.554711</td>\n",
       "      <td>0.255433</td>\n",
       "      <td>0.389629</td>\n",
       "      <td>0.436728</td>\n",
       "      <td>0.507006</td>\n",
       "      <td>0.042222</td>\n",
       "    </tr>\n",
       "    <tr>\n",
       "      <th>culture_values</th>\n",
       "      <td>0.666696</td>\n",
       "      <td>0.554711</td>\n",
       "      <td>1.000000</td>\n",
       "      <td>0.346998</td>\n",
       "      <td>0.656353</td>\n",
       "      <td>0.588020</td>\n",
       "      <td>0.714100</td>\n",
       "      <td>0.087095</td>\n",
       "    </tr>\n",
       "    <tr>\n",
       "      <th>diversity_inclusion</th>\n",
       "      <td>0.258149</td>\n",
       "      <td>0.255433</td>\n",
       "      <td>0.346998</td>\n",
       "      <td>1.000000</td>\n",
       "      <td>0.261421</td>\n",
       "      <td>0.247638</td>\n",
       "      <td>0.267477</td>\n",
       "      <td>-0.329071</td>\n",
       "    </tr>\n",
       "    <tr>\n",
       "      <th>career_opp</th>\n",
       "      <td>0.622323</td>\n",
       "      <td>0.389629</td>\n",
       "      <td>0.656353</td>\n",
       "      <td>0.261421</td>\n",
       "      <td>1.000000</td>\n",
       "      <td>0.626635</td>\n",
       "      <td>0.668777</td>\n",
       "      <td>0.088081</td>\n",
       "    </tr>\n",
       "    <tr>\n",
       "      <th>comp_benefits</th>\n",
       "      <td>0.544748</td>\n",
       "      <td>0.436728</td>\n",
       "      <td>0.588020</td>\n",
       "      <td>0.247638</td>\n",
       "      <td>0.626635</td>\n",
       "      <td>1.000000</td>\n",
       "      <td>0.581400</td>\n",
       "      <td>0.096146</td>\n",
       "    </tr>\n",
       "    <tr>\n",
       "      <th>senior_mgmt</th>\n",
       "      <td>0.648367</td>\n",
       "      <td>0.507006</td>\n",
       "      <td>0.714100</td>\n",
       "      <td>0.267477</td>\n",
       "      <td>0.668777</td>\n",
       "      <td>0.581400</td>\n",
       "      <td>1.000000</td>\n",
       "      <td>0.082822</td>\n",
       "    </tr>\n",
       "    <tr>\n",
       "      <th>year</th>\n",
       "      <td>0.067458</td>\n",
       "      <td>0.042222</td>\n",
       "      <td>0.087095</td>\n",
       "      <td>-0.329071</td>\n",
       "      <td>0.088081</td>\n",
       "      <td>0.096146</td>\n",
       "      <td>0.082822</td>\n",
       "      <td>1.000000</td>\n",
       "    </tr>\n",
       "  </tbody>\n",
       "</table>\n",
       "</div>"
      ],
      "text/plain": [
       "                     overall_rating  work_life_balance  culture_values  \\\n",
       "overall_rating             1.000000           0.505030        0.666696   \n",
       "work_life_balance          0.505030           1.000000        0.554711   \n",
       "culture_values             0.666696           0.554711        1.000000   \n",
       "diversity_inclusion        0.258149           0.255433        0.346998   \n",
       "career_opp                 0.622323           0.389629        0.656353   \n",
       "comp_benefits              0.544748           0.436728        0.588020   \n",
       "senior_mgmt                0.648367           0.507006        0.714100   \n",
       "year                       0.067458           0.042222        0.087095   \n",
       "\n",
       "                     diversity_inclusion  career_opp  comp_benefits  \\\n",
       "overall_rating                  0.258149    0.622323       0.544748   \n",
       "work_life_balance               0.255433    0.389629       0.436728   \n",
       "culture_values                  0.346998    0.656353       0.588020   \n",
       "diversity_inclusion             1.000000    0.261421       0.247638   \n",
       "career_opp                      0.261421    1.000000       0.626635   \n",
       "comp_benefits                   0.247638    0.626635       1.000000   \n",
       "senior_mgmt                     0.267477    0.668777       0.581400   \n",
       "year                           -0.329071    0.088081       0.096146   \n",
       "\n",
       "                     senior_mgmt      year  \n",
       "overall_rating          0.648367  0.067458  \n",
       "work_life_balance       0.507006  0.042222  \n",
       "culture_values          0.714100  0.087095  \n",
       "diversity_inclusion     0.267477 -0.329071  \n",
       "career_opp              0.668777  0.088081  \n",
       "comp_benefits           0.581400  0.096146  \n",
       "senior_mgmt             1.000000  0.082822  \n",
       "year                    0.082822  1.000000  "
      ]
     },
     "execution_count": 4,
     "metadata": {},
     "output_type": "execute_result"
    }
   ],
   "source": [
    "correlations_matrix = df_num.corr()\n",
    "correlations_matrix"
   ]
  },
  {
   "cell_type": "code",
   "execution_count": 5,
   "metadata": {},
   "outputs": [
    {
     "data": {
      "image/png": "[encoded data removed]",
      "text/plain": [
       "<Figure size 640x480 with 2 Axes>"
      ]
     },
     "metadata": {},
     "output_type": "display_data"
    }
   ],
   "source": [
    "correlations_matrix = df_num.corr()\n",
    "sns.heatmap(correlations_matrix, annot=True) # annot = True displays the correlation values, annot=False hides the correlation values\n",
    "plt.show()"
   ]
  },
  {
   "cell_type": "markdown",
   "metadata": {},
   "source": [
    "### no changes separating by before covid and after"
   ]
  },
  {
   "cell_type": "code",
   "execution_count": 6,
   "metadata": {},
   "outputs": [],
   "source": [
    "before_covid=[2018,2019]\n",
    "after_covid=[2020,2021]"
   ]
  },
  {
   "cell_type": "code",
   "execution_count": 7,
   "metadata": {},
   "outputs": [
    {
     "data": {
      "text/html": [
       "<div>\n",
       "<style scoped>\n",
       "    .dataframe tbody tr th:only-of-type {\n",
       "        vertical-align: middle;\n",
       "    }\n",
       "\n",
       "    .dataframe tbody tr th {\n",
       "        vertical-align: top;\n",
       "    }\n",
       "\n",
       "    .dataframe thead th {\n",
       "        text-align: right;\n",
       "    }\n",
       "</style>\n",
       "<table border=\"1\" class=\"dataframe\">\n",
       "  <thead>\n",
       "    <tr style=\"text-align: right;\">\n",
       "      <th></th>\n",
       "      <th>firm</th>\n",
       "      <th>date_review</th>\n",
       "      <th>job_title</th>\n",
       "      <th>current</th>\n",
       "      <th>location</th>\n",
       "      <th>overall_rating</th>\n",
       "      <th>work_life_balance</th>\n",
       "      <th>culture_values</th>\n",
       "      <th>diversity_inclusion</th>\n",
       "      <th>career_opp</th>\n",
       "      <th>comp_benefits</th>\n",
       "      <th>senior_mgmt</th>\n",
       "      <th>recommend</th>\n",
       "      <th>ceo_approv</th>\n",
       "      <th>outlook</th>\n",
       "      <th>headline</th>\n",
       "      <th>pros</th>\n",
       "      <th>cons</th>\n",
       "      <th>year</th>\n",
       "      <th>status</th>\n",
       "    </tr>\n",
       "  </thead>\n",
       "  <tbody>\n",
       "    <tr>\n",
       "      <th>0</th>\n",
       "      <td>ALDI</td>\n",
       "      <td>2018-01-11</td>\n",
       "      <td>Store Assistant</td>\n",
       "      <td>Current Employee, more than 1 year</td>\n",
       "      <td>Market Harborough, England, England</td>\n",
       "      <td>1</td>\n",
       "      <td>1.0</td>\n",
       "      <td>3.0</td>\n",
       "      <td>5.0</td>\n",
       "      <td>1.0</td>\n",
       "      <td>4.0</td>\n",
       "      <td>2.0</td>\n",
       "      <td>x</td>\n",
       "      <td>o</td>\n",
       "      <td>v</td>\n",
       "      <td>Cannot WAIT to hand in my resignation!</td>\n",
       "      <td>Good pay for role, decent benefits package,  n...</td>\n",
       "      <td>**THIS  IS SPECIFIC TO  MKT H'BRO STORE - I  s...</td>\n",
       "      <td>2018</td>\n",
       "      <td>C</td>\n",
       "    </tr>\n",
       "    <tr>\n",
       "      <th>1</th>\n",
       "      <td>ALDI</td>\n",
       "      <td>2018-01-12</td>\n",
       "      <td>Deputy Manager</td>\n",
       "      <td>Current Employee, more than 5 years</td>\n",
       "      <td>Tamworth, England, England</td>\n",
       "      <td>4</td>\n",
       "      <td>3.0</td>\n",
       "      <td>4.0</td>\n",
       "      <td>5.0</td>\n",
       "      <td>2.0</td>\n",
       "      <td>3.0</td>\n",
       "      <td>2.0</td>\n",
       "      <td>v</td>\n",
       "      <td>r</td>\n",
       "      <td>r</td>\n",
       "      <td>Deputy manager</td>\n",
       "      <td>good company to work for very addaptable for p...</td>\n",
       "      <td>dont push for progression for everyone</td>\n",
       "      <td>2018</td>\n",
       "      <td>C</td>\n",
       "    </tr>\n",
       "    <tr>\n",
       "      <th>2</th>\n",
       "      <td>ALDI</td>\n",
       "      <td>2018-01-28</td>\n",
       "      <td>Store Manager</td>\n",
       "      <td>Current Employee, more than 5 years</td>\n",
       "      <td>Ellesmere Port, England, England</td>\n",
       "      <td>4</td>\n",
       "      <td>1.0</td>\n",
       "      <td>5.0</td>\n",
       "      <td>5.0</td>\n",
       "      <td>5.0</td>\n",
       "      <td>4.0</td>\n",
       "      <td>1.0</td>\n",
       "      <td>v</td>\n",
       "      <td>v</td>\n",
       "      <td>v</td>\n",
       "      <td>It WILL make you or break you</td>\n",
       "      <td>Huge amount of responsibility\\r\\nFree rain to ...</td>\n",
       "      <td>Little to no support from AM’s once the going ...</td>\n",
       "      <td>2018</td>\n",
       "      <td>C</td>\n",
       "    </tr>\n",
       "  </tbody>\n",
       "</table>\n",
       "</div>"
      ],
      "text/plain": [
       "   firm date_review         job_title                              current  \\\n",
       "0  ALDI  2018-01-11   Store Assistant   Current Employee, more than 1 year   \n",
       "1  ALDI  2018-01-12    Deputy Manager  Current Employee, more than 5 years   \n",
       "2  ALDI  2018-01-28     Store Manager  Current Employee, more than 5 years   \n",
       "\n",
       "                              location  overall_rating  work_life_balance  \\\n",
       "0  Market Harborough, England, England               1                1.0   \n",
       "1           Tamworth, England, England               4                3.0   \n",
       "2     Ellesmere Port, England, England               4                1.0   \n",
       "\n",
       "   culture_values  diversity_inclusion  career_opp  comp_benefits  \\\n",
       "0             3.0                  5.0         1.0            4.0   \n",
       "1             4.0                  5.0         2.0            3.0   \n",
       "2             5.0                  5.0         5.0            4.0   \n",
       "\n",
       "   senior_mgmt recommend ceo_approv outlook  \\\n",
       "0          2.0         x          o       v   \n",
       "1          2.0         v          r       r   \n",
       "2          1.0         v          v       v   \n",
       "\n",
       "                                 headline  \\\n",
       "0  Cannot WAIT to hand in my resignation!   \n",
       "1                          Deputy manager   \n",
       "2           It WILL make you or break you   \n",
       "\n",
       "                                                pros  \\\n",
       "0  Good pay for role, decent benefits package,  n...   \n",
       "1  good company to work for very addaptable for p...   \n",
       "2  Huge amount of responsibility\\r\\nFree rain to ...   \n",
       "\n",
       "                                                cons  year status  \n",
       "0  **THIS  IS SPECIFIC TO  MKT H'BRO STORE - I  s...  2018      C  \n",
       "1             dont push for progression for everyone  2018      C  \n",
       "2  Little to no support from AM’s once the going ...  2018      C  "
      ]
     },
     "execution_count": 7,
     "metadata": {},
     "output_type": "execute_result"
    }
   ],
   "source": [
    "df_before_covid = df[df.year.isin(before_covid)]\n",
    "df_before_covid.head(3)"
   ]
  },
  {
   "cell_type": "code",
   "execution_count": 8,
   "metadata": {},
   "outputs": [],
   "source": [
    "df_num_bc = df.select_dtypes(include=[np.number])\n",
    "df_cat_bc = df.select_dtypes(exclude=[np.number])"
   ]
  },
  {
   "cell_type": "code",
   "execution_count": 9,
   "metadata": {},
   "outputs": [
    {
     "data": {
      "image/png": "[encoded data removed]",
      "text/plain": [
       "<Figure size 640x480 with 2 Axes>"
      ]
     },
     "metadata": {},
     "output_type": "display_data"
    }
   ],
   "source": [
    "correlations_matrix = df_num_bc.corr()\n",
    "sns.heatmap(correlations_matrix, annot=True) # annot = True displays the correlation values, annot=False hides the correlation values\n",
    "plt.show()"
   ]
  },
  {
   "cell_type": "code",
   "execution_count": 10,
   "metadata": {},
   "outputs": [
    {
     "data": {
      "text/html": [
       "<div>\n",
       "<style scoped>\n",
       "    .dataframe tbody tr th:only-of-type {\n",
       "        vertical-align: middle;\n",
       "    }\n",
       "\n",
       "    .dataframe tbody tr th {\n",
       "        vertical-align: top;\n",
       "    }\n",
       "\n",
       "    .dataframe thead th {\n",
       "        text-align: right;\n",
       "    }\n",
       "</style>\n",
       "<table border=\"1\" class=\"dataframe\">\n",
       "  <thead>\n",
       "    <tr style=\"text-align: right;\">\n",
       "      <th></th>\n",
       "      <th>firm</th>\n",
       "      <th>date_review</th>\n",
       "      <th>job_title</th>\n",
       "      <th>current</th>\n",
       "      <th>location</th>\n",
       "      <th>overall_rating</th>\n",
       "      <th>work_life_balance</th>\n",
       "      <th>culture_values</th>\n",
       "      <th>diversity_inclusion</th>\n",
       "      <th>career_opp</th>\n",
       "      <th>comp_benefits</th>\n",
       "      <th>senior_mgmt</th>\n",
       "      <th>recommend</th>\n",
       "      <th>ceo_approv</th>\n",
       "      <th>outlook</th>\n",
       "      <th>headline</th>\n",
       "      <th>pros</th>\n",
       "      <th>cons</th>\n",
       "      <th>year</th>\n",
       "      <th>status</th>\n",
       "    </tr>\n",
       "  </thead>\n",
       "  <tbody>\n",
       "    <tr>\n",
       "      <th>183499</th>\n",
       "      <td>ALDI</td>\n",
       "      <td>2020-01-05</td>\n",
       "      <td>Assistant Store Manager</td>\n",
       "      <td>Current Employee, more than 1 year</td>\n",
       "      <td>Leicester, England, England</td>\n",
       "      <td>3</td>\n",
       "      <td>2.0</td>\n",
       "      <td>4.0</td>\n",
       "      <td>5.0</td>\n",
       "      <td>2.0</td>\n",
       "      <td>2.0</td>\n",
       "      <td>4.0</td>\n",
       "      <td>x</td>\n",
       "      <td>r</td>\n",
       "      <td>x</td>\n",
       "      <td>good pay, but you pay for it!</td>\n",
       "      <td>pay is really good, you accumulate any excess ...</td>\n",
       "      <td>unsociable hours, training is a huge area of i...</td>\n",
       "      <td>2020</td>\n",
       "      <td>C</td>\n",
       "    </tr>\n",
       "    <tr>\n",
       "      <th>183500</th>\n",
       "      <td>ALDI</td>\n",
       "      <td>2020-01-05</td>\n",
       "      <td>Deputy Manager</td>\n",
       "      <td>Current Employee, more than 5 years</td>\n",
       "      <td>Neston, North West England, England, England</td>\n",
       "      <td>4</td>\n",
       "      <td>3.0</td>\n",
       "      <td>4.0</td>\n",
       "      <td>5.0</td>\n",
       "      <td>1.0</td>\n",
       "      <td>4.0</td>\n",
       "      <td>3.0</td>\n",
       "      <td>v</td>\n",
       "      <td>r</td>\n",
       "      <td>v</td>\n",
       "      <td>Fantastic facilities</td>\n",
       "      <td>Really clean facilities \\r\\nSecure parking \\r\\...</td>\n",
       "      <td>Lack of opportunities for progression \\r\\nEver...</td>\n",
       "      <td>2020</td>\n",
       "      <td>C</td>\n",
       "    </tr>\n",
       "    <tr>\n",
       "      <th>183501</th>\n",
       "      <td>ALDI</td>\n",
       "      <td>2020-01-09</td>\n",
       "      <td>Store Assistant</td>\n",
       "      <td>Former Employee, less than 1 year</td>\n",
       "      <td>Bradford, Yorkshire and the Humber, England, E...</td>\n",
       "      <td>5</td>\n",
       "      <td>4.0</td>\n",
       "      <td>4.0</td>\n",
       "      <td>5.0</td>\n",
       "      <td>5.0</td>\n",
       "      <td>5.0</td>\n",
       "      <td>4.0</td>\n",
       "      <td>v</td>\n",
       "      <td>r</td>\n",
       "      <td>r</td>\n",
       "      <td>Difficult but rewarding</td>\n",
       "      <td>Great introductory salary, friendly co-workers...</td>\n",
       "      <td>Strict performance targets, extremely fast pac...</td>\n",
       "      <td>2020</td>\n",
       "      <td>F</td>\n",
       "    </tr>\n",
       "  </tbody>\n",
       "</table>\n",
       "</div>"
      ],
      "text/plain": [
       "        firm date_review                 job_title  \\\n",
       "183499  ALDI  2020-01-05   Assistant Store Manager   \n",
       "183500  ALDI  2020-01-05            Deputy Manager   \n",
       "183501  ALDI  2020-01-09           Store Assistant   \n",
       "\n",
       "                                    current  \\\n",
       "183499   Current Employee, more than 1 year   \n",
       "183500  Current Employee, more than 5 years   \n",
       "183501    Former Employee, less than 1 year   \n",
       "\n",
       "                                                 location  overall_rating  \\\n",
       "183499                        Leicester, England, England               3   \n",
       "183500       Neston, North West England, England, England               4   \n",
       "183501  Bradford, Yorkshire and the Humber, England, E...               5   \n",
       "\n",
       "        work_life_balance  culture_values  diversity_inclusion  career_opp  \\\n",
       "183499                2.0             4.0                  5.0         2.0   \n",
       "183500                3.0             4.0                  5.0         1.0   \n",
       "183501                4.0             4.0                  5.0         5.0   \n",
       "\n",
       "        comp_benefits  senior_mgmt recommend ceo_approv outlook  \\\n",
       "183499            2.0          4.0         x          r       x   \n",
       "183500            4.0          3.0         v          r       v   \n",
       "183501            5.0          4.0         v          r       r   \n",
       "\n",
       "                             headline  \\\n",
       "183499  good pay, but you pay for it!   \n",
       "183500           Fantastic facilities   \n",
       "183501        Difficult but rewarding   \n",
       "\n",
       "                                                     pros  \\\n",
       "183499  pay is really good, you accumulate any excess ...   \n",
       "183500  Really clean facilities \\r\\nSecure parking \\r\\...   \n",
       "183501  Great introductory salary, friendly co-workers...   \n",
       "\n",
       "                                                     cons  year status  \n",
       "183499  unsociable hours, training is a huge area of i...  2020      C  \n",
       "183500  Lack of opportunities for progression \\r\\nEver...  2020      C  \n",
       "183501  Strict performance targets, extremely fast pac...  2020      F  "
      ]
     },
     "execution_count": 10,
     "metadata": {},
     "output_type": "execute_result"
    }
   ],
   "source": [
    "df_after_covid = df[df.year.isin(after_covid)]\n",
    "df_after_covid.head(3)"
   ]
  },
  {
   "cell_type": "code",
   "execution_count": 11,
   "metadata": {},
   "outputs": [],
   "source": [
    "df_num_ac = df.select_dtypes(include=[np.number])\n",
    "df_cat_ac = df.select_dtypes(exclude=[np.number])"
   ]
  },
  {
   "cell_type": "code",
   "execution_count": 12,
   "metadata": {},
   "outputs": [
    {
     "data": {
      "image/png": "[encoded data removed]",
      "text/plain": [
       "<Figure size 640x480 with 2 Axes>"
      ]
     },
     "metadata": {},
     "output_type": "display_data"
    }
   ],
   "source": [
    "correlations_matrix = df_num_ac.corr()\n",
    "sns.heatmap(correlations_matrix, annot=True) # annot = True displays the correlation values, annot=False hides the correlation values\n",
    "plt.show()"
   ]
  },
  {
   "cell_type": "code",
   "execution_count": 106,
   "metadata": {},
   "outputs": [
    {
     "data": {
      "text/plain": [
       "<AxesSubplot:xlabel='culture_values', ylabel='count'>"
      ]
     },
     "execution_count": 106,
     "metadata": {},
     "output_type": "execute_result"
    },
    {
     "data": {
      "image/png": "[encoded data removed]",
      "text/plain": [
       "<Figure size 640x480 with 1 Axes>"
      ]
     },
     "metadata": {},
     "output_type": "display_data"
    }
   ],
   "source": [
    "sns.countplot(data=df_num, x=\"culture_values\", hue=\"senior_mgmt\")"
   ]
  },
  {
   "cell_type": "markdown",
   "metadata": {},
   "source": [
    "### Split x/y"
   ]
  },
  {
   "cell_type": "code",
   "execution_count": 13,
   "metadata": {},
   "outputs": [],
   "source": [
    "df_num = df_num.drop(['year'], axis=1)"
   ]
  },
  {
   "cell_type": "code",
   "execution_count": 14,
   "metadata": {},
   "outputs": [],
   "source": [
    "y=df_num['overall_rating']\n",
    "X=df_num.drop(['overall_rating'], axis=1)"
   ]
  },
  {
   "cell_type": "code",
   "execution_count": 85,
   "metadata": {},
   "outputs": [],
   "source": [
    "majority_class = df['overall_rating'].value_counts().index[0]"
   ]
  },
  {
   "cell_type": "markdown",
   "metadata": {},
   "source": [
    "### Train/Test split"
   ]
  },
  {
   "cell_type": "code",
   "execution_count": 27,
   "metadata": {},
   "outputs": [],
   "source": [
    "X_train, X_test, y_train, y_test = train_test_split(X, y, test_size=0.2, random_state=100)"
   ]
  },
  {
   "cell_type": "code",
   "execution_count": 86,
   "metadata": {},
   "outputs": [
    {
     "data": {
      "text/html": [
       "<div>\n",
       "<style scoped>\n",
       "    .dataframe tbody tr th:only-of-type {\n",
       "        vertical-align: middle;\n",
       "    }\n",
       "\n",
       "    .dataframe tbody tr th {\n",
       "        vertical-align: top;\n",
       "    }\n",
       "\n",
       "    .dataframe thead th {\n",
       "        text-align: right;\n",
       "    }\n",
       "</style>\n",
       "<table border=\"1\" class=\"dataframe\">\n",
       "  <thead>\n",
       "    <tr style=\"text-align: right;\">\n",
       "      <th></th>\n",
       "      <th>work_life_balance</th>\n",
       "      <th>culture_values</th>\n",
       "      <th>diversity_inclusion</th>\n",
       "      <th>career_opp</th>\n",
       "      <th>comp_benefits</th>\n",
       "      <th>senior_mgmt</th>\n",
       "    </tr>\n",
       "  </thead>\n",
       "  <tbody>\n",
       "    <tr>\n",
       "      <th>402533</th>\n",
       "      <td>3.0</td>\n",
       "      <td>5.0</td>\n",
       "      <td>5.0</td>\n",
       "      <td>5.0</td>\n",
       "      <td>5.0</td>\n",
       "      <td>4.0</td>\n",
       "    </tr>\n",
       "    <tr>\n",
       "      <th>160424</th>\n",
       "      <td>5.0</td>\n",
       "      <td>5.0</td>\n",
       "      <td>5.0</td>\n",
       "      <td>5.0</td>\n",
       "      <td>4.0</td>\n",
       "      <td>5.0</td>\n",
       "    </tr>\n",
       "    <tr>\n",
       "      <th>167379</th>\n",
       "      <td>2.0</td>\n",
       "      <td>5.0</td>\n",
       "      <td>5.0</td>\n",
       "      <td>3.0</td>\n",
       "      <td>4.0</td>\n",
       "      <td>3.0</td>\n",
       "    </tr>\n",
       "    <tr>\n",
       "      <th>33470</th>\n",
       "      <td>4.0</td>\n",
       "      <td>4.0</td>\n",
       "      <td>5.0</td>\n",
       "      <td>4.0</td>\n",
       "      <td>4.0</td>\n",
       "      <td>4.0</td>\n",
       "    </tr>\n",
       "    <tr>\n",
       "      <th>409266</th>\n",
       "      <td>3.0</td>\n",
       "      <td>5.0</td>\n",
       "      <td>5.0</td>\n",
       "      <td>5.0</td>\n",
       "      <td>5.0</td>\n",
       "      <td>4.0</td>\n",
       "    </tr>\n",
       "    <tr>\n",
       "      <th>...</th>\n",
       "      <td>...</td>\n",
       "      <td>...</td>\n",
       "      <td>...</td>\n",
       "      <td>...</td>\n",
       "      <td>...</td>\n",
       "      <td>...</td>\n",
       "    </tr>\n",
       "    <tr>\n",
       "      <th>339799</th>\n",
       "      <td>3.0</td>\n",
       "      <td>3.0</td>\n",
       "      <td>5.0</td>\n",
       "      <td>3.0</td>\n",
       "      <td>3.0</td>\n",
       "      <td>3.0</td>\n",
       "    </tr>\n",
       "    <tr>\n",
       "      <th>253799</th>\n",
       "      <td>5.0</td>\n",
       "      <td>5.0</td>\n",
       "      <td>5.0</td>\n",
       "      <td>5.0</td>\n",
       "      <td>5.0</td>\n",
       "      <td>5.0</td>\n",
       "    </tr>\n",
       "    <tr>\n",
       "      <th>210755</th>\n",
       "      <td>3.0</td>\n",
       "      <td>4.0</td>\n",
       "      <td>5.0</td>\n",
       "      <td>3.0</td>\n",
       "      <td>4.0</td>\n",
       "      <td>3.0</td>\n",
       "    </tr>\n",
       "    <tr>\n",
       "      <th>56088</th>\n",
       "      <td>3.0</td>\n",
       "      <td>3.0</td>\n",
       "      <td>5.0</td>\n",
       "      <td>5.0</td>\n",
       "      <td>4.0</td>\n",
       "      <td>3.0</td>\n",
       "    </tr>\n",
       "    <tr>\n",
       "      <th>300552</th>\n",
       "      <td>2.0</td>\n",
       "      <td>3.0</td>\n",
       "      <td>2.0</td>\n",
       "      <td>2.0</td>\n",
       "      <td>1.0</td>\n",
       "      <td>2.0</td>\n",
       "    </tr>\n",
       "  </tbody>\n",
       "</table>\n",
       "<p>366446 rows × 6 columns</p>\n",
       "</div>"
      ],
      "text/plain": [
       "        work_life_balance  culture_values  diversity_inclusion  career_opp  \\\n",
       "402533                3.0             5.0                  5.0         5.0   \n",
       "160424                5.0             5.0                  5.0         5.0   \n",
       "167379                2.0             5.0                  5.0         3.0   \n",
       "33470                 4.0             4.0                  5.0         4.0   \n",
       "409266                3.0             5.0                  5.0         5.0   \n",
       "...                   ...             ...                  ...         ...   \n",
       "339799                3.0             3.0                  5.0         3.0   \n",
       "253799                5.0             5.0                  5.0         5.0   \n",
       "210755                3.0             4.0                  5.0         3.0   \n",
       "56088                 3.0             3.0                  5.0         5.0   \n",
       "300552                2.0             3.0                  2.0         2.0   \n",
       "\n",
       "        comp_benefits  senior_mgmt  \n",
       "402533            5.0          4.0  \n",
       "160424            4.0          5.0  \n",
       "167379            4.0          3.0  \n",
       "33470             4.0          4.0  \n",
       "409266            5.0          4.0  \n",
       "...               ...          ...  \n",
       "339799            3.0          3.0  \n",
       "253799            5.0          5.0  \n",
       "210755            4.0          3.0  \n",
       "56088             4.0          3.0  \n",
       "300552            1.0          2.0  \n",
       "\n",
       "[366446 rows x 6 columns]"
      ]
     },
     "execution_count": 86,
     "metadata": {},
     "output_type": "execute_result"
    }
   ],
   "source": [
    "X_train"
   ]
  },
  {
   "cell_type": "code",
   "execution_count": 87,
   "metadata": {},
   "outputs": [
    {
     "data": {
      "text/plain": [
       "402533    4\n",
       "160424    5\n",
       "167379    3\n",
       "33470     5\n",
       "409266    4\n",
       "         ..\n",
       "339799    4\n",
       "253799    5\n",
       "210755    4\n",
       "56088     4\n",
       "300552    4\n",
       "Name: overall_rating, Length: 366446, dtype: int64"
      ]
     },
     "execution_count": 87,
     "metadata": {},
     "output_type": "execute_result"
    }
   ],
   "source": [
    "y_train"
   ]
  },
  {
   "cell_type": "markdown",
   "metadata": {},
   "source": [
    "### Over sampling to fix the imbalance"
   ]
  },
  {
   "cell_type": "code",
   "execution_count": 43,
   "metadata": {},
   "outputs": [],
   "source": [
    "from imblearn.over_sampling import RandomOverSampler\n",
    "\n",
    "ros = RandomOverSampler(random_state=42)\n",
    "X_train_res, y_train_res = ros.fit_resample(X_train, y_train)\n"
   ]
  },
  {
   "cell_type": "code",
   "execution_count": 31,
   "metadata": {},
   "outputs": [
    {
     "data": {
      "text/html": [
       "<div>\n",
       "<style scoped>\n",
       "    .dataframe tbody tr th:only-of-type {\n",
       "        vertical-align: middle;\n",
       "    }\n",
       "\n",
       "    .dataframe tbody tr th {\n",
       "        vertical-align: top;\n",
       "    }\n",
       "\n",
       "    .dataframe thead th {\n",
       "        text-align: right;\n",
       "    }\n",
       "</style>\n",
       "<table border=\"1\" class=\"dataframe\">\n",
       "  <thead>\n",
       "    <tr style=\"text-align: right;\">\n",
       "      <th></th>\n",
       "      <th>work_life_balance</th>\n",
       "      <th>culture_values</th>\n",
       "      <th>diversity_inclusion</th>\n",
       "      <th>career_opp</th>\n",
       "      <th>comp_benefits</th>\n",
       "      <th>senior_mgmt</th>\n",
       "    </tr>\n",
       "  </thead>\n",
       "  <tbody>\n",
       "    <tr>\n",
       "      <th>0</th>\n",
       "      <td>3.0</td>\n",
       "      <td>5.0</td>\n",
       "      <td>5.0</td>\n",
       "      <td>5.0</td>\n",
       "      <td>5.0</td>\n",
       "      <td>4.0</td>\n",
       "    </tr>\n",
       "    <tr>\n",
       "      <th>1</th>\n",
       "      <td>5.0</td>\n",
       "      <td>5.0</td>\n",
       "      <td>5.0</td>\n",
       "      <td>5.0</td>\n",
       "      <td>4.0</td>\n",
       "      <td>5.0</td>\n",
       "    </tr>\n",
       "    <tr>\n",
       "      <th>2</th>\n",
       "      <td>2.0</td>\n",
       "      <td>5.0</td>\n",
       "      <td>5.0</td>\n",
       "      <td>3.0</td>\n",
       "      <td>4.0</td>\n",
       "      <td>3.0</td>\n",
       "    </tr>\n",
       "    <tr>\n",
       "      <th>3</th>\n",
       "      <td>4.0</td>\n",
       "      <td>4.0</td>\n",
       "      <td>5.0</td>\n",
       "      <td>4.0</td>\n",
       "      <td>4.0</td>\n",
       "      <td>4.0</td>\n",
       "    </tr>\n",
       "    <tr>\n",
       "      <th>4</th>\n",
       "      <td>3.0</td>\n",
       "      <td>5.0</td>\n",
       "      <td>5.0</td>\n",
       "      <td>5.0</td>\n",
       "      <td>5.0</td>\n",
       "      <td>4.0</td>\n",
       "    </tr>\n",
       "  </tbody>\n",
       "</table>\n",
       "</div>"
      ],
      "text/plain": [
       "   work_life_balance  culture_values  diversity_inclusion  career_opp  \\\n",
       "0                3.0             5.0                  5.0         5.0   \n",
       "1                5.0             5.0                  5.0         5.0   \n",
       "2                2.0             5.0                  5.0         3.0   \n",
       "3                4.0             4.0                  5.0         4.0   \n",
       "4                3.0             5.0                  5.0         5.0   \n",
       "\n",
       "   comp_benefits  senior_mgmt  \n",
       "0            5.0          4.0  \n",
       "1            4.0          5.0  \n",
       "2            4.0          3.0  \n",
       "3            4.0          4.0  \n",
       "4            5.0          4.0  "
      ]
     },
     "execution_count": 31,
     "metadata": {},
     "output_type": "execute_result"
    }
   ],
   "source": [
    "X_train_res.head()"
   ]
  },
  {
   "cell_type": "code",
   "execution_count": 32,
   "metadata": {},
   "outputs": [
    {
     "data": {
      "text/html": [
       "<div>\n",
       "<style scoped>\n",
       "    .dataframe tbody tr th:only-of-type {\n",
       "        vertical-align: middle;\n",
       "    }\n",
       "\n",
       "    .dataframe tbody tr th {\n",
       "        vertical-align: top;\n",
       "    }\n",
       "\n",
       "    .dataframe thead th {\n",
       "        text-align: right;\n",
       "    }\n",
       "</style>\n",
       "<table border=\"1\" class=\"dataframe\">\n",
       "  <thead>\n",
       "    <tr style=\"text-align: right;\">\n",
       "      <th></th>\n",
       "      <th>work_life_balance</th>\n",
       "      <th>culture_values</th>\n",
       "      <th>diversity_inclusion</th>\n",
       "      <th>career_opp</th>\n",
       "      <th>comp_benefits</th>\n",
       "      <th>senior_mgmt</th>\n",
       "    </tr>\n",
       "  </thead>\n",
       "  <tbody>\n",
       "    <tr>\n",
       "      <th>count</th>\n",
       "      <td>366446.000000</td>\n",
       "      <td>366446.000000</td>\n",
       "      <td>366446.000000</td>\n",
       "      <td>366446.000000</td>\n",
       "      <td>366446.000000</td>\n",
       "      <td>366446.000000</td>\n",
       "    </tr>\n",
       "    <tr>\n",
       "      <th>mean</th>\n",
       "      <td>3.546700</td>\n",
       "      <td>3.852011</td>\n",
       "      <td>4.683645</td>\n",
       "      <td>3.694501</td>\n",
       "      <td>3.596213</td>\n",
       "      <td>3.342274</td>\n",
       "    </tr>\n",
       "    <tr>\n",
       "      <th>std</th>\n",
       "      <td>1.261582</td>\n",
       "      <td>1.262108</td>\n",
       "      <td>0.805043</td>\n",
       "      <td>1.224915</td>\n",
       "      <td>1.197141</td>\n",
       "      <td>1.293005</td>\n",
       "    </tr>\n",
       "    <tr>\n",
       "      <th>min</th>\n",
       "      <td>1.000000</td>\n",
       "      <td>1.000000</td>\n",
       "      <td>1.000000</td>\n",
       "      <td>1.000000</td>\n",
       "      <td>1.000000</td>\n",
       "      <td>1.000000</td>\n",
       "    </tr>\n",
       "    <tr>\n",
       "      <th>25%</th>\n",
       "      <td>3.000000</td>\n",
       "      <td>3.000000</td>\n",
       "      <td>5.000000</td>\n",
       "      <td>3.000000</td>\n",
       "      <td>3.000000</td>\n",
       "      <td>3.000000</td>\n",
       "    </tr>\n",
       "    <tr>\n",
       "      <th>50%</th>\n",
       "      <td>4.000000</td>\n",
       "      <td>4.000000</td>\n",
       "      <td>5.000000</td>\n",
       "      <td>4.000000</td>\n",
       "      <td>4.000000</td>\n",
       "      <td>3.000000</td>\n",
       "    </tr>\n",
       "    <tr>\n",
       "      <th>75%</th>\n",
       "      <td>5.000000</td>\n",
       "      <td>5.000000</td>\n",
       "      <td>5.000000</td>\n",
       "      <td>5.000000</td>\n",
       "      <td>5.000000</td>\n",
       "      <td>4.000000</td>\n",
       "    </tr>\n",
       "    <tr>\n",
       "      <th>max</th>\n",
       "      <td>5.000000</td>\n",
       "      <td>5.000000</td>\n",
       "      <td>5.000000</td>\n",
       "      <td>5.000000</td>\n",
       "      <td>5.000000</td>\n",
       "      <td>5.000000</td>\n",
       "    </tr>\n",
       "  </tbody>\n",
       "</table>\n",
       "</div>"
      ],
      "text/plain": [
       "       work_life_balance  culture_values  diversity_inclusion     career_opp  \\\n",
       "count      366446.000000   366446.000000        366446.000000  366446.000000   \n",
       "mean            3.546700        3.852011             4.683645       3.694501   \n",
       "std             1.261582        1.262108             0.805043       1.224915   \n",
       "min             1.000000        1.000000             1.000000       1.000000   \n",
       "25%             3.000000        3.000000             5.000000       3.000000   \n",
       "50%             4.000000        4.000000             5.000000       4.000000   \n",
       "75%             5.000000        5.000000             5.000000       5.000000   \n",
       "max             5.000000        5.000000             5.000000       5.000000   \n",
       "\n",
       "       comp_benefits    senior_mgmt  \n",
       "count  366446.000000  366446.000000  \n",
       "mean        3.596213       3.342274  \n",
       "std         1.197141       1.293005  \n",
       "min         1.000000       1.000000  \n",
       "25%         3.000000       3.000000  \n",
       "50%         4.000000       3.000000  \n",
       "75%         5.000000       4.000000  \n",
       "max         5.000000       5.000000  "
      ]
     },
     "execution_count": 32,
     "metadata": {},
     "output_type": "execute_result"
    }
   ],
   "source": [
    "X_train.describe()"
   ]
  },
  {
   "cell_type": "code",
   "execution_count": 44,
   "metadata": {},
   "outputs": [
    {
     "data": {
      "text/plain": [
       "4    121132\n",
       "5    121132\n",
       "3    121132\n",
       "1    121132\n",
       "2    121132\n",
       "Name: overall_rating, dtype: int64"
      ]
     },
     "execution_count": 44,
     "metadata": {},
     "output_type": "execute_result"
    }
   ],
   "source": [
    "y_train_res.value_counts()"
   ]
  },
  {
   "cell_type": "code",
   "execution_count": 34,
   "metadata": {},
   "outputs": [
    {
     "data": {
      "text/plain": [
       "array([4, 5, 3, 1, 2], dtype=int64)"
      ]
     },
     "execution_count": 34,
     "metadata": {},
     "output_type": "execute_result"
    }
   ],
   "source": [
    "y_train.unique()"
   ]
  },
  {
   "cell_type": "code",
   "execution_count": null,
   "metadata": {},
   "outputs": [
    {
     "data": {
      "text/plain": [
       "(605660,)"
      ]
     },
     "execution_count": 49,
     "metadata": {},
     "output_type": "execute_result"
    }
   ],
   "source": [
    "y_train_res.shape"
   ]
  },
  {
   "cell_type": "code",
   "execution_count": 38,
   "metadata": {},
   "outputs": [
    {
     "data": {
      "text/html": [
       "<div>\n",
       "<style scoped>\n",
       "    .dataframe tbody tr th:only-of-type {\n",
       "        vertical-align: middle;\n",
       "    }\n",
       "\n",
       "    .dataframe tbody tr th {\n",
       "        vertical-align: top;\n",
       "    }\n",
       "\n",
       "    .dataframe thead th {\n",
       "        text-align: right;\n",
       "    }\n",
       "</style>\n",
       "<table border=\"1\" class=\"dataframe\">\n",
       "  <thead>\n",
       "    <tr style=\"text-align: right;\">\n",
       "      <th></th>\n",
       "      <th>work_life_balance</th>\n",
       "      <th>culture_values</th>\n",
       "      <th>diversity_inclusion</th>\n",
       "      <th>career_opp</th>\n",
       "      <th>comp_benefits</th>\n",
       "      <th>senior_mgmt</th>\n",
       "    </tr>\n",
       "  </thead>\n",
       "  <tbody>\n",
       "    <tr>\n",
       "      <th>0</th>\n",
       "      <td>3.0</td>\n",
       "      <td>5.0</td>\n",
       "      <td>5.0</td>\n",
       "      <td>5.0</td>\n",
       "      <td>5.0</td>\n",
       "      <td>4.0</td>\n",
       "    </tr>\n",
       "    <tr>\n",
       "      <th>1</th>\n",
       "      <td>5.0</td>\n",
       "      <td>5.0</td>\n",
       "      <td>5.0</td>\n",
       "      <td>5.0</td>\n",
       "      <td>4.0</td>\n",
       "      <td>5.0</td>\n",
       "    </tr>\n",
       "    <tr>\n",
       "      <th>2</th>\n",
       "      <td>2.0</td>\n",
       "      <td>5.0</td>\n",
       "      <td>5.0</td>\n",
       "      <td>3.0</td>\n",
       "      <td>4.0</td>\n",
       "      <td>3.0</td>\n",
       "    </tr>\n",
       "    <tr>\n",
       "      <th>3</th>\n",
       "      <td>4.0</td>\n",
       "      <td>4.0</td>\n",
       "      <td>5.0</td>\n",
       "      <td>4.0</td>\n",
       "      <td>4.0</td>\n",
       "      <td>4.0</td>\n",
       "    </tr>\n",
       "    <tr>\n",
       "      <th>4</th>\n",
       "      <td>3.0</td>\n",
       "      <td>5.0</td>\n",
       "      <td>5.0</td>\n",
       "      <td>5.0</td>\n",
       "      <td>5.0</td>\n",
       "      <td>4.0</td>\n",
       "    </tr>\n",
       "  </tbody>\n",
       "</table>\n",
       "</div>"
      ],
      "text/plain": [
       "   work_life_balance  culture_values  diversity_inclusion  career_opp  \\\n",
       "0                3.0             5.0                  5.0         5.0   \n",
       "1                5.0             5.0                  5.0         5.0   \n",
       "2                2.0             5.0                  5.0         3.0   \n",
       "3                4.0             4.0                  5.0         4.0   \n",
       "4                3.0             5.0                  5.0         5.0   \n",
       "\n",
       "   comp_benefits  senior_mgmt  \n",
       "0            5.0          4.0  \n",
       "1            4.0          5.0  \n",
       "2            4.0          3.0  \n",
       "3            4.0          4.0  \n",
       "4            5.0          4.0  "
      ]
     },
     "execution_count": 38,
     "metadata": {},
     "output_type": "execute_result"
    }
   ],
   "source": [
    "X_train_res.head()"
   ]
  },
  {
   "cell_type": "code",
   "execution_count": 39,
   "metadata": {},
   "outputs": [
    {
     "data": {
      "text/plain": [
       "0         4\n",
       "1         5\n",
       "2         3\n",
       "3         5\n",
       "4         4\n",
       "         ..\n",
       "605655    5\n",
       "605656    5\n",
       "605657    5\n",
       "605658    5\n",
       "605659    5\n",
       "Name: overall_rating, Length: 605660, dtype: int64"
      ]
     },
     "execution_count": 39,
     "metadata": {},
     "output_type": "execute_result"
    }
   ],
   "source": [
    "y_train_res"
   ]
  },
  {
   "cell_type": "markdown",
   "metadata": {},
   "source": [
    "### Decision tree"
   ]
  },
  {
   "cell_type": "code",
   "execution_count": 99,
   "metadata": {},
   "outputs": [
    {
     "name": "stdout",
     "output_type": "stream",
     "text": [
      "train 0.8396218595854843\n",
      "0.8248209607904923\n",
      "0.6475175664531067\n",
      "0.4922975368138547\n"
     ]
    }
   ],
   "source": [
    "dt_reg = DecisionTreeRegressor()\n",
    "dt_reg.fit(X_train_res, y_train_res)\n",
    "y_train_pred_dt_reg = dt_reg.predict(X_train_res)\n",
    "y_test_pred_dt_reg  = dt_reg.predict(X_test)\n",
    "\n",
    "print ('train', (np.sqrt(mean_squared_error(y_train_res, y_train_pred_dt_reg))))\n",
    "print (np.sqrt(mean_squared_error(y_test, y_test_pred_dt_reg)))\n",
    "\n",
    "print (r2_score(y_train_res, y_train_pred_dt_reg))\n",
    "print (r2_score(y_test, y_test_pred_dt_reg))\n",
    "\n"
   ]
  },
  {
   "cell_type": "code",
   "execution_count": 62,
   "metadata": {},
   "outputs": [
    {
     "data": {
      "text/plain": [
       "0.6475175664531067"
      ]
     },
     "execution_count": 62,
     "metadata": {},
     "output_type": "execute_result"
    }
   ],
   "source": [
    "DecisionTree_Score=(r2_score(y_train_res, y_train_pred_dt_reg))\n",
    "DecisionTree_Score"
   ]
  },
  {
   "cell_type": "code",
   "execution_count": 91,
   "metadata": {},
   "outputs": [
    {
     "name": "stdout",
     "output_type": "stream",
     "text": [
      "mean cross validation score: -0.5601234697054777\n",
      "score without cv: 0.6475175664531067\n"
     ]
    }
   ],
   "source": [
    "dt_scores = cross_val_score (dt_reg, X_train_res, y_train_res, cv = 5)\n",
    "print(\"mean cross validation score: {}\".format(np.mean(dt_scores)))\n",
    "print(\"score without cv: {}\".format(dt_reg.score(X_train_res, y_train_res)))"
   ]
  },
  {
   "cell_type": "markdown",
   "metadata": {},
   "source": [
    "### KNN Model"
   ]
  },
  {
   "cell_type": "code",
   "execution_count": 57,
   "metadata": {},
   "outputs": [
    {
     "data": {
      "text/plain": [
       "0.518506362793481"
      ]
     },
     "execution_count": 57,
     "metadata": {},
     "output_type": "execute_result"
    }
   ],
   "source": [
    "# Instance and fit\n",
    "knn_model = KNeighborsRegressor(n_neighbors=5).fit(X_train, y_train)\n",
    "\n",
    "# Score\n",
    "score_knn = knn_model.score(X_test, y_test)\n",
    "score_knn"
   ]
  },
  {
   "cell_type": "code",
   "execution_count": 58,
   "metadata": {},
   "outputs": [
    {
     "data": {
      "text/html": [
       "<div>\n",
       "<style scoped>\n",
       "    .dataframe tbody tr th:only-of-type {\n",
       "        vertical-align: middle;\n",
       "    }\n",
       "\n",
       "    .dataframe tbody tr th {\n",
       "        vertical-align: top;\n",
       "    }\n",
       "\n",
       "    .dataframe thead th {\n",
       "        text-align: right;\n",
       "    }\n",
       "</style>\n",
       "<table border=\"1\" class=\"dataframe\">\n",
       "  <thead>\n",
       "    <tr style=\"text-align: right;\">\n",
       "      <th></th>\n",
       "      <th>True Value</th>\n",
       "      <th>Prediction</th>\n",
       "      <th>Error</th>\n",
       "    </tr>\n",
       "  </thead>\n",
       "  <tbody>\n",
       "    <tr>\n",
       "      <th>437677</th>\n",
       "      <td>2</td>\n",
       "      <td>1.0</td>\n",
       "      <td>1.0</td>\n",
       "    </tr>\n",
       "    <tr>\n",
       "      <th>154659</th>\n",
       "      <td>4</td>\n",
       "      <td>4.0</td>\n",
       "      <td>0.0</td>\n",
       "    </tr>\n",
       "    <tr>\n",
       "      <th>218122</th>\n",
       "      <td>5</td>\n",
       "      <td>5.0</td>\n",
       "      <td>0.0</td>\n",
       "    </tr>\n",
       "    <tr>\n",
       "      <th>23815</th>\n",
       "      <td>5</td>\n",
       "      <td>5.0</td>\n",
       "      <td>0.0</td>\n",
       "    </tr>\n",
       "    <tr>\n",
       "      <th>99571</th>\n",
       "      <td>3</td>\n",
       "      <td>2.0</td>\n",
       "      <td>1.0</td>\n",
       "    </tr>\n",
       "    <tr>\n",
       "      <th>...</th>\n",
       "      <td>...</td>\n",
       "      <td>...</td>\n",
       "      <td>...</td>\n",
       "    </tr>\n",
       "    <tr>\n",
       "      <th>131528</th>\n",
       "      <td>5</td>\n",
       "      <td>5.0</td>\n",
       "      <td>0.0</td>\n",
       "    </tr>\n",
       "    <tr>\n",
       "      <th>316859</th>\n",
       "      <td>3</td>\n",
       "      <td>3.0</td>\n",
       "      <td>0.0</td>\n",
       "    </tr>\n",
       "    <tr>\n",
       "      <th>208851</th>\n",
       "      <td>4</td>\n",
       "      <td>4.8</td>\n",
       "      <td>-0.8</td>\n",
       "    </tr>\n",
       "    <tr>\n",
       "      <th>353249</th>\n",
       "      <td>4</td>\n",
       "      <td>4.6</td>\n",
       "      <td>-0.6</td>\n",
       "    </tr>\n",
       "    <tr>\n",
       "      <th>186900</th>\n",
       "      <td>3</td>\n",
       "      <td>4.4</td>\n",
       "      <td>-1.4</td>\n",
       "    </tr>\n",
       "  </tbody>\n",
       "</table>\n",
       "<p>91612 rows × 3 columns</p>\n",
       "</div>"
      ],
      "text/plain": [
       "        True Value  Prediction  Error\n",
       "437677           2         1.0    1.0\n",
       "154659           4         4.0    0.0\n",
       "218122           5         5.0    0.0\n",
       "23815            5         5.0    0.0\n",
       "99571            3         2.0    1.0\n",
       "...            ...         ...    ...\n",
       "131528           5         5.0    0.0\n",
       "316859           3         3.0    0.0\n",
       "208851           4         4.8   -0.8\n",
       "353249           4         4.6   -0.6\n",
       "186900           3         4.4   -1.4\n",
       "\n",
       "[91612 rows x 3 columns]"
      ]
     },
     "execution_count": 58,
     "metadata": {},
     "output_type": "execute_result"
    }
   ],
   "source": [
    "# Predictions\n",
    "preds = knn_model.predict(X_test)\n",
    "\n",
    "# Performance\n",
    "performance = pd.DataFrame({ 'True Value': y_test,\n",
    "                            'Prediction': preds,\n",
    "                            'Error': y_test - preds})\n",
    "# View\n",
    "performance"
   ]
  },
  {
   "cell_type": "markdown",
   "metadata": {},
   "source": [
    "### Random Forest Model"
   ]
  },
  {
   "cell_type": "code",
   "execution_count": 100,
   "metadata": {},
   "outputs": [
    {
     "data": {
      "text/html": [
       "<style>#sk-container-id-1 {color: black;background-color: white;}#sk-container-id-1 pre{padding: 0;}#sk-container-id-1 div.sk-toggleable {background-color: white;}#sk-container-id-1 label.sk-toggleable__label {cursor: pointer;display: block;width: 100%;margin-bottom: 0;padding: 0.3em;box-sizing: border-box;text-align: center;}#sk-container-id-1 label.sk-toggleable__label-arrow:before {content: \"▸\";float: left;margin-right: 0.25em;color: #696969;}#sk-container-id-1 label.sk-toggleable__label-arrow:hover:before {color: black;}#sk-container-id-1 div.sk-estimator:hover label.sk-toggleable__label-arrow:before {color: black;}#sk-container-id-1 div.sk-toggleable__content {max-height: 0;max-width: 0;overflow: hidden;text-align: left;background-color: #f0f8ff;}#sk-container-id-1 div.sk-toggleable__content pre {margin: 0.2em;color: black;border-radius: 0.25em;background-color: #f0f8ff;}#sk-container-id-1 input.sk-toggleable__control:checked~div.sk-toggleable__content {max-height: 200px;max-width: 100%;overflow: auto;}#sk-container-id-1 input.sk-toggleable__control:checked~label.sk-toggleable__label-arrow:before {content: \"▾\";}#sk-container-id-1 div.sk-estimator input.sk-toggleable__control:checked~label.sk-toggleable__label {background-color: #d4ebff;}#sk-container-id-1 div.sk-label input.sk-toggleable__control:checked~label.sk-toggleable__label {background-color: #d4ebff;}#sk-container-id-1 input.sk-hidden--visually {border: 0;clip: rect(1px 1px 1px 1px);clip: rect(1px, 1px, 1px, 1px);height: 1px;margin: -1px;overflow: hidden;padding: 0;position: absolute;width: 1px;}#sk-container-id-1 div.sk-estimator {font-family: monospace;background-color: #f0f8ff;border: 1px dotted black;border-radius: 0.25em;box-sizing: border-box;margin-bottom: 0.5em;}#sk-container-id-1 div.sk-estimator:hover {background-color: #d4ebff;}#sk-container-id-1 div.sk-parallel-item::after {content: \"\";width: 100%;border-bottom: 1px solid gray;flex-grow: 1;}#sk-container-id-1 div.sk-label:hover label.sk-toggleable__label {background-color: #d4ebff;}#sk-container-id-1 div.sk-serial::before {content: \"\";position: absolute;border-left: 1px solid gray;box-sizing: border-box;top: 0;bottom: 0;left: 50%;z-index: 0;}#sk-container-id-1 div.sk-serial {display: flex;flex-direction: column;align-items: center;background-color: white;padding-right: 0.2em;padding-left: 0.2em;position: relative;}#sk-container-id-1 div.sk-item {position: relative;z-index: 1;}#sk-container-id-1 div.sk-parallel {display: flex;align-items: stretch;justify-content: center;background-color: white;position: relative;}#sk-container-id-1 div.sk-item::before, #sk-container-id-1 div.sk-parallel-item::before {content: \"\";position: absolute;border-left: 1px solid gray;box-sizing: border-box;top: 0;bottom: 0;left: 50%;z-index: -1;}#sk-container-id-1 div.sk-parallel-item {display: flex;flex-direction: column;z-index: 1;position: relative;background-color: white;}#sk-container-id-1 div.sk-parallel-item:first-child::after {align-self: flex-end;width: 50%;}#sk-container-id-1 div.sk-parallel-item:last-child::after {align-self: flex-start;width: 50%;}#sk-container-id-1 div.sk-parallel-item:only-child::after {width: 0;}#sk-container-id-1 div.sk-dashed-wrapped {border: 1px dashed gray;margin: 0 0.4em 0.5em 0.4em;box-sizing: border-box;padding-bottom: 0.4em;background-color: white;}#sk-container-id-1 div.sk-label label {font-family: monospace;font-weight: bold;display: inline-block;line-height: 1.2em;}#sk-container-id-1 div.sk-label-container {text-align: center;}#sk-container-id-1 div.sk-container {/* jupyter's `normalize.less` sets `[hidden] { display: none; }` but bootstrap.min.css set `[hidden] { display: none !important; }` so we also need the `!important` here to be able to override the default hidden behavior on the sphinx rendered scikit-learn.org. See: https://github.com/scikit-learn/scikit-learn/issues/21755 */display: inline-block !important;position: relative;}#sk-container-id-1 div.sk-text-repr-fallback {display: none;}</style><div id=\"sk-container-id-1\" class=\"sk-top-container\"><div class=\"sk-text-repr-fallback\"><pre>RandomForestRegressor(n_estimators=1000, random_state=42)</pre><b>In a Jupyter environment, please rerun this cell to show the HTML representation or trust the notebook. <br />On GitHub, the HTML representation is unable to render, please try loading this page with nbviewer.org.</b></div><div class=\"sk-container\" hidden><div class=\"sk-item\"><div class=\"sk-estimator sk-toggleable\"><input class=\"sk-toggleable__control sk-hidden--visually\" id=\"sk-estimator-id-1\" type=\"checkbox\" checked><label for=\"sk-estimator-id-1\" class=\"sk-toggleable__label sk-toggleable__label-arrow\">RandomForestRegressor</label><div class=\"sk-toggleable__content\"><pre>RandomForestRegressor(n_estimators=1000, random_state=42)</pre></div></div></div></div></div>"
      ],
      "text/plain": [
       "RandomForestRegressor(n_estimators=1000, random_state=42)"
      ]
     },
     "execution_count": 100,
     "metadata": {},
     "output_type": "execute_result"
    }
   ],
   "source": [
    "# Import the model we are using\n",
    "from sklearn.ensemble import RandomForestRegressor\n",
    "# Instantiate model with 1000 decision trees\n",
    "rf = RandomForestRegressor(n_estimators = 1000, random_state = 42)\n",
    "# Train the model on training data\n",
    "rf.fit(X_train, y_train)"
   ]
  },
  {
   "cell_type": "code",
   "execution_count": 110,
   "metadata": {},
   "outputs": [
    {
     "data": {
      "text/plain": [
       "[(0.5746029975087009, 'culture_values'),\n",
       " (0.23100800601700905, 'senior_mgmt'),\n",
       " (0.10947077946231447, 'career_opp'),\n",
       " (0.03784792832950623, 'work_life_balance'),\n",
       " (0.031187103718220296, 'comp_benefits'),\n",
       " (0.0158831849642489, 'diversity_inclusion')]"
      ]
     },
     "execution_count": 110,
     "metadata": {},
     "output_type": "execute_result"
    }
   ],
   "source": [
    "importances = list(zip(rf.feature_importances_.tolist(), X_train.columns.tolist()))\n",
    "importances.sort(reverse=True)\n",
    "importances"
   ]
  },
  {
   "cell_type": "code",
   "execution_count": 101,
   "metadata": {},
   "outputs": [
    {
     "data": {
      "text/plain": [
       "array([4.00449058, 4.86581118, 3.84902309, ..., 3.83703882, 4.00643191,\n",
       "       2.75288985])"
      ]
     },
     "execution_count": 101,
     "metadata": {},
     "output_type": "execute_result"
    }
   ],
   "source": [
    "y_pred_rf = rf.predict(X_train)\n",
    "y_pred_rf"
   ]
  },
  {
   "cell_type": "code",
   "execution_count": 102,
   "metadata": {},
   "outputs": [
    {
     "name": "stdout",
     "output_type": "stream",
     "text": [
      "\n",
      "RMSE:\n",
      " 0.736\n"
     ]
    }
   ],
   "source": [
    "# RMSE (Root Mean Square Error)\n",
    "rmse = float(format(np.sqrt(mean_squared_error(y_train, y_pred_rf)),'.3f'))\n",
    "print(\"\\nRMSE:\\n\",rmse)"
   ]
  },
  {
   "cell_type": "markdown",
   "metadata": {},
   "source": [
    "### Model Comparission"
   ]
  },
  {
   "cell_type": "code",
   "execution_count": 103,
   "metadata": {},
   "outputs": [
    {
     "data": {
      "text/html": [
       "<div>\n",
       "<style scoped>\n",
       "    .dataframe tbody tr th:only-of-type {\n",
       "        vertical-align: middle;\n",
       "    }\n",
       "\n",
       "    .dataframe tbody tr th {\n",
       "        vertical-align: top;\n",
       "    }\n",
       "\n",
       "    .dataframe thead th {\n",
       "        text-align: right;\n",
       "    }\n",
       "</style>\n",
       "<table border=\"1\" class=\"dataframe\">\n",
       "  <thead>\n",
       "    <tr style=\"text-align: right;\">\n",
       "      <th></th>\n",
       "      <th>Decision_Tree_Reg</th>\n",
       "      <th>KNN Regression</th>\n",
       "      <th>Random_Forest</th>\n",
       "    </tr>\n",
       "  </thead>\n",
       "  <tbody>\n",
       "    <tr>\n",
       "      <th>0</th>\n",
       "      <td>0.647518</td>\n",
       "      <td>0.518506</td>\n",
       "      <td>0.736</td>\n",
       "    </tr>\n",
       "  </tbody>\n",
       "</table>\n",
       "</div>"
      ],
      "text/plain": [
       "   Decision_Tree_Reg  KNN Regression  Random_Forest\n",
       "0           0.647518        0.518506          0.736"
      ]
     },
     "execution_count": 103,
     "metadata": {},
     "output_type": "execute_result"
    }
   ],
   "source": [
    "pd.DataFrame({ 'Decision_Tree_Reg': [DecisionTree_Score],\n",
    "              'KNN Regression': [score_knn],\n",
    "              'Random_Forest': [rmse]})"
   ]
  }
 ],
 "metadata": {
  "kernelspec": {
   "display_name": "Python 3.9.15 ('Final_Project')",
   "language": "python",
   "name": "python3"
  },
  "language_info": {
   "codemirror_mode": {
    "name": "ipython",
    "version": 3
   },
   "file_extension": ".py",
   "mimetype": "text/x-python",
   "name": "python",
   "nbconvert_exporter": "python",
   "pygments_lexer": "ipython3",
   "version": "3.9.15"
  },
  "orig_nbformat": 4,
  "vscode": {
   "interpreter": {
    "hash": "2d3d602cfa194a216c40903d4f687b7a2a69168e4a9920d33652664fab934e14"
   }
  }
 },
 "nbformat": 4,
 "nbformat_minor": 2
}
