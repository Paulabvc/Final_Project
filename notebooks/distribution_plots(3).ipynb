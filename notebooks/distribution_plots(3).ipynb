{
 "cells": [
  {
   "cell_type": "code",
   "execution_count": 103,
   "metadata": {},
   "outputs": [],
   "source": [
    "import pandas as pd\n",
    "import numpy as np\n",
    "from scipy import stats\n",
    "import re\n",
    "from sklearn import linear_model\n",
    "from sklearn.metrics import mean_squared_error, r2_score\n",
    "import seaborn as sns\n",
    "import matplotlib.pyplot as plt\n",
    "from sklearn.utils import resample\n",
    "from sklearn.model_selection import train_test_split\n",
    "from sklearn.linear_model import LogisticRegression\n",
    "from sklearn.metrics import accuracy_score, precision_score, recall_score, f1_score\n",
    "from sklearn.metrics import classification_report, cohen_kappa_score\n",
    "from sklearn.metrics import confusion_matrix, ConfusionMatrixDisplay\n",
    "from sklearn.metrics import classification_report\n",
    "from sklearn.metrics import cohen_kappa_score\n",
    "from sklearn.tree import DecisionTreeRegressor\n",
    "from sklearn.model_selection import cross_validate\n",
    "from sklearn.cluster import KMeans\n",
    "from sklearn.cluster import DBSCAN\n",
    "from sklearn import metrics\n",
    "from sklearn.datasets import make_blobs"
   ]
  },
  {
   "cell_type": "code",
   "execution_count": 2,
   "metadata": {},
   "outputs": [
    {
     "data": {
      "text/html": [
       "<div>\n",
       "<style scoped>\n",
       "    .dataframe tbody tr th:only-of-type {\n",
       "        vertical-align: middle;\n",
       "    }\n",
       "\n",
       "    .dataframe tbody tr th {\n",
       "        vertical-align: top;\n",
       "    }\n",
       "\n",
       "    .dataframe thead th {\n",
       "        text-align: right;\n",
       "    }\n",
       "</style>\n",
       "<table border=\"1\" class=\"dataframe\">\n",
       "  <thead>\n",
       "    <tr style=\"text-align: right;\">\n",
       "      <th></th>\n",
       "      <th>firm</th>\n",
       "      <th>date_review</th>\n",
       "      <th>job_title</th>\n",
       "      <th>current</th>\n",
       "      <th>location</th>\n",
       "      <th>overall_rating</th>\n",
       "      <th>work_life_balance</th>\n",
       "      <th>culture_values</th>\n",
       "      <th>diversity_inclusion</th>\n",
       "      <th>career_opp</th>\n",
       "      <th>comp_benefits</th>\n",
       "      <th>senior_mgmt</th>\n",
       "      <th>recommend</th>\n",
       "      <th>ceo_approv</th>\n",
       "      <th>outlook</th>\n",
       "      <th>headline</th>\n",
       "      <th>pros</th>\n",
       "      <th>cons</th>\n",
       "      <th>year</th>\n",
       "      <th>status</th>\n",
       "    </tr>\n",
       "  </thead>\n",
       "  <tbody>\n",
       "    <tr>\n",
       "      <th>0</th>\n",
       "      <td>ALDI</td>\n",
       "      <td>2018-01-11</td>\n",
       "      <td>Store Assistant</td>\n",
       "      <td>Current Employee, more than 1 year</td>\n",
       "      <td>Market Harborough, England, England</td>\n",
       "      <td>1</td>\n",
       "      <td>1.0</td>\n",
       "      <td>3.0</td>\n",
       "      <td>5.0</td>\n",
       "      <td>1.0</td>\n",
       "      <td>4.0</td>\n",
       "      <td>2.0</td>\n",
       "      <td>x</td>\n",
       "      <td>o</td>\n",
       "      <td>v</td>\n",
       "      <td>Cannot WAIT to hand in my resignation!</td>\n",
       "      <td>Good pay for role, decent benefits package,  n...</td>\n",
       "      <td>**THIS  IS SPECIFIC TO  MKT H'BRO STORE - I  s...</td>\n",
       "      <td>2018</td>\n",
       "      <td>C</td>\n",
       "    </tr>\n",
       "    <tr>\n",
       "      <th>1</th>\n",
       "      <td>ALDI</td>\n",
       "      <td>2018-01-12</td>\n",
       "      <td>Deputy Manager</td>\n",
       "      <td>Current Employee, more than 5 years</td>\n",
       "      <td>Tamworth, England, England</td>\n",
       "      <td>4</td>\n",
       "      <td>3.0</td>\n",
       "      <td>4.0</td>\n",
       "      <td>5.0</td>\n",
       "      <td>2.0</td>\n",
       "      <td>3.0</td>\n",
       "      <td>2.0</td>\n",
       "      <td>v</td>\n",
       "      <td>r</td>\n",
       "      <td>r</td>\n",
       "      <td>Deputy manager</td>\n",
       "      <td>good company to work for very addaptable for p...</td>\n",
       "      <td>dont push for progression for everyone</td>\n",
       "      <td>2018</td>\n",
       "      <td>C</td>\n",
       "    </tr>\n",
       "    <tr>\n",
       "      <th>2</th>\n",
       "      <td>ALDI</td>\n",
       "      <td>2018-01-28</td>\n",
       "      <td>Store Manager</td>\n",
       "      <td>Current Employee, more than 5 years</td>\n",
       "      <td>Ellesmere Port, England, England</td>\n",
       "      <td>4</td>\n",
       "      <td>1.0</td>\n",
       "      <td>5.0</td>\n",
       "      <td>5.0</td>\n",
       "      <td>5.0</td>\n",
       "      <td>4.0</td>\n",
       "      <td>1.0</td>\n",
       "      <td>v</td>\n",
       "      <td>v</td>\n",
       "      <td>v</td>\n",
       "      <td>It WILL make you or break you</td>\n",
       "      <td>Huge amount of responsibility\\r\\nFree rain to ...</td>\n",
       "      <td>Little to no support from AM’s once the going ...</td>\n",
       "      <td>2018</td>\n",
       "      <td>C</td>\n",
       "    </tr>\n",
       "    <tr>\n",
       "      <th>3</th>\n",
       "      <td>ALDI</td>\n",
       "      <td>2018-01-30</td>\n",
       "      <td>Store Assistant</td>\n",
       "      <td>Former Employee, more than 1 year</td>\n",
       "      <td>Crewe, England, England</td>\n",
       "      <td>4</td>\n",
       "      <td>5.0</td>\n",
       "      <td>4.0</td>\n",
       "      <td>5.0</td>\n",
       "      <td>4.0</td>\n",
       "      <td>4.0</td>\n",
       "      <td>3.0</td>\n",
       "      <td>v</td>\n",
       "      <td>r</td>\n",
       "      <td>v</td>\n",
       "      <td>Store Assistant</td>\n",
       "      <td>Good pay and flexible working when part time</td>\n",
       "      <td>The work is very physically demanding</td>\n",
       "      <td>2018</td>\n",
       "      <td>F</td>\n",
       "    </tr>\n",
       "    <tr>\n",
       "      <th>4</th>\n",
       "      <td>ALDI</td>\n",
       "      <td>2018-02-01</td>\n",
       "      <td>Deputy Manager</td>\n",
       "      <td>Current Employee, more than 8 years</td>\n",
       "      <td>Stafford, England, England</td>\n",
       "      <td>2</td>\n",
       "      <td>1.0</td>\n",
       "      <td>1.0</td>\n",
       "      <td>5.0</td>\n",
       "      <td>2.0</td>\n",
       "      <td>3.0</td>\n",
       "      <td>1.0</td>\n",
       "      <td>o</td>\n",
       "      <td>r</td>\n",
       "      <td>x</td>\n",
       "      <td>Deputy manager. With 9 years experience</td>\n",
       "      <td>As a company aldi are good to work for. The pa...</td>\n",
       "      <td>In store it’s vile. I’ve worked in quite a few...</td>\n",
       "      <td>2018</td>\n",
       "      <td>C</td>\n",
       "    </tr>\n",
       "  </tbody>\n",
       "</table>\n",
       "</div>"
      ],
      "text/plain": [
       "   firm date_review         job_title                              current  \\\n",
       "0  ALDI  2018-01-11   Store Assistant   Current Employee, more than 1 year   \n",
       "1  ALDI  2018-01-12    Deputy Manager  Current Employee, more than 5 years   \n",
       "2  ALDI  2018-01-28     Store Manager  Current Employee, more than 5 years   \n",
       "3  ALDI  2018-01-30   Store Assistant    Former Employee, more than 1 year   \n",
       "4  ALDI  2018-02-01    Deputy Manager  Current Employee, more than 8 years   \n",
       "\n",
       "                              location  overall_rating  work_life_balance  \\\n",
       "0  Market Harborough, England, England               1                1.0   \n",
       "1           Tamworth, England, England               4                3.0   \n",
       "2     Ellesmere Port, England, England               4                1.0   \n",
       "3              Crewe, England, England               4                5.0   \n",
       "4           Stafford, England, England               2                1.0   \n",
       "\n",
       "   culture_values  diversity_inclusion  career_opp  comp_benefits  \\\n",
       "0             3.0                  5.0         1.0            4.0   \n",
       "1             4.0                  5.0         2.0            3.0   \n",
       "2             5.0                  5.0         5.0            4.0   \n",
       "3             4.0                  5.0         4.0            4.0   \n",
       "4             1.0                  5.0         2.0            3.0   \n",
       "\n",
       "   senior_mgmt recommend ceo_approv outlook  \\\n",
       "0          2.0         x          o       v   \n",
       "1          2.0         v          r       r   \n",
       "2          1.0         v          v       v   \n",
       "3          3.0         v          r       v   \n",
       "4          1.0         o          r       x   \n",
       "\n",
       "                                  headline  \\\n",
       "0   Cannot WAIT to hand in my resignation!   \n",
       "1                           Deputy manager   \n",
       "2            It WILL make you or break you   \n",
       "3                          Store Assistant   \n",
       "4  Deputy manager. With 9 years experience   \n",
       "\n",
       "                                                pros  \\\n",
       "0  Good pay for role, decent benefits package,  n...   \n",
       "1  good company to work for very addaptable for p...   \n",
       "2  Huge amount of responsibility\\r\\nFree rain to ...   \n",
       "3       Good pay and flexible working when part time   \n",
       "4  As a company aldi are good to work for. The pa...   \n",
       "\n",
       "                                                cons  year status  \n",
       "0  **THIS  IS SPECIFIC TO  MKT H'BRO STORE - I  s...  2018      C  \n",
       "1             dont push for progression for everyone  2018      C  \n",
       "2  Little to no support from AM’s once the going ...  2018      C  \n",
       "3              The work is very physically demanding  2018      F  \n",
       "4  In store it’s vile. I’ve worked in quite a few...  2018      C  "
      ]
     },
     "execution_count": 2,
     "metadata": {},
     "output_type": "execute_result"
    }
   ],
   "source": [
    "\n",
    "df=pd.read_csv('../data/clean/df_exp2.csv')\n",
    "df.head()"
   ]
  },
  {
   "cell_type": "code",
   "execution_count": 3,
   "metadata": {},
   "outputs": [
    {
     "data": {
      "text/plain": [
       "(458058, 20)"
      ]
     },
     "execution_count": 3,
     "metadata": {},
     "output_type": "execute_result"
    }
   ],
   "source": [
    "df.shape"
   ]
  },
  {
   "cell_type": "code",
   "execution_count": 4,
   "metadata": {},
   "outputs": [],
   "source": [
    "df=df.drop(['date_review','current'], axis=1)"
   ]
  },
  {
   "cell_type": "code",
   "execution_count": 5,
   "metadata": {},
   "outputs": [
    {
     "data": {
      "text/plain": [
       "(458058, 18)"
      ]
     },
     "execution_count": 5,
     "metadata": {},
     "output_type": "execute_result"
    }
   ],
   "source": [
    "df.shape"
   ]
  },
  {
   "cell_type": "code",
   "execution_count": 6,
   "metadata": {},
   "outputs": [],
   "source": [
    "df_num = df.select_dtypes(include=[np.number])\n",
    "df_cat = df.select_dtypes(exclude=[np.number])"
   ]
  },
  {
   "cell_type": "code",
   "execution_count": 7,
   "metadata": {},
   "outputs": [
    {
     "data": {
      "text/html": [
       "<div>\n",
       "<style scoped>\n",
       "    .dataframe tbody tr th:only-of-type {\n",
       "        vertical-align: middle;\n",
       "    }\n",
       "\n",
       "    .dataframe tbody tr th {\n",
       "        vertical-align: top;\n",
       "    }\n",
       "\n",
       "    .dataframe thead th {\n",
       "        text-align: right;\n",
       "    }\n",
       "</style>\n",
       "<table border=\"1\" class=\"dataframe\">\n",
       "  <thead>\n",
       "    <tr style=\"text-align: right;\">\n",
       "      <th></th>\n",
       "      <th>overall_rating</th>\n",
       "      <th>work_life_balance</th>\n",
       "      <th>culture_values</th>\n",
       "      <th>diversity_inclusion</th>\n",
       "      <th>career_opp</th>\n",
       "      <th>comp_benefits</th>\n",
       "      <th>senior_mgmt</th>\n",
       "      <th>year</th>\n",
       "    </tr>\n",
       "  </thead>\n",
       "  <tbody>\n",
       "    <tr>\n",
       "      <th>0</th>\n",
       "      <td>1</td>\n",
       "      <td>1.0</td>\n",
       "      <td>3.0</td>\n",
       "      <td>5.0</td>\n",
       "      <td>1.0</td>\n",
       "      <td>4.0</td>\n",
       "      <td>2.0</td>\n",
       "      <td>2018</td>\n",
       "    </tr>\n",
       "    <tr>\n",
       "      <th>1</th>\n",
       "      <td>4</td>\n",
       "      <td>3.0</td>\n",
       "      <td>4.0</td>\n",
       "      <td>5.0</td>\n",
       "      <td>2.0</td>\n",
       "      <td>3.0</td>\n",
       "      <td>2.0</td>\n",
       "      <td>2018</td>\n",
       "    </tr>\n",
       "    <tr>\n",
       "      <th>2</th>\n",
       "      <td>4</td>\n",
       "      <td>1.0</td>\n",
       "      <td>5.0</td>\n",
       "      <td>5.0</td>\n",
       "      <td>5.0</td>\n",
       "      <td>4.0</td>\n",
       "      <td>1.0</td>\n",
       "      <td>2018</td>\n",
       "    </tr>\n",
       "    <tr>\n",
       "      <th>3</th>\n",
       "      <td>4</td>\n",
       "      <td>5.0</td>\n",
       "      <td>4.0</td>\n",
       "      <td>5.0</td>\n",
       "      <td>4.0</td>\n",
       "      <td>4.0</td>\n",
       "      <td>3.0</td>\n",
       "      <td>2018</td>\n",
       "    </tr>\n",
       "    <tr>\n",
       "      <th>4</th>\n",
       "      <td>2</td>\n",
       "      <td>1.0</td>\n",
       "      <td>1.0</td>\n",
       "      <td>5.0</td>\n",
       "      <td>2.0</td>\n",
       "      <td>3.0</td>\n",
       "      <td>1.0</td>\n",
       "      <td>2018</td>\n",
       "    </tr>\n",
       "  </tbody>\n",
       "</table>\n",
       "</div>"
      ],
      "text/plain": [
       "   overall_rating  work_life_balance  culture_values  diversity_inclusion  \\\n",
       "0               1                1.0             3.0                  5.0   \n",
       "1               4                3.0             4.0                  5.0   \n",
       "2               4                1.0             5.0                  5.0   \n",
       "3               4                5.0             4.0                  5.0   \n",
       "4               2                1.0             1.0                  5.0   \n",
       "\n",
       "   career_opp  comp_benefits  senior_mgmt  year  \n",
       "0         1.0            4.0          2.0  2018  \n",
       "1         2.0            3.0          2.0  2018  \n",
       "2         5.0            4.0          1.0  2018  \n",
       "3         4.0            4.0          3.0  2018  \n",
       "4         2.0            3.0          1.0  2018  "
      ]
     },
     "execution_count": 7,
     "metadata": {},
     "output_type": "execute_result"
    }
   ],
   "source": [
    "df_num.head()"
   ]
  },
  {
   "cell_type": "code",
   "execution_count": 8,
   "metadata": {},
   "outputs": [
    {
     "data": {
      "text/html": [
       "<div>\n",
       "<style scoped>\n",
       "    .dataframe tbody tr th:only-of-type {\n",
       "        vertical-align: middle;\n",
       "    }\n",
       "\n",
       "    .dataframe tbody tr th {\n",
       "        vertical-align: top;\n",
       "    }\n",
       "\n",
       "    .dataframe thead th {\n",
       "        text-align: right;\n",
       "    }\n",
       "</style>\n",
       "<table border=\"1\" class=\"dataframe\">\n",
       "  <thead>\n",
       "    <tr style=\"text-align: right;\">\n",
       "      <th></th>\n",
       "      <th>firm</th>\n",
       "      <th>job_title</th>\n",
       "      <th>location</th>\n",
       "      <th>recommend</th>\n",
       "      <th>ceo_approv</th>\n",
       "      <th>outlook</th>\n",
       "      <th>headline</th>\n",
       "      <th>pros</th>\n",
       "      <th>cons</th>\n",
       "      <th>status</th>\n",
       "    </tr>\n",
       "  </thead>\n",
       "  <tbody>\n",
       "    <tr>\n",
       "      <th>0</th>\n",
       "      <td>ALDI</td>\n",
       "      <td>Store Assistant</td>\n",
       "      <td>Market Harborough, England, England</td>\n",
       "      <td>x</td>\n",
       "      <td>o</td>\n",
       "      <td>v</td>\n",
       "      <td>Cannot WAIT to hand in my resignation!</td>\n",
       "      <td>Good pay for role, decent benefits package,  n...</td>\n",
       "      <td>**THIS  IS SPECIFIC TO  MKT H'BRO STORE - I  s...</td>\n",
       "      <td>C</td>\n",
       "    </tr>\n",
       "    <tr>\n",
       "      <th>1</th>\n",
       "      <td>ALDI</td>\n",
       "      <td>Deputy Manager</td>\n",
       "      <td>Tamworth, England, England</td>\n",
       "      <td>v</td>\n",
       "      <td>r</td>\n",
       "      <td>r</td>\n",
       "      <td>Deputy manager</td>\n",
       "      <td>good company to work for very addaptable for p...</td>\n",
       "      <td>dont push for progression for everyone</td>\n",
       "      <td>C</td>\n",
       "    </tr>\n",
       "    <tr>\n",
       "      <th>2</th>\n",
       "      <td>ALDI</td>\n",
       "      <td>Store Manager</td>\n",
       "      <td>Ellesmere Port, England, England</td>\n",
       "      <td>v</td>\n",
       "      <td>v</td>\n",
       "      <td>v</td>\n",
       "      <td>It WILL make you or break you</td>\n",
       "      <td>Huge amount of responsibility\\r\\nFree rain to ...</td>\n",
       "      <td>Little to no support from AM’s once the going ...</td>\n",
       "      <td>C</td>\n",
       "    </tr>\n",
       "    <tr>\n",
       "      <th>3</th>\n",
       "      <td>ALDI</td>\n",
       "      <td>Store Assistant</td>\n",
       "      <td>Crewe, England, England</td>\n",
       "      <td>v</td>\n",
       "      <td>r</td>\n",
       "      <td>v</td>\n",
       "      <td>Store Assistant</td>\n",
       "      <td>Good pay and flexible working when part time</td>\n",
       "      <td>The work is very physically demanding</td>\n",
       "      <td>F</td>\n",
       "    </tr>\n",
       "    <tr>\n",
       "      <th>4</th>\n",
       "      <td>ALDI</td>\n",
       "      <td>Deputy Manager</td>\n",
       "      <td>Stafford, England, England</td>\n",
       "      <td>o</td>\n",
       "      <td>r</td>\n",
       "      <td>x</td>\n",
       "      <td>Deputy manager. With 9 years experience</td>\n",
       "      <td>As a company aldi are good to work for. The pa...</td>\n",
       "      <td>In store it’s vile. I’ve worked in quite a few...</td>\n",
       "      <td>C</td>\n",
       "    </tr>\n",
       "  </tbody>\n",
       "</table>\n",
       "</div>"
      ],
      "text/plain": [
       "   firm         job_title                             location recommend  \\\n",
       "0  ALDI   Store Assistant  Market Harborough, England, England         x   \n",
       "1  ALDI    Deputy Manager           Tamworth, England, England         v   \n",
       "2  ALDI     Store Manager     Ellesmere Port, England, England         v   \n",
       "3  ALDI   Store Assistant              Crewe, England, England         v   \n",
       "4  ALDI    Deputy Manager           Stafford, England, England         o   \n",
       "\n",
       "  ceo_approv outlook                                 headline  \\\n",
       "0          o       v   Cannot WAIT to hand in my resignation!   \n",
       "1          r       r                           Deputy manager   \n",
       "2          v       v            It WILL make you or break you   \n",
       "3          r       v                          Store Assistant   \n",
       "4          r       x  Deputy manager. With 9 years experience   \n",
       "\n",
       "                                                pros  \\\n",
       "0  Good pay for role, decent benefits package,  n...   \n",
       "1  good company to work for very addaptable for p...   \n",
       "2  Huge amount of responsibility\\r\\nFree rain to ...   \n",
       "3       Good pay and flexible working when part time   \n",
       "4  As a company aldi are good to work for. The pa...   \n",
       "\n",
       "                                                cons status  \n",
       "0  **THIS  IS SPECIFIC TO  MKT H'BRO STORE - I  s...      C  \n",
       "1             dont push for progression for everyone      C  \n",
       "2  Little to no support from AM’s once the going ...      C  \n",
       "3              The work is very physically demanding      F  \n",
       "4  In store it’s vile. I’ve worked in quite a few...      C  "
      ]
     },
     "execution_count": 8,
     "metadata": {},
     "output_type": "execute_result"
    }
   ],
   "source": [
    "df_cat.head()"
   ]
  },
  {
   "cell_type": "code",
   "execution_count": 9,
   "metadata": {},
   "outputs": [],
   "source": [
    "#df_num_cat=df_num[['overall_rating','work_life_balance','culture_values','diversity_inclusion','career_opp','comp_benefits','senior_mgmt']].astype('object')"
   ]
  },
  {
   "cell_type": "code",
   "execution_count": 10,
   "metadata": {},
   "outputs": [
    {
     "data": {
      "text/plain": [
       "4    151713\n",
       "5    146546\n",
       "3     97495\n",
       "2     33411\n",
       "1     28893\n",
       "Name: overall_rating, dtype: int64"
      ]
     },
     "execution_count": 10,
     "metadata": {},
     "output_type": "execute_result"
    }
   ],
   "source": [
    "df_num['overall_rating'].value_counts()"
   ]
  },
  {
   "cell_type": "markdown",
   "metadata": {},
   "source": [
    "### Plotting the distribution of the 'attributtes' (numerical)"
   ]
  },
  {
   "cell_type": "code",
   "execution_count": 11,
   "metadata": {},
   "outputs": [
    {
     "data": {
      "text/plain": [
       "<AxesSubplot:xlabel='work_life_balance', ylabel='count'>"
      ]
     },
     "execution_count": 11,
     "metadata": {},
     "output_type": "execute_result"
    },
    {
     "data": {
      "image/png": "[encoded data removed]",
      "text/plain": [
       "<Figure size 432x288 with 1 Axes>"
      ]
     },
     "metadata": {
      "needs_background": "light"
     },
     "output_type": "display_data"
    }
   ],
   "source": [
    "sns.countplot(x=df_num[\"work_life_balance\"])"
   ]
  },
  {
   "cell_type": "code",
   "execution_count": 12,
   "metadata": {},
   "outputs": [
    {
     "data": {
      "text/plain": [
       "<AxesSubplot:xlabel='culture_values', ylabel='count'>"
      ]
     },
     "execution_count": 12,
     "metadata": {},
     "output_type": "execute_result"
    },
    {
     "data": {
      "image/png": "[encoded data removed]",
      "text/plain": [
       "<Figure size 432x288 with 1 Axes>"
      ]
     },
     "metadata": {
      "needs_background": "light"
     },
     "output_type": "display_data"
    }
   ],
   "source": [
    "sns.countplot(x=df_num[\"culture_values\"])"
   ]
  },
  {
   "cell_type": "code",
   "execution_count": 13,
   "metadata": {},
   "outputs": [
    {
     "data": {
      "text/plain": [
       "<AxesSubplot:xlabel='diversity_inclusion', ylabel='count'>"
      ]
     },
     "execution_count": 13,
     "metadata": {},
     "output_type": "execute_result"
    },
    {
     "data": {
      "image/png": "[encoded data removed]",
      "text/plain": [
       "<Figure size 432x288 with 1 Axes>"
      ]
     },
     "metadata": {
      "needs_background": "light"
     },
     "output_type": "display_data"
    }
   ],
   "source": [
    "sns.countplot(x=df_num[\"diversity_inclusion\"])"
   ]
  },
  {
   "cell_type": "code",
   "execution_count": 14,
   "metadata": {},
   "outputs": [
    {
     "data": {
      "text/plain": [
       "<AxesSubplot:xlabel='career_opp', ylabel='count'>"
      ]
     },
     "execution_count": 14,
     "metadata": {},
     "output_type": "execute_result"
    },
    {
     "data": {
      "image/png": "[encoded data removed]",
      "text/plain": [
       "<Figure size 432x288 with 1 Axes>"
      ]
     },
     "metadata": {
      "needs_background": "light"
     },
     "output_type": "display_data"
    }
   ],
   "source": [
    "sns.countplot(x=df_num[\"career_opp\"])"
   ]
  },
  {
   "cell_type": "code",
   "execution_count": 15,
   "metadata": {},
   "outputs": [
    {
     "data": {
      "text/plain": [
       "<AxesSubplot:xlabel='comp_benefits', ylabel='count'>"
      ]
     },
     "execution_count": 15,
     "metadata": {},
     "output_type": "execute_result"
    },
    {
     "data": {
      "image/png": "[encoded data removed]",
      "text/plain": [
       "<Figure size 432x288 with 1 Axes>"
      ]
     },
     "metadata": {
      "needs_background": "light"
     },
     "output_type": "display_data"
    }
   ],
   "source": [
    "sns.countplot(x=df_num[\"comp_benefits\"])"
   ]
  },
  {
   "cell_type": "code",
   "execution_count": 16,
   "metadata": {},
   "outputs": [
    {
     "data": {
      "text/plain": [
       "<AxesSubplot:xlabel='senior_mgmt', ylabel='count'>"
      ]
     },
     "execution_count": 16,
     "metadata": {},
     "output_type": "execute_result"
    },
    {
     "data": {
      "image/png": "[encoded data removed]",
      "text/plain": [
       "<Figure size 432x288 with 1 Axes>"
      ]
     },
     "metadata": {
      "needs_background": "light"
     },
     "output_type": "display_data"
    }
   ],
   "source": [
    "sns.countplot(x=df_num[\"senior_mgmt\"])"
   ]
  },
  {
   "cell_type": "code",
   "execution_count": 17,
   "metadata": {},
   "outputs": [
    {
     "data": {
      "text/plain": [
       "<AxesSubplot:xlabel='overall_rating', ylabel='count'>"
      ]
     },
     "execution_count": 17,
     "metadata": {},
     "output_type": "execute_result"
    },
    {
     "data": {
      "image/png": "[encoded data removed]",
      "text/plain": [
       "<Figure size 432x288 with 1 Axes>"
      ]
     },
     "metadata": {
      "needs_background": "light"
     },
     "output_type": "display_data"
    }
   ],
   "source": [
    "sns.countplot(x=df_num[\"overall_rating\"])"
   ]
  },
  {
   "cell_type": "code",
   "execution_count": 18,
   "metadata": {},
   "outputs": [
    {
     "data": {
      "text/plain": [
       "<AxesSubplot:xlabel='year', ylabel='count'>"
      ]
     },
     "execution_count": 18,
     "metadata": {},
     "output_type": "execute_result"
    },
    {
     "data": {
      "image/png": "[encoded data removed]",
      "text/plain": [
       "<Figure size 432x288 with 1 Axes>"
      ]
     },
     "metadata": {
      "needs_background": "light"
     },
     "output_type": "display_data"
    }
   ],
   "source": [
    "sns.countplot(x=df_num[\"year\"])"
   ]
  },
  {
   "cell_type": "code",
   "execution_count": 19,
   "metadata": {},
   "outputs": [
    {
     "data": {
      "text/plain": [
       "<AxesSubplot:xlabel='diversity_inclusion', ylabel='count'>"
      ]
     },
     "execution_count": 19,
     "metadata": {},
     "output_type": "execute_result"
    },
    {
     "data": {
      "image/png": "[encoded data removed]",
      "text/plain": [
       "<Figure size 432x288 with 1 Axes>"
      ]
     },
     "metadata": {
      "needs_background": "light"
     },
     "output_type": "display_data"
    }
   ],
   "source": [
    "sns.countplot(data=df_num, x=\"diversity_inclusion\", hue=\"year\")"
   ]
  },
  {
   "cell_type": "code",
   "execution_count": 20,
   "metadata": {},
   "outputs": [
    {
     "data": {
      "text/html": [
       "<div>\n",
       "<style scoped>\n",
       "    .dataframe tbody tr th:only-of-type {\n",
       "        vertical-align: middle;\n",
       "    }\n",
       "\n",
       "    .dataframe tbody tr th {\n",
       "        vertical-align: top;\n",
       "    }\n",
       "\n",
       "    .dataframe thead th {\n",
       "        text-align: right;\n",
       "    }\n",
       "</style>\n",
       "<table border=\"1\" class=\"dataframe\">\n",
       "  <thead>\n",
       "    <tr style=\"text-align: right;\">\n",
       "      <th></th>\n",
       "      <th>overall_rating</th>\n",
       "      <th>work_life_balance</th>\n",
       "      <th>culture_values</th>\n",
       "      <th>diversity_inclusion</th>\n",
       "      <th>career_opp</th>\n",
       "      <th>comp_benefits</th>\n",
       "      <th>senior_mgmt</th>\n",
       "      <th>year</th>\n",
       "    </tr>\n",
       "  </thead>\n",
       "  <tbody>\n",
       "    <tr>\n",
       "      <th>overall_rating</th>\n",
       "      <td>1.000000</td>\n",
       "      <td>0.505030</td>\n",
       "      <td>0.666696</td>\n",
       "      <td>0.258149</td>\n",
       "      <td>0.622323</td>\n",
       "      <td>0.544748</td>\n",
       "      <td>0.648367</td>\n",
       "      <td>0.067458</td>\n",
       "    </tr>\n",
       "    <tr>\n",
       "      <th>work_life_balance</th>\n",
       "      <td>0.505030</td>\n",
       "      <td>1.000000</td>\n",
       "      <td>0.554711</td>\n",
       "      <td>0.255433</td>\n",
       "      <td>0.389629</td>\n",
       "      <td>0.436728</td>\n",
       "      <td>0.507006</td>\n",
       "      <td>0.042222</td>\n",
       "    </tr>\n",
       "    <tr>\n",
       "      <th>culture_values</th>\n",
       "      <td>0.666696</td>\n",
       "      <td>0.554711</td>\n",
       "      <td>1.000000</td>\n",
       "      <td>0.346998</td>\n",
       "      <td>0.656353</td>\n",
       "      <td>0.588020</td>\n",
       "      <td>0.714100</td>\n",
       "      <td>0.087095</td>\n",
       "    </tr>\n",
       "    <tr>\n",
       "      <th>diversity_inclusion</th>\n",
       "      <td>0.258149</td>\n",
       "      <td>0.255433</td>\n",
       "      <td>0.346998</td>\n",
       "      <td>1.000000</td>\n",
       "      <td>0.261421</td>\n",
       "      <td>0.247638</td>\n",
       "      <td>0.267477</td>\n",
       "      <td>-0.329071</td>\n",
       "    </tr>\n",
       "    <tr>\n",
       "      <th>career_opp</th>\n",
       "      <td>0.622323</td>\n",
       "      <td>0.389629</td>\n",
       "      <td>0.656353</td>\n",
       "      <td>0.261421</td>\n",
       "      <td>1.000000</td>\n",
       "      <td>0.626635</td>\n",
       "      <td>0.668777</td>\n",
       "      <td>0.088081</td>\n",
       "    </tr>\n",
       "    <tr>\n",
       "      <th>comp_benefits</th>\n",
       "      <td>0.544748</td>\n",
       "      <td>0.436728</td>\n",
       "      <td>0.588020</td>\n",
       "      <td>0.247638</td>\n",
       "      <td>0.626635</td>\n",
       "      <td>1.000000</td>\n",
       "      <td>0.581400</td>\n",
       "      <td>0.096146</td>\n",
       "    </tr>\n",
       "    <tr>\n",
       "      <th>senior_mgmt</th>\n",
       "      <td>0.648367</td>\n",
       "      <td>0.507006</td>\n",
       "      <td>0.714100</td>\n",
       "      <td>0.267477</td>\n",
       "      <td>0.668777</td>\n",
       "      <td>0.581400</td>\n",
       "      <td>1.000000</td>\n",
       "      <td>0.082822</td>\n",
       "    </tr>\n",
       "    <tr>\n",
       "      <th>year</th>\n",
       "      <td>0.067458</td>\n",
       "      <td>0.042222</td>\n",
       "      <td>0.087095</td>\n",
       "      <td>-0.329071</td>\n",
       "      <td>0.088081</td>\n",
       "      <td>0.096146</td>\n",
       "      <td>0.082822</td>\n",
       "      <td>1.000000</td>\n",
       "    </tr>\n",
       "  </tbody>\n",
       "</table>\n",
       "</div>"
      ],
      "text/plain": [
       "                     overall_rating  work_life_balance  culture_values  \\\n",
       "overall_rating             1.000000           0.505030        0.666696   \n",
       "work_life_balance          0.505030           1.000000        0.554711   \n",
       "culture_values             0.666696           0.554711        1.000000   \n",
       "diversity_inclusion        0.258149           0.255433        0.346998   \n",
       "career_opp                 0.622323           0.389629        0.656353   \n",
       "comp_benefits              0.544748           0.436728        0.588020   \n",
       "senior_mgmt                0.648367           0.507006        0.714100   \n",
       "year                       0.067458           0.042222        0.087095   \n",
       "\n",
       "                     diversity_inclusion  career_opp  comp_benefits  \\\n",
       "overall_rating                  0.258149    0.622323       0.544748   \n",
       "work_life_balance               0.255433    0.389629       0.436728   \n",
       "culture_values                  0.346998    0.656353       0.588020   \n",
       "diversity_inclusion             1.000000    0.261421       0.247638   \n",
       "career_opp                      0.261421    1.000000       0.626635   \n",
       "comp_benefits                   0.247638    0.626635       1.000000   \n",
       "senior_mgmt                     0.267477    0.668777       0.581400   \n",
       "year                           -0.329071    0.088081       0.096146   \n",
       "\n",
       "                     senior_mgmt      year  \n",
       "overall_rating          0.648367  0.067458  \n",
       "work_life_balance       0.507006  0.042222  \n",
       "culture_values          0.714100  0.087095  \n",
       "diversity_inclusion     0.267477 -0.329071  \n",
       "career_opp              0.668777  0.088081  \n",
       "comp_benefits           0.581400  0.096146  \n",
       "senior_mgmt             1.000000  0.082822  \n",
       "year                    0.082822  1.000000  "
      ]
     },
     "execution_count": 20,
     "metadata": {},
     "output_type": "execute_result"
    }
   ],
   "source": [
    "correlations_matrix = df_num.corr()\n",
    "correlations_matrix"
   ]
  },
  {
   "cell_type": "code",
   "execution_count": 21,
   "metadata": {},
   "outputs": [
    {
     "data": {
      "image/png": "[encoded data removed]",
      "text/plain": [
       "<Figure size 432x288 with 2 Axes>"
      ]
     },
     "metadata": {
      "needs_background": "light"
     },
     "output_type": "display_data"
    }
   ],
   "source": [
    "correlations_matrix = df_num.corr()\n",
    "sns.heatmap(correlations_matrix, annot=True) # annot = True displays the correlation values, annot=False hides the correlation values\n",
    "plt.show()"
   ]
  },
  {
   "cell_type": "markdown",
   "metadata": {},
   "source": [
    "Class imbalance - upsample"
   ]
  },
  {
   "cell_type": "code",
   "execution_count": 58,
   "metadata": {},
   "outputs": [
    {
     "data": {
      "text/plain": [
       "(33411, 18)"
      ]
     },
     "metadata": {},
     "output_type": "display_data"
    },
    {
     "data": {
      "text/plain": [
       "(146546, 18)"
      ]
     },
     "metadata": {},
     "output_type": "display_data"
    },
    {
     "data": {
      "text/plain": [
       "(146546, 18)"
      ]
     },
     "metadata": {},
     "output_type": "display_data"
    },
    {
     "data": {
      "text/plain": [
       "(146546, 18)"
      ]
     },
     "metadata": {},
     "output_type": "display_data"
    },
    {
     "data": {
      "text/plain": [
       "(146546, 18)"
      ]
     },
     "metadata": {},
     "output_type": "display_data"
    }
   ],
   "source": [
    "overall_rating_1=df[df['overall_rating'] ==1]\n",
    "overall_rating_2=df[df['overall_rating'] ==2]\n",
    "overall_rating_3=df[df['overall_rating'] ==3]\n",
    "overall_rating_4=df[df['overall_rating'] ==4]\n",
    "overall_rating_5=df[df['overall_rating'] ==5]\n",
    "\n",
    "overall_rating_2_upsample=resample(overall_rating_2, \n",
    "                                   replace=True,\n",
    "                                   n_samples = len(overall_rating_5))\n",
    "\n",
    "overall_rating_1_upsample=resample(overall_rating_1, \n",
    "                                   replace=True,\n",
    "                                   n_samples = len(overall_rating_5))\n",
    "\n",
    "overall_rating_3_upsample=resample(overall_rating_3, \n",
    "                                   replace=True,\n",
    "                                   n_samples = len(overall_rating_5))\n",
    "\n",
    "display(overall_rating_2.shape)\n",
    "display(overall_rating_5.shape)\n",
    "display(overall_rating_2_upsample.shape)\n",
    "display(overall_rating_1_upsample.shape)\n",
    "display(overall_rating_3_upsample.shape)"
   ]
  },
  {
   "cell_type": "code",
   "execution_count": 63,
   "metadata": {},
   "outputs": [],
   "source": [
    "df_upsample=pd.concat([overall_rating_2_upsample,overall_rating_1_upsample,overall_rating_3_upsample,overall_rating_4,overall_rating_5])"
   ]
  },
  {
   "cell_type": "code",
   "execution_count": 64,
   "metadata": {},
   "outputs": [
    {
     "data": {
      "text/html": [
       "<div>\n",
       "<style scoped>\n",
       "    .dataframe tbody tr th:only-of-type {\n",
       "        vertical-align: middle;\n",
       "    }\n",
       "\n",
       "    .dataframe tbody tr th {\n",
       "        vertical-align: top;\n",
       "    }\n",
       "\n",
       "    .dataframe thead th {\n",
       "        text-align: right;\n",
       "    }\n",
       "</style>\n",
       "<table border=\"1\" class=\"dataframe\">\n",
       "  <thead>\n",
       "    <tr style=\"text-align: right;\">\n",
       "      <th></th>\n",
       "      <th>firm</th>\n",
       "      <th>job_title</th>\n",
       "      <th>location</th>\n",
       "      <th>overall_rating</th>\n",
       "      <th>work_life_balance</th>\n",
       "      <th>culture_values</th>\n",
       "      <th>diversity_inclusion</th>\n",
       "      <th>career_opp</th>\n",
       "      <th>comp_benefits</th>\n",
       "      <th>senior_mgmt</th>\n",
       "      <th>recommend</th>\n",
       "      <th>ceo_approv</th>\n",
       "      <th>outlook</th>\n",
       "      <th>headline</th>\n",
       "      <th>pros</th>\n",
       "      <th>cons</th>\n",
       "      <th>year</th>\n",
       "      <th>status</th>\n",
       "    </tr>\n",
       "  </thead>\n",
       "  <tbody>\n",
       "    <tr>\n",
       "      <th>265695</th>\n",
       "      <td>EY</td>\n",
       "      <td>Assistant Director</td>\n",
       "      <td>Dublin, Dublin</td>\n",
       "      <td>2</td>\n",
       "      <td>2.0</td>\n",
       "      <td>3.0</td>\n",
       "      <td>5.0</td>\n",
       "      <td>3.0</td>\n",
       "      <td>2.0</td>\n",
       "      <td>1.0</td>\n",
       "      <td>x</td>\n",
       "      <td>o</td>\n",
       "      <td>r</td>\n",
       "      <td>OK if you're a partner</td>\n",
       "      <td>you get to work with a variety of clients</td>\n",
       "      <td>compensation is skewed towards partners</td>\n",
       "      <td>2021</td>\n",
       "      <td>C</td>\n",
       "    </tr>\n",
       "    <tr>\n",
       "      <th>55788</th>\n",
       "      <td>EY</td>\n",
       "      <td>Audit Senior</td>\n",
       "      <td>Dublin, Dublin</td>\n",
       "      <td>2</td>\n",
       "      <td>1.0</td>\n",
       "      <td>3.0</td>\n",
       "      <td>5.0</td>\n",
       "      <td>5.0</td>\n",
       "      <td>2.0</td>\n",
       "      <td>3.0</td>\n",
       "      <td>v</td>\n",
       "      <td>r</td>\n",
       "      <td>o</td>\n",
       "      <td>Audit Senior at EY</td>\n",
       "      <td>A lot of annual leave 22 days (Optional 5 extr...</td>\n",
       "      <td>No payment for overtime beyond 80 hours cap (8...</td>\n",
       "      <td>2019</td>\n",
       "      <td>C</td>\n",
       "    </tr>\n",
       "    <tr>\n",
       "      <th>28505</th>\n",
       "      <td>CBRE</td>\n",
       "      <td>Anonymous Employee</td>\n",
       "      <td>Sunnyvale, CA</td>\n",
       "      <td>2</td>\n",
       "      <td>3.0</td>\n",
       "      <td>4.0</td>\n",
       "      <td>5.0</td>\n",
       "      <td>3.0</td>\n",
       "      <td>1.0</td>\n",
       "      <td>1.0</td>\n",
       "      <td>x</td>\n",
       "      <td>o</td>\n",
       "      <td>o</td>\n",
       "      <td>Opportunities to grow career, but management i...</td>\n",
       "      <td>Able to work for great clients, such as Google...</td>\n",
       "      <td>Salary is very low and higher management does ...</td>\n",
       "      <td>2019</td>\n",
       "      <td>C</td>\n",
       "    </tr>\n",
       "    <tr>\n",
       "      <th>42731</th>\n",
       "      <td>Deloitte</td>\n",
       "      <td>Business Technology Analyst</td>\n",
       "      <td>Bangalore</td>\n",
       "      <td>2</td>\n",
       "      <td>3.0</td>\n",
       "      <td>4.0</td>\n",
       "      <td>5.0</td>\n",
       "      <td>1.0</td>\n",
       "      <td>4.0</td>\n",
       "      <td>4.0</td>\n",
       "      <td>x</td>\n",
       "      <td>v</td>\n",
       "      <td>x</td>\n",
       "      <td>Worst place to start your career</td>\n",
       "      <td>co-workers are generally very helpful.</td>\n",
       "      <td>Not a place to start your career. Management d...</td>\n",
       "      <td>2019</td>\n",
       "      <td>C</td>\n",
       "    </tr>\n",
       "    <tr>\n",
       "      <th>3096</th>\n",
       "      <td>American-Express</td>\n",
       "      <td>Anonymous Employee</td>\n",
       "      <td>Gurgaon, Haryana, Haryana</td>\n",
       "      <td>2</td>\n",
       "      <td>1.0</td>\n",
       "      <td>1.0</td>\n",
       "      <td>5.0</td>\n",
       "      <td>3.0</td>\n",
       "      <td>3.0</td>\n",
       "      <td>1.0</td>\n",
       "      <td>x</td>\n",
       "      <td>o</td>\n",
       "      <td>o</td>\n",
       "      <td>Assistant manager</td>\n",
       "      <td>Work from home-young crowd-parties-good career...</td>\n",
       "      <td>Too much of work- data issues - too aggressive...</td>\n",
       "      <td>2018</td>\n",
       "      <td>F</td>\n",
       "    </tr>\n",
       "    <tr>\n",
       "      <th>...</th>\n",
       "      <td>...</td>\n",
       "      <td>...</td>\n",
       "      <td>...</td>\n",
       "      <td>...</td>\n",
       "      <td>...</td>\n",
       "      <td>...</td>\n",
       "      <td>...</td>\n",
       "      <td>...</td>\n",
       "      <td>...</td>\n",
       "      <td>...</td>\n",
       "      <td>...</td>\n",
       "      <td>...</td>\n",
       "      <td>...</td>\n",
       "      <td>...</td>\n",
       "      <td>...</td>\n",
       "      <td>...</td>\n",
       "      <td>...</td>\n",
       "      <td>...</td>\n",
       "    </tr>\n",
       "    <tr>\n",
       "      <th>458047</th>\n",
       "      <td>the-LEGO-Group</td>\n",
       "      <td>User Experience Designer</td>\n",
       "      <td>Billund</td>\n",
       "      <td>5</td>\n",
       "      <td>3.0</td>\n",
       "      <td>4.0</td>\n",
       "      <td>4.0</td>\n",
       "      <td>5.0</td>\n",
       "      <td>5.0</td>\n",
       "      <td>3.0</td>\n",
       "      <td>o</td>\n",
       "      <td>o</td>\n",
       "      <td>o</td>\n",
       "      <td>An Amazing Workplace</td>\n",
       "      <td>Lots of resources and room for growth</td>\n",
       "      <td>Sometimes big organizations like this have ver...</td>\n",
       "      <td>2021</td>\n",
       "      <td>C</td>\n",
       "    </tr>\n",
       "    <tr>\n",
       "      <th>458052</th>\n",
       "      <td>the-LEGO-Group</td>\n",
       "      <td>Senior Experience Designer</td>\n",
       "      <td>Billund</td>\n",
       "      <td>5</td>\n",
       "      <td>5.0</td>\n",
       "      <td>5.0</td>\n",
       "      <td>5.0</td>\n",
       "      <td>5.0</td>\n",
       "      <td>5.0</td>\n",
       "      <td>5.0</td>\n",
       "      <td>v</td>\n",
       "      <td>v</td>\n",
       "      <td>v</td>\n",
       "      <td>Awesome place to work</td>\n",
       "      <td>It's a company with a clear purpose and one th...</td>\n",
       "      <td>Being a global brand, compliance is important....</td>\n",
       "      <td>2021</td>\n",
       "      <td>C</td>\n",
       "    </tr>\n",
       "    <tr>\n",
       "      <th>458053</th>\n",
       "      <td>the-LEGO-Group</td>\n",
       "      <td>Marketing Manager</td>\n",
       "      <td>München, Bavaria, Bavaria</td>\n",
       "      <td>5</td>\n",
       "      <td>4.0</td>\n",
       "      <td>5.0</td>\n",
       "      <td>4.0</td>\n",
       "      <td>4.0</td>\n",
       "      <td>4.0</td>\n",
       "      <td>4.0</td>\n",
       "      <td>v</td>\n",
       "      <td>v</td>\n",
       "      <td>v</td>\n",
       "      <td>Just an awesome company to work for!!!</td>\n",
       "      <td>Great company values, awesome product, smart c...</td>\n",
       "      <td>Not very easy to transfer to other locations</td>\n",
       "      <td>2021</td>\n",
       "      <td>C</td>\n",
       "    </tr>\n",
       "    <tr>\n",
       "      <th>458056</th>\n",
       "      <td>the-LEGO-Group</td>\n",
       "      <td>Customer Service Representative</td>\n",
       "      <td>No location</td>\n",
       "      <td>5</td>\n",
       "      <td>5.0</td>\n",
       "      <td>5.0</td>\n",
       "      <td>5.0</td>\n",
       "      <td>5.0</td>\n",
       "      <td>5.0</td>\n",
       "      <td>5.0</td>\n",
       "      <td>o</td>\n",
       "      <td>o</td>\n",
       "      <td>o</td>\n",
       "      <td>Great Place to Work</td>\n",
       "      <td>Good wages, good hours, lots of resources</td>\n",
       "      <td>Working every other weekend, busy seasons can ...</td>\n",
       "      <td>2021</td>\n",
       "      <td>C</td>\n",
       "    </tr>\n",
       "    <tr>\n",
       "      <th>458057</th>\n",
       "      <td>the-LEGO-Group</td>\n",
       "      <td>Human Resources Specialist</td>\n",
       "      <td>Kladno, Central Bohemian, Central Bohemian</td>\n",
       "      <td>5</td>\n",
       "      <td>4.0</td>\n",
       "      <td>5.0</td>\n",
       "      <td>4.0</td>\n",
       "      <td>4.0</td>\n",
       "      <td>5.0</td>\n",
       "      <td>5.0</td>\n",
       "      <td>v</td>\n",
       "      <td>v</td>\n",
       "      <td>o</td>\n",
       "      <td>I strongly recommend the LEGO Group as employer</td>\n",
       "      <td>The LEGO Group is company with many opportunit...</td>\n",
       "      <td>Many things are centralized in Denmark and rel...</td>\n",
       "      <td>2021</td>\n",
       "      <td>C</td>\n",
       "    </tr>\n",
       "  </tbody>\n",
       "</table>\n",
       "<p>737897 rows × 18 columns</p>\n",
       "</div>"
      ],
      "text/plain": [
       "                    firm                         job_title  \\\n",
       "265695                EY                Assistant Director   \n",
       "55788                 EY                      Audit Senior   \n",
       "28505               CBRE                Anonymous Employee   \n",
       "42731           Deloitte       Business Technology Analyst   \n",
       "3096    American-Express                Anonymous Employee   \n",
       "...                  ...                               ...   \n",
       "458047    the-LEGO-Group          User Experience Designer   \n",
       "458052    the-LEGO-Group        Senior Experience Designer   \n",
       "458053    the-LEGO-Group                 Marketing Manager   \n",
       "458056    the-LEGO-Group   Customer Service Representative   \n",
       "458057    the-LEGO-Group        Human Resources Specialist   \n",
       "\n",
       "                                          location  overall_rating  \\\n",
       "265695                              Dublin, Dublin               2   \n",
       "55788                               Dublin, Dublin               2   \n",
       "28505                                Sunnyvale, CA               2   \n",
       "42731                                    Bangalore               2   \n",
       "3096                     Gurgaon, Haryana, Haryana               2   \n",
       "...                                            ...             ...   \n",
       "458047                                     Billund               5   \n",
       "458052                                     Billund               5   \n",
       "458053                   München, Bavaria, Bavaria               5   \n",
       "458056                                 No location               5   \n",
       "458057  Kladno, Central Bohemian, Central Bohemian               5   \n",
       "\n",
       "        work_life_balance  culture_values  diversity_inclusion  career_opp  \\\n",
       "265695                2.0             3.0                  5.0         3.0   \n",
       "55788                 1.0             3.0                  5.0         5.0   \n",
       "28505                 3.0             4.0                  5.0         3.0   \n",
       "42731                 3.0             4.0                  5.0         1.0   \n",
       "3096                  1.0             1.0                  5.0         3.0   \n",
       "...                   ...             ...                  ...         ...   \n",
       "458047                3.0             4.0                  4.0         5.0   \n",
       "458052                5.0             5.0                  5.0         5.0   \n",
       "458053                4.0             5.0                  4.0         4.0   \n",
       "458056                5.0             5.0                  5.0         5.0   \n",
       "458057                4.0             5.0                  4.0         4.0   \n",
       "\n",
       "        comp_benefits  senior_mgmt recommend ceo_approv outlook  \\\n",
       "265695            2.0          1.0         x          o       r   \n",
       "55788             2.0          3.0         v          r       o   \n",
       "28505             1.0          1.0         x          o       o   \n",
       "42731             4.0          4.0         x          v       x   \n",
       "3096              3.0          1.0         x          o       o   \n",
       "...               ...          ...       ...        ...     ...   \n",
       "458047            5.0          3.0         o          o       o   \n",
       "458052            5.0          5.0         v          v       v   \n",
       "458053            4.0          4.0         v          v       v   \n",
       "458056            5.0          5.0         o          o       o   \n",
       "458057            5.0          5.0         v          v       o   \n",
       "\n",
       "                                                 headline  \\\n",
       "265695                             OK if you're a partner   \n",
       "55788                                  Audit Senior at EY   \n",
       "28505   Opportunities to grow career, but management i...   \n",
       "42731                    Worst place to start your career   \n",
       "3096                                    Assistant manager   \n",
       "...                                                   ...   \n",
       "458047                               An Amazing Workplace   \n",
       "458052                              Awesome place to work   \n",
       "458053             Just an awesome company to work for!!!   \n",
       "458056                                Great Place to Work   \n",
       "458057    I strongly recommend the LEGO Group as employer   \n",
       "\n",
       "                                                     pros  \\\n",
       "265695          you get to work with a variety of clients   \n",
       "55788   A lot of annual leave 22 days (Optional 5 extr...   \n",
       "28505   Able to work for great clients, such as Google...   \n",
       "42731              co-workers are generally very helpful.   \n",
       "3096    Work from home-young crowd-parties-good career...   \n",
       "...                                                   ...   \n",
       "458047              Lots of resources and room for growth   \n",
       "458052  It's a company with a clear purpose and one th...   \n",
       "458053  Great company values, awesome product, smart c...   \n",
       "458056          Good wages, good hours, lots of resources   \n",
       "458057  The LEGO Group is company with many opportunit...   \n",
       "\n",
       "                                                     cons  year status  \n",
       "265695            compensation is skewed towards partners  2021      C  \n",
       "55788   No payment for overtime beyond 80 hours cap (8...  2019      C  \n",
       "28505   Salary is very low and higher management does ...  2019      C  \n",
       "42731   Not a place to start your career. Management d...  2019      C  \n",
       "3096    Too much of work- data issues - too aggressive...  2018      F  \n",
       "...                                                   ...   ...    ...  \n",
       "458047  Sometimes big organizations like this have ver...  2021      C  \n",
       "458052  Being a global brand, compliance is important....  2021      C  \n",
       "458053       Not very easy to transfer to other locations  2021      C  \n",
       "458056  Working every other weekend, busy seasons can ...  2021      C  \n",
       "458057  Many things are centralized in Denmark and rel...  2021      C  \n",
       "\n",
       "[737897 rows x 18 columns]"
      ]
     },
     "execution_count": 64,
     "metadata": {},
     "output_type": "execute_result"
    }
   ],
   "source": [
    "df_upsample"
   ]
  },
  {
   "cell_type": "code",
   "execution_count": 65,
   "metadata": {},
   "outputs": [
    {
     "data": {
      "text/plain": [
       "4    151713\n",
       "2    146546\n",
       "1    146546\n",
       "3    146546\n",
       "5    146546\n",
       "Name: overall_rating, dtype: int64"
      ]
     },
     "execution_count": 65,
     "metadata": {},
     "output_type": "execute_result"
    }
   ],
   "source": [
    "df_upsample['overall_rating'].value_counts()"
   ]
  },
  {
   "cell_type": "code",
   "execution_count": 66,
   "metadata": {},
   "outputs": [],
   "source": [
    "df_upsample['year'] = df_upsample[['year']].astype('object')"
   ]
  },
  {
   "cell_type": "code",
   "execution_count": 67,
   "metadata": {},
   "outputs": [
    {
     "data": {
      "text/html": [
       "<div>\n",
       "<style scoped>\n",
       "    .dataframe tbody tr th:only-of-type {\n",
       "        vertical-align: middle;\n",
       "    }\n",
       "\n",
       "    .dataframe tbody tr th {\n",
       "        vertical-align: top;\n",
       "    }\n",
       "\n",
       "    .dataframe thead th {\n",
       "        text-align: right;\n",
       "    }\n",
       "</style>\n",
       "<table border=\"1\" class=\"dataframe\">\n",
       "  <thead>\n",
       "    <tr style=\"text-align: right;\">\n",
       "      <th></th>\n",
       "      <th>overall_rating</th>\n",
       "      <th>work_life_balance</th>\n",
       "      <th>culture_values</th>\n",
       "      <th>diversity_inclusion</th>\n",
       "      <th>career_opp</th>\n",
       "      <th>comp_benefits</th>\n",
       "      <th>senior_mgmt</th>\n",
       "    </tr>\n",
       "  </thead>\n",
       "  <tbody>\n",
       "    <tr>\n",
       "      <th>265695</th>\n",
       "      <td>2</td>\n",
       "      <td>2.0</td>\n",
       "      <td>3.0</td>\n",
       "      <td>5.0</td>\n",
       "      <td>3.0</td>\n",
       "      <td>2.0</td>\n",
       "      <td>1.0</td>\n",
       "    </tr>\n",
       "    <tr>\n",
       "      <th>55788</th>\n",
       "      <td>2</td>\n",
       "      <td>1.0</td>\n",
       "      <td>3.0</td>\n",
       "      <td>5.0</td>\n",
       "      <td>5.0</td>\n",
       "      <td>2.0</td>\n",
       "      <td>3.0</td>\n",
       "    </tr>\n",
       "    <tr>\n",
       "      <th>28505</th>\n",
       "      <td>2</td>\n",
       "      <td>3.0</td>\n",
       "      <td>4.0</td>\n",
       "      <td>5.0</td>\n",
       "      <td>3.0</td>\n",
       "      <td>1.0</td>\n",
       "      <td>1.0</td>\n",
       "    </tr>\n",
       "    <tr>\n",
       "      <th>42731</th>\n",
       "      <td>2</td>\n",
       "      <td>3.0</td>\n",
       "      <td>4.0</td>\n",
       "      <td>5.0</td>\n",
       "      <td>1.0</td>\n",
       "      <td>4.0</td>\n",
       "      <td>4.0</td>\n",
       "    </tr>\n",
       "    <tr>\n",
       "      <th>3096</th>\n",
       "      <td>2</td>\n",
       "      <td>1.0</td>\n",
       "      <td>1.0</td>\n",
       "      <td>5.0</td>\n",
       "      <td>3.0</td>\n",
       "      <td>3.0</td>\n",
       "      <td>1.0</td>\n",
       "    </tr>\n",
       "  </tbody>\n",
       "</table>\n",
       "</div>"
      ],
      "text/plain": [
       "        overall_rating  work_life_balance  culture_values  \\\n",
       "265695               2                2.0             3.0   \n",
       "55788                2                1.0             3.0   \n",
       "28505                2                3.0             4.0   \n",
       "42731                2                3.0             4.0   \n",
       "3096                 2                1.0             1.0   \n",
       "\n",
       "        diversity_inclusion  career_opp  comp_benefits  senior_mgmt  \n",
       "265695                  5.0         3.0            2.0          1.0  \n",
       "55788                   5.0         5.0            2.0          3.0  \n",
       "28505                   5.0         3.0            1.0          1.0  \n",
       "42731                   5.0         1.0            4.0          4.0  \n",
       "3096                    5.0         3.0            3.0          1.0  "
      ]
     },
     "execution_count": 67,
     "metadata": {},
     "output_type": "execute_result"
    }
   ],
   "source": [
    "df_upsample_num = df_upsample.select_dtypes(['number'])\n",
    "df_upsample_num.head()"
   ]
  },
  {
   "cell_type": "markdown",
   "metadata": {},
   "source": [
    "### Split x/y"
   ]
  },
  {
   "cell_type": "code",
   "execution_count": 68,
   "metadata": {},
   "outputs": [],
   "source": [
    "y=df_upsample_num['overall_rating']\n",
    "X=df_upsample_num.drop(['overall_rating'], axis=1)"
   ]
  },
  {
   "cell_type": "markdown",
   "metadata": {},
   "source": [
    "### Train/Test split"
   ]
  },
  {
   "cell_type": "code",
   "execution_count": 69,
   "metadata": {},
   "outputs": [],
   "source": [
    "X_train, X_test, y_train, y_test = train_test_split(X,y,test_size=0.2, random_state=100)"
   ]
  },
  {
   "cell_type": "code",
   "execution_count": 70,
   "metadata": {},
   "outputs": [],
   "source": [
    "X_train_num= X_train[['work_life_balance','culture_values','diversity_inclusion','career_opp','comp_benefits','senior_mgmt']]\n",
    "X_test_num= X_test[['work_life_balance','culture_values','diversity_inclusion','career_opp','comp_benefits','senior_mgmt']]"
   ]
  },
  {
   "cell_type": "code",
   "execution_count": 80,
   "metadata": {},
   "outputs": [
    {
     "data": {
      "text/html": [
       "<style>#sk-container-id-5 {color: black;background-color: white;}#sk-container-id-5 pre{padding: 0;}#sk-container-id-5 div.sk-toggleable {background-color: white;}#sk-container-id-5 label.sk-toggleable__label {cursor: pointer;display: block;width: 100%;margin-bottom: 0;padding: 0.3em;box-sizing: border-box;text-align: center;}#sk-container-id-5 label.sk-toggleable__label-arrow:before {content: \"▸\";float: left;margin-right: 0.25em;color: #696969;}#sk-container-id-5 label.sk-toggleable__label-arrow:hover:before {color: black;}#sk-container-id-5 div.sk-estimator:hover label.sk-toggleable__label-arrow:before {color: black;}#sk-container-id-5 div.sk-toggleable__content {max-height: 0;max-width: 0;overflow: hidden;text-align: left;background-color: #f0f8ff;}#sk-container-id-5 div.sk-toggleable__content pre {margin: 0.2em;color: black;border-radius: 0.25em;background-color: #f0f8ff;}#sk-container-id-5 input.sk-toggleable__control:checked~div.sk-toggleable__content {max-height: 200px;max-width: 100%;overflow: auto;}#sk-container-id-5 input.sk-toggleable__control:checked~label.sk-toggleable__label-arrow:before {content: \"▾\";}#sk-container-id-5 div.sk-estimator input.sk-toggleable__control:checked~label.sk-toggleable__label {background-color: #d4ebff;}#sk-container-id-5 div.sk-label input.sk-toggleable__control:checked~label.sk-toggleable__label {background-color: #d4ebff;}#sk-container-id-5 input.sk-hidden--visually {border: 0;clip: rect(1px 1px 1px 1px);clip: rect(1px, 1px, 1px, 1px);height: 1px;margin: -1px;overflow: hidden;padding: 0;position: absolute;width: 1px;}#sk-container-id-5 div.sk-estimator {font-family: monospace;background-color: #f0f8ff;border: 1px dotted black;border-radius: 0.25em;box-sizing: border-box;margin-bottom: 0.5em;}#sk-container-id-5 div.sk-estimator:hover {background-color: #d4ebff;}#sk-container-id-5 div.sk-parallel-item::after {content: \"\";width: 100%;border-bottom: 1px solid gray;flex-grow: 1;}#sk-container-id-5 div.sk-label:hover label.sk-toggleable__label {background-color: #d4ebff;}#sk-container-id-5 div.sk-serial::before {content: \"\";position: absolute;border-left: 1px solid gray;box-sizing: border-box;top: 0;bottom: 0;left: 50%;z-index: 0;}#sk-container-id-5 div.sk-serial {display: flex;flex-direction: column;align-items: center;background-color: white;padding-right: 0.2em;padding-left: 0.2em;position: relative;}#sk-container-id-5 div.sk-item {position: relative;z-index: 1;}#sk-container-id-5 div.sk-parallel {display: flex;align-items: stretch;justify-content: center;background-color: white;position: relative;}#sk-container-id-5 div.sk-item::before, #sk-container-id-5 div.sk-parallel-item::before {content: \"\";position: absolute;border-left: 1px solid gray;box-sizing: border-box;top: 0;bottom: 0;left: 50%;z-index: -1;}#sk-container-id-5 div.sk-parallel-item {display: flex;flex-direction: column;z-index: 1;position: relative;background-color: white;}#sk-container-id-5 div.sk-parallel-item:first-child::after {align-self: flex-end;width: 50%;}#sk-container-id-5 div.sk-parallel-item:last-child::after {align-self: flex-start;width: 50%;}#sk-container-id-5 div.sk-parallel-item:only-child::after {width: 0;}#sk-container-id-5 div.sk-dashed-wrapped {border: 1px dashed gray;margin: 0 0.4em 0.5em 0.4em;box-sizing: border-box;padding-bottom: 0.4em;background-color: white;}#sk-container-id-5 div.sk-label label {font-family: monospace;font-weight: bold;display: inline-block;line-height: 1.2em;}#sk-container-id-5 div.sk-label-container {text-align: center;}#sk-container-id-5 div.sk-container {/* jupyter's `normalize.less` sets `[hidden] { display: none; }` but bootstrap.min.css set `[hidden] { display: none !important; }` so we also need the `!important` here to be able to override the default hidden behavior on the sphinx rendered scikit-learn.org. See: https://github.com/scikit-learn/scikit-learn/issues/21755 */display: inline-block !important;position: relative;}#sk-container-id-5 div.sk-text-repr-fallback {display: none;}</style><div id=\"sk-container-id-5\" class=\"sk-top-container\"><div class=\"sk-text-repr-fallback\"><pre>LogisticRegression(multi_class=&#x27;multinomial&#x27;, random_state=0, solver=&#x27;saga&#x27;)</pre><b>In a Jupyter environment, please rerun this cell to show the HTML representation or trust the notebook. <br />On GitHub, the HTML representation is unable to render, please try loading this page with nbviewer.org.</b></div><div class=\"sk-container\" hidden><div class=\"sk-item\"><div class=\"sk-estimator sk-toggleable\"><input class=\"sk-toggleable__control sk-hidden--visually\" id=\"sk-estimator-id-5\" type=\"checkbox\" checked><label for=\"sk-estimator-id-5\" class=\"sk-toggleable__label sk-toggleable__label-arrow\">LogisticRegression</label><div class=\"sk-toggleable__content\"><pre>LogisticRegression(multi_class=&#x27;multinomial&#x27;, random_state=0, solver=&#x27;saga&#x27;)</pre></div></div></div></div></div>"
      ],
      "text/plain": [
       "LogisticRegression(multi_class='multinomial', random_state=0, solver='saga')"
      ]
     },
     "execution_count": 80,
     "metadata": {},
     "output_type": "execute_result"
    }
   ],
   "source": [
    "classification = LogisticRegression(random_state=0, solver='saga',\n",
    "                  multi_class='multinomial')\n",
    "\n",
    "classification.fit(X_train, y_train)"
   ]
  },
  {
   "cell_type": "code",
   "execution_count": 81,
   "metadata": {},
   "outputs": [
    {
     "data": {
      "text/html": [
       "<div>\n",
       "<style scoped>\n",
       "    .dataframe tbody tr th:only-of-type {\n",
       "        vertical-align: middle;\n",
       "    }\n",
       "\n",
       "    .dataframe tbody tr th {\n",
       "        vertical-align: top;\n",
       "    }\n",
       "\n",
       "    .dataframe thead th {\n",
       "        text-align: right;\n",
       "    }\n",
       "</style>\n",
       "<table border=\"1\" class=\"dataframe\">\n",
       "  <thead>\n",
       "    <tr style=\"text-align: right;\">\n",
       "      <th></th>\n",
       "      <th>work_life_balance</th>\n",
       "      <th>culture_values</th>\n",
       "      <th>diversity_inclusion</th>\n",
       "      <th>career_opp</th>\n",
       "      <th>comp_benefits</th>\n",
       "      <th>senior_mgmt</th>\n",
       "    </tr>\n",
       "  </thead>\n",
       "  <tbody>\n",
       "    <tr>\n",
       "      <th>322591</th>\n",
       "      <td>3.0</td>\n",
       "      <td>3.0</td>\n",
       "      <td>4.0</td>\n",
       "      <td>3.0</td>\n",
       "      <td>2.0</td>\n",
       "      <td>1.0</td>\n",
       "    </tr>\n",
       "    <tr>\n",
       "      <th>181696</th>\n",
       "      <td>5.0</td>\n",
       "      <td>4.0</td>\n",
       "      <td>5.0</td>\n",
       "      <td>4.0</td>\n",
       "      <td>5.0</td>\n",
       "      <td>4.0</td>\n",
       "    </tr>\n",
       "    <tr>\n",
       "      <th>400043</th>\n",
       "      <td>3.0</td>\n",
       "      <td>1.0</td>\n",
       "      <td>1.0</td>\n",
       "      <td>1.0</td>\n",
       "      <td>1.0</td>\n",
       "      <td>1.0</td>\n",
       "    </tr>\n",
       "    <tr>\n",
       "      <th>364095</th>\n",
       "      <td>3.0</td>\n",
       "      <td>2.0</td>\n",
       "      <td>3.0</td>\n",
       "      <td>3.0</td>\n",
       "      <td>2.0</td>\n",
       "      <td>4.0</td>\n",
       "    </tr>\n",
       "    <tr>\n",
       "      <th>372600</th>\n",
       "      <td>5.0</td>\n",
       "      <td>5.0</td>\n",
       "      <td>5.0</td>\n",
       "      <td>5.0</td>\n",
       "      <td>5.0</td>\n",
       "      <td>5.0</td>\n",
       "    </tr>\n",
       "  </tbody>\n",
       "</table>\n",
       "</div>"
      ],
      "text/plain": [
       "        work_life_balance  culture_values  diversity_inclusion  career_opp  \\\n",
       "322591                3.0             3.0                  4.0         3.0   \n",
       "181696                5.0             4.0                  5.0         4.0   \n",
       "400043                3.0             1.0                  1.0         1.0   \n",
       "364095                3.0             2.0                  3.0         3.0   \n",
       "372600                5.0             5.0                  5.0         5.0   \n",
       "\n",
       "        comp_benefits  senior_mgmt  \n",
       "322591            2.0          1.0  \n",
       "181696            5.0          4.0  \n",
       "400043            1.0          1.0  \n",
       "364095            2.0          4.0  \n",
       "372600            5.0          5.0  "
      ]
     },
     "execution_count": 81,
     "metadata": {},
     "output_type": "execute_result"
    }
   ],
   "source": [
    "X_train.head()"
   ]
  },
  {
   "cell_type": "code",
   "execution_count": 82,
   "metadata": {},
   "outputs": [
    {
     "data": {
      "text/html": [
       "<div>\n",
       "<style scoped>\n",
       "    .dataframe tbody tr th:only-of-type {\n",
       "        vertical-align: middle;\n",
       "    }\n",
       "\n",
       "    .dataframe tbody tr th {\n",
       "        vertical-align: top;\n",
       "    }\n",
       "\n",
       "    .dataframe thead th {\n",
       "        text-align: right;\n",
       "    }\n",
       "</style>\n",
       "<table border=\"1\" class=\"dataframe\">\n",
       "  <thead>\n",
       "    <tr style=\"text-align: right;\">\n",
       "      <th></th>\n",
       "      <th>work_life_balance</th>\n",
       "      <th>culture_values</th>\n",
       "      <th>diversity_inclusion</th>\n",
       "      <th>career_opp</th>\n",
       "      <th>comp_benefits</th>\n",
       "      <th>senior_mgmt</th>\n",
       "    </tr>\n",
       "  </thead>\n",
       "  <tbody>\n",
       "    <tr>\n",
       "      <th>301058</th>\n",
       "      <td>1.0</td>\n",
       "      <td>1.0</td>\n",
       "      <td>5.0</td>\n",
       "      <td>1.0</td>\n",
       "      <td>3.0</td>\n",
       "      <td>1.0</td>\n",
       "    </tr>\n",
       "    <tr>\n",
       "      <th>249759</th>\n",
       "      <td>3.0</td>\n",
       "      <td>5.0</td>\n",
       "      <td>5.0</td>\n",
       "      <td>5.0</td>\n",
       "      <td>5.0</td>\n",
       "      <td>4.0</td>\n",
       "    </tr>\n",
       "    <tr>\n",
       "      <th>365297</th>\n",
       "      <td>3.0</td>\n",
       "      <td>3.0</td>\n",
       "      <td>5.0</td>\n",
       "      <td>3.0</td>\n",
       "      <td>3.0</td>\n",
       "      <td>3.0</td>\n",
       "    </tr>\n",
       "    <tr>\n",
       "      <th>369994</th>\n",
       "      <td>3.0</td>\n",
       "      <td>5.0</td>\n",
       "      <td>5.0</td>\n",
       "      <td>4.0</td>\n",
       "      <td>5.0</td>\n",
       "      <td>5.0</td>\n",
       "    </tr>\n",
       "    <tr>\n",
       "      <th>139598</th>\n",
       "      <td>3.0</td>\n",
       "      <td>4.0</td>\n",
       "      <td>5.0</td>\n",
       "      <td>3.0</td>\n",
       "      <td>2.0</td>\n",
       "      <td>4.0</td>\n",
       "    </tr>\n",
       "  </tbody>\n",
       "</table>\n",
       "</div>"
      ],
      "text/plain": [
       "        work_life_balance  culture_values  diversity_inclusion  career_opp  \\\n",
       "301058                1.0             1.0                  5.0         1.0   \n",
       "249759                3.0             5.0                  5.0         5.0   \n",
       "365297                3.0             3.0                  5.0         3.0   \n",
       "369994                3.0             5.0                  5.0         4.0   \n",
       "139598                3.0             4.0                  5.0         3.0   \n",
       "\n",
       "        comp_benefits  senior_mgmt  \n",
       "301058            3.0          1.0  \n",
       "249759            5.0          4.0  \n",
       "365297            3.0          3.0  \n",
       "369994            5.0          5.0  \n",
       "139598            2.0          4.0  "
      ]
     },
     "execution_count": 82,
     "metadata": {},
     "output_type": "execute_result"
    }
   ],
   "source": [
    "X_test.head()"
   ]
  },
  {
   "cell_type": "code",
   "execution_count": 83,
   "metadata": {},
   "outputs": [],
   "source": [
    "#Now we  can predict:\n",
    "y_test_pred= classification.predict(X_test)"
   ]
  },
  {
   "cell_type": "code",
   "execution_count": 84,
   "metadata": {},
   "outputs": [
    {
     "name": "stdout",
     "output_type": "stream",
     "text": [
      "0.5252608754573791\n"
     ]
    },
    {
     "data": {
      "text/plain": [
       "0.5252608754573791"
      ]
     },
     "execution_count": 84,
     "metadata": {},
     "output_type": "execute_result"
    }
   ],
   "source": [
    "print(accuracy_score(y_test, y_test_pred))\n",
    "classification.score(X_test, y_test)"
   ]
  },
  {
   "cell_type": "code",
   "execution_count": 85,
   "metadata": {},
   "outputs": [
    {
     "data": {
      "text/plain": [
       "array([[21350,  3285,  2098,   996,  1566],\n",
       "       [11780,  9419,  4699,  1558,  1759],\n",
       "       [ 2142,  6643, 11782,  5482,  3255],\n",
       "       [  215,  1244,  6587, 13715,  8536],\n",
       "       [  122,   420,  2027,  5648, 21252]], dtype=int64)"
      ]
     },
     "execution_count": 85,
     "metadata": {},
     "output_type": "execute_result"
    }
   ],
   "source": [
    "confusion_matrix(y_test, y_test_pred)"
   ]
  },
  {
   "cell_type": "code",
   "execution_count": 86,
   "metadata": {},
   "outputs": [
    {
     "data": {
      "image/png": "[encoded data removed]",
      "text/plain": [
       "<Figure size 432x288 with 2 Axes>"
      ]
     },
     "metadata": {
      "needs_background": "light"
     },
     "output_type": "display_data"
    }
   ],
   "source": [
    "cm_test = confusion_matrix(y_test, y_test_pred)\n",
    "\n",
    "disp = ConfusionMatrixDisplay(cm_test,display_labels=classification.classes_)\n",
    "disp.plot()\n",
    "plt.show()"
   ]
  },
  {
   "cell_type": "code",
   "execution_count": 87,
   "metadata": {},
   "outputs": [
    {
     "data": {
      "text/plain": [
       "0.40658527259132515"
      ]
     },
     "execution_count": 87,
     "metadata": {},
     "output_type": "execute_result"
    }
   ],
   "source": [
    "cohen_kappa_score(y_test, y_test_pred)"
   ]
  },
  {
   "cell_type": "code",
   "execution_count": 88,
   "metadata": {},
   "outputs": [
    {
     "name": "stdout",
     "output_type": "stream",
     "text": [
      "              precision    recall  f1-score   support\n",
      "\n",
      "           1       0.60      0.73      0.66     29295\n",
      "           2       0.45      0.32      0.38     29215\n",
      "           3       0.43      0.40      0.42     29304\n",
      "           4       0.50      0.45      0.48     30297\n",
      "           5       0.58      0.72      0.65     29469\n",
      "\n",
      "    accuracy                           0.53    147580\n",
      "   macro avg       0.51      0.53      0.51    147580\n",
      "weighted avg       0.51      0.53      0.51    147580\n",
      "\n"
     ]
    }
   ],
   "source": [
    "print(classification_report(y_test, y_test_pred))"
   ]
  },
  {
   "cell_type": "markdown",
   "metadata": {},
   "source": [
    "decision tree"
   ]
  },
  {
   "cell_type": "code",
   "execution_count": 90,
   "metadata": {},
   "outputs": [],
   "source": [
    "regr = DecisionTreeRegressor(max_depth=5)\n",
    "model = regr.fit(X_train, y_train)"
   ]
  },
  {
   "cell_type": "code",
   "execution_count": 91,
   "metadata": {},
   "outputs": [
    {
     "name": "stdout",
     "output_type": "stream",
     "text": [
      "Train data R2 was: 0.60 \n",
      "Test data R2 was: 0.60\n"
     ]
    }
   ],
   "source": [
    "print(\"Train data R2 was: {:.2f} \".format(regr.score(X_train, y_train)))\n",
    "print(\"Test data R2 was: {:.2f}\".format(regr.score(X_test, y_test)))"
   ]
  },
  {
   "cell_type": "code",
   "execution_count": 92,
   "metadata": {},
   "outputs": [
    {
     "name": "stdout",
     "output_type": "stream",
     "text": [
      "Train data R2 was: 0.63\n",
      "Test data R2 was: 0.63\n"
     ]
    }
   ],
   "source": [
    "regr = DecisionTreeRegressor(max_depth=10,\n",
    "                             criterion = 'squared_error',\n",
    "                             min_samples_split=2,\n",
    "                             min_samples_leaf = 1,\n",
    "                             max_features = 6)\n",
    "regr.fit(X_train, y_train)\n",
    "print(\"Train data R2 was: {:.2f}\".format(regr.score(X_train, y_train)))\n",
    "print(\"Test data R2 was: {:.2f}\".format(regr.score(X_test, y_test)))"
   ]
  },
  {
   "cell_type": "code",
   "execution_count": 93,
   "metadata": {},
   "outputs": [
    {
     "name": "stdout",
     "output_type": "stream",
     "text": [
      "Train data R2 was: 0.63\n",
      "test data R2 was: 0.63\n"
     ]
    }
   ],
   "source": [
    "regr = DecisionTreeRegressor(max_depth=10,\n",
    "                             criterion = 'squared_error',\n",
    "                             min_samples_split=10,\n",
    "                             min_samples_leaf = 10,\n",
    "                             max_features = 3)\n",
    "regr.fit(X_train, y_train)\n",
    "print(\"Train data R2 was: {:.2f}\".format(regr.score(X_train, y_train)))\n",
    "print(\"test data R2 was: {:.2f}\".format(regr.score(X_test, y_test)))"
   ]
  },
  {
   "cell_type": "code",
   "execution_count": 94,
   "metadata": {},
   "outputs": [],
   "source": [
    "regr = DecisionTreeRegressor(max_depth=10,\n",
    "                             criterion = 'squared_error',\n",
    "                             min_samples_split=2,\n",
    "                             min_samples_leaf = 1,\n",
    "                             max_features = 6)"
   ]
  },
  {
   "cell_type": "code",
   "execution_count": 96,
   "metadata": {},
   "outputs": [],
   "source": [
    "results = cross_validate(regr,X_train, y_train, cv = 5) # We always do the CV on the TRAIN set. cv = K"
   ]
  },
  {
   "cell_type": "code",
   "execution_count": 97,
   "metadata": {},
   "outputs": [
    {
     "data": {
      "text/plain": [
       "{'fit_time': array([0.62956405, 0.52867794, 0.52430058, 0.61961198, 0.55439258]),\n",
       " 'score_time': array([0.01629615, 0.01247668, 0.01411271, 0.01376295, 0.0134201 ]),\n",
       " 'test_score': array([0.62749773, 0.62823242, 0.62827305, 0.62791385, 0.62152949])}"
      ]
     },
     "execution_count": 97,
     "metadata": {},
     "output_type": "execute_result"
    }
   ],
   "source": [
    "results"
   ]
  },
  {
   "cell_type": "code",
   "execution_count": 98,
   "metadata": {},
   "outputs": [
    {
     "name": "stdout",
     "output_type": "stream",
     "text": [
      "[0.62749773 0.62823242 0.62827305 0.62791385 0.62152949]\n",
      "The average R2 over the folds is: 0.63\n",
      "The standard deviation of R2 over the folds is: 0.00\n"
     ]
    }
   ],
   "source": [
    "print(results['test_score'])\n",
    "print(\"The average R2 over the folds is: {:.2f}\".format(results['test_score'].mean()))\n",
    "print(\"The standard deviation of R2 over the folds is: {:.2f}\".format(results['test_score'].std()))"
   ]
  },
  {
   "cell_type": "code",
   "execution_count": 99,
   "metadata": {},
   "outputs": [],
   "source": [
    "regr = DecisionTreeRegressor(max_depth=10,\n",
    "                             criterion = 'squared_error',\n",
    "                             min_samples_split=10,\n",
    "                             min_samples_leaf = 10,\n",
    "                             max_features = 3)"
   ]
  },
  {
   "cell_type": "code",
   "execution_count": 100,
   "metadata": {},
   "outputs": [
    {
     "name": "stdout",
     "output_type": "stream",
     "text": [
      "[0.62492024 0.62631689 0.62572049 0.6238763  0.61640419]\n",
      "The average R2 over the folds is: 0.62\n",
      "The standard deviation of R2 over the folds is: 0.00\n"
     ]
    }
   ],
   "source": [
    "results = cross_validate(regr,X_train, y_train, cv = 5)\n",
    "print(results['test_score'])\n",
    "print(\"The average R2 over the folds is: {:.2f}\".format(results['test_score'].mean()))\n",
    "print(\"The standard deviation of R2 over the folds is: {:.2f}\".format(results['test_score'].std()))"
   ]
  },
  {
   "cell_type": "code",
   "execution_count": 101,
   "metadata": {},
   "outputs": [
    {
     "data": {
      "text/html": [
       "<style>#sk-container-id-6 {color: black;background-color: white;}#sk-container-id-6 pre{padding: 0;}#sk-container-id-6 div.sk-toggleable {background-color: white;}#sk-container-id-6 label.sk-toggleable__label {cursor: pointer;display: block;width: 100%;margin-bottom: 0;padding: 0.3em;box-sizing: border-box;text-align: center;}#sk-container-id-6 label.sk-toggleable__label-arrow:before {content: \"▸\";float: left;margin-right: 0.25em;color: #696969;}#sk-container-id-6 label.sk-toggleable__label-arrow:hover:before {color: black;}#sk-container-id-6 div.sk-estimator:hover label.sk-toggleable__label-arrow:before {color: black;}#sk-container-id-6 div.sk-toggleable__content {max-height: 0;max-width: 0;overflow: hidden;text-align: left;background-color: #f0f8ff;}#sk-container-id-6 div.sk-toggleable__content pre {margin: 0.2em;color: black;border-radius: 0.25em;background-color: #f0f8ff;}#sk-container-id-6 input.sk-toggleable__control:checked~div.sk-toggleable__content {max-height: 200px;max-width: 100%;overflow: auto;}#sk-container-id-6 input.sk-toggleable__control:checked~label.sk-toggleable__label-arrow:before {content: \"▾\";}#sk-container-id-6 div.sk-estimator input.sk-toggleable__control:checked~label.sk-toggleable__label {background-color: #d4ebff;}#sk-container-id-6 div.sk-label input.sk-toggleable__control:checked~label.sk-toggleable__label {background-color: #d4ebff;}#sk-container-id-6 input.sk-hidden--visually {border: 0;clip: rect(1px 1px 1px 1px);clip: rect(1px, 1px, 1px, 1px);height: 1px;margin: -1px;overflow: hidden;padding: 0;position: absolute;width: 1px;}#sk-container-id-6 div.sk-estimator {font-family: monospace;background-color: #f0f8ff;border: 1px dotted black;border-radius: 0.25em;box-sizing: border-box;margin-bottom: 0.5em;}#sk-container-id-6 div.sk-estimator:hover {background-color: #d4ebff;}#sk-container-id-6 div.sk-parallel-item::after {content: \"\";width: 100%;border-bottom: 1px solid gray;flex-grow: 1;}#sk-container-id-6 div.sk-label:hover label.sk-toggleable__label {background-color: #d4ebff;}#sk-container-id-6 div.sk-serial::before {content: \"\";position: absolute;border-left: 1px solid gray;box-sizing: border-box;top: 0;bottom: 0;left: 50%;z-index: 0;}#sk-container-id-6 div.sk-serial {display: flex;flex-direction: column;align-items: center;background-color: white;padding-right: 0.2em;padding-left: 0.2em;position: relative;}#sk-container-id-6 div.sk-item {position: relative;z-index: 1;}#sk-container-id-6 div.sk-parallel {display: flex;align-items: stretch;justify-content: center;background-color: white;position: relative;}#sk-container-id-6 div.sk-item::before, #sk-container-id-6 div.sk-parallel-item::before {content: \"\";position: absolute;border-left: 1px solid gray;box-sizing: border-box;top: 0;bottom: 0;left: 50%;z-index: -1;}#sk-container-id-6 div.sk-parallel-item {display: flex;flex-direction: column;z-index: 1;position: relative;background-color: white;}#sk-container-id-6 div.sk-parallel-item:first-child::after {align-self: flex-end;width: 50%;}#sk-container-id-6 div.sk-parallel-item:last-child::after {align-self: flex-start;width: 50%;}#sk-container-id-6 div.sk-parallel-item:only-child::after {width: 0;}#sk-container-id-6 div.sk-dashed-wrapped {border: 1px dashed gray;margin: 0 0.4em 0.5em 0.4em;box-sizing: border-box;padding-bottom: 0.4em;background-color: white;}#sk-container-id-6 div.sk-label label {font-family: monospace;font-weight: bold;display: inline-block;line-height: 1.2em;}#sk-container-id-6 div.sk-label-container {text-align: center;}#sk-container-id-6 div.sk-container {/* jupyter's `normalize.less` sets `[hidden] { display: none; }` but bootstrap.min.css set `[hidden] { display: none !important; }` so we also need the `!important` here to be able to override the default hidden behavior on the sphinx rendered scikit-learn.org. See: https://github.com/scikit-learn/scikit-learn/issues/21755 */display: inline-block !important;position: relative;}#sk-container-id-6 div.sk-text-repr-fallback {display: none;}</style><div id=\"sk-container-id-6\" class=\"sk-top-container\"><div class=\"sk-text-repr-fallback\"><pre>DecisionTreeRegressor(max_depth=10, max_features=3, min_samples_leaf=10,\n",
       "                      min_samples_split=10)</pre><b>In a Jupyter environment, please rerun this cell to show the HTML representation or trust the notebook. <br />On GitHub, the HTML representation is unable to render, please try loading this page with nbviewer.org.</b></div><div class=\"sk-container\" hidden><div class=\"sk-item\"><div class=\"sk-estimator sk-toggleable\"><input class=\"sk-toggleable__control sk-hidden--visually\" id=\"sk-estimator-id-6\" type=\"checkbox\" checked><label for=\"sk-estimator-id-6\" class=\"sk-toggleable__label sk-toggleable__label-arrow\">DecisionTreeRegressor</label><div class=\"sk-toggleable__content\"><pre>DecisionTreeRegressor(max_depth=10, max_features=3, min_samples_leaf=10,\n",
       "                      min_samples_split=10)</pre></div></div></div></div></div>"
      ],
      "text/plain": [
       "DecisionTreeRegressor(max_depth=10, max_features=3, min_samples_leaf=10,\n",
       "                      min_samples_split=10)"
      ]
     },
     "execution_count": 101,
     "metadata": {},
     "output_type": "execute_result"
    }
   ],
   "source": [
    "regr.fit(X_train,y_train)"
   ]
  },
  {
   "cell_type": "markdown",
   "metadata": {},
   "source": [
    "### clusters"
   ]
  },
  {
   "cell_type": "code",
   "execution_count": null,
   "metadata": {},
   "outputs": [],
   "source": [
    "p = sns.scatterplot(data=df, x=\"t-SNE-1\", y=\"t-SNE-2\", hue=clusters.labels_, legend=\"full\", palette=\"deep\")\n",
    "sns.move_legend(p, \"upper right\", bbox_to_anchor=(1.17, 1.2), title='Clusters')\n",
    "plt.show()"
   ]
  },
  {
   "cell_type": "code",
   "execution_count": null,
   "metadata": {},
   "outputs": [],
   "source": []
  },
  {
   "cell_type": "code",
   "execution_count": null,
   "metadata": {},
   "outputs": [],
   "source": []
  },
  {
   "cell_type": "code",
   "execution_count": null,
   "metadata": {},
   "outputs": [],
   "source": []
  },
  {
   "cell_type": "markdown",
   "metadata": {},
   "source": [
    "0. Deal with class imbalance\n",
    "1. X-y\n",
    "2. Train test split \n",
    "3. hot encode categoricals train and test - x\n",
    "4. standard scarler train and test - x\n",
    "5. concat train encoded and scaled -x\n",
    "6. concat test encoded and scaled -x\n",
    "7. create model and get predictions "
   ]
  },
  {
   "cell_type": "code",
   "execution_count": null,
   "metadata": {},
   "outputs": [],
   "source": []
  },
  {
   "cell_type": "code",
   "execution_count": null,
   "metadata": {},
   "outputs": [],
   "source": []
  },
  {
   "cell_type": "code",
   "execution_count": null,
   "metadata": {},
   "outputs": [],
   "source": []
  }
 ],
 "metadata": {
  "kernelspec": {
   "display_name": "Python 3.9.12 ('base')",
   "language": "python",
   "name": "python3"
  },
  "language_info": {
   "codemirror_mode": {
    "name": "ipython",
    "version": 3
   },
   "file_extension": ".py",
   "mimetype": "text/x-python",
   "name": "python",
   "nbconvert_exporter": "python",
   "pygments_lexer": "ipython3",
   "version": "3.9.12"
  },
  "orig_nbformat": 4,
  "vscode": {
   "interpreter": {
    "hash": "45eb4d1d750c840075f3069a609d69482664f66d122b8ce35d0daa820628329d"
   }
  }
 },
 "nbformat": 4,
 "nbformat_minor": 2
}
