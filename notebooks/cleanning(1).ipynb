{
 "cells": [
  {
   "cell_type": "markdown",
   "id": "14497c9f",
   "metadata": {},
   "source": [
    "# Load libraries"
   ]
  },
  {
   "cell_type": "code",
   "execution_count": 235,
   "id": "e1c5edd4",
   "metadata": {},
   "outputs": [],
   "source": [
    "import pandas as pd\n",
    "import numpy as np\n",
    "from scipy import stats"
   ]
  },
  {
   "cell_type": "markdown",
   "id": "7efa03d0",
   "metadata": {},
   "source": [
    "# Reading the file"
   ]
  },
  {
   "cell_type": "code",
   "execution_count": 236,
   "id": "950dfdd9",
   "metadata": {},
   "outputs": [],
   "source": [
    "#df=pd.read_csv('../data/raw/glassdoor_reviews.csv')\n",
    "#df.head()"
   ]
  },
  {
   "cell_type": "markdown",
   "id": "71a6e3eb",
   "metadata": {},
   "source": [
    "# Checking null values, shape and types"
   ]
  },
  {
   "cell_type": "code",
   "execution_count": 237,
   "id": "a55895c5",
   "metadata": {},
   "outputs": [],
   "source": [
    "#df.shape"
   ]
  },
  {
   "cell_type": "code",
   "execution_count": 238,
   "id": "d50a5b0c",
   "metadata": {},
   "outputs": [],
   "source": [
    "#df_na = df[:].isnull().sum()\n",
    "#df_na"
   ]
  },
  {
   "cell_type": "code",
   "execution_count": 239,
   "id": "0b869e9c",
   "metadata": {},
   "outputs": [],
   "source": [
    "#df.dtypes"
   ]
  },
  {
   "cell_type": "code",
   "execution_count": 240,
   "id": "567d936b",
   "metadata": {},
   "outputs": [],
   "source": [
    "#df['year'] = df['date_review'].str[:4]\n",
    "#df.head()"
   ]
  },
  {
   "cell_type": "code",
   "execution_count": 241,
   "id": "e45f2eec",
   "metadata": {},
   "outputs": [],
   "source": [
    "#df1 = df['year'].value_counts()\n",
    "#df1.head()"
   ]
  },
  {
   "cell_type": "markdown",
   "id": "438595e0",
   "metadata": {},
   "source": [
    "I decided to use only 4 years, 2 from before the pandemic and 2 during (2018,2019,2020 and 2021)"
   ]
  },
  {
   "cell_type": "code",
   "execution_count": 242,
   "id": "1bebce9d",
   "metadata": {},
   "outputs": [],
   "source": [
    "#year_used=['2018','2019','2020','2021']\n",
    "#filtered_df=df[df['year'].isin(year_used)]\n",
    "#filtered_df"
   ]
  },
  {
   "cell_type": "code",
   "execution_count": 243,
   "id": "02ad30b4",
   "metadata": {},
   "outputs": [],
   "source": [
    "#filtered_df.to_csv('filtered_df.csv', index=False)"
   ]
  },
  {
   "cell_type": "markdown",
   "id": "cf62f467",
   "metadata": {},
   "source": [
    "# Using the filtered dataset"
   ]
  },
  {
   "cell_type": "code",
   "execution_count": 244,
   "id": "0297596b",
   "metadata": {},
   "outputs": [
    {
     "data": {
      "text/html": [
       "<div>\n",
       "<style scoped>\n",
       "    .dataframe tbody tr th:only-of-type {\n",
       "        vertical-align: middle;\n",
       "    }\n",
       "\n",
       "    .dataframe tbody tr th {\n",
       "        vertical-align: top;\n",
       "    }\n",
       "\n",
       "    .dataframe thead th {\n",
       "        text-align: right;\n",
       "    }\n",
       "</style>\n",
       "<table border=\"1\" class=\"dataframe\">\n",
       "  <thead>\n",
       "    <tr style=\"text-align: right;\">\n",
       "      <th></th>\n",
       "      <th>firm</th>\n",
       "      <th>date_review</th>\n",
       "      <th>job_title</th>\n",
       "      <th>current</th>\n",
       "      <th>location</th>\n",
       "      <th>overall_rating</th>\n",
       "      <th>work_life_balance</th>\n",
       "      <th>culture_values</th>\n",
       "      <th>diversity_inclusion</th>\n",
       "      <th>career_opp</th>\n",
       "      <th>comp_benefits</th>\n",
       "      <th>senior_mgmt</th>\n",
       "      <th>recommend</th>\n",
       "      <th>ceo_approv</th>\n",
       "      <th>outlook</th>\n",
       "      <th>headline</th>\n",
       "      <th>pros</th>\n",
       "      <th>cons</th>\n",
       "      <th>year</th>\n",
       "    </tr>\n",
       "  </thead>\n",
       "  <tbody>\n",
       "    <tr>\n",
       "      <th>0</th>\n",
       "      <td>AFH-Wealth-Management</td>\n",
       "      <td>2018-01-29</td>\n",
       "      <td>Anonymous Employee</td>\n",
       "      <td>Current Employee</td>\n",
       "      <td>NaN</td>\n",
       "      <td>5</td>\n",
       "      <td>5.0</td>\n",
       "      <td>5.0</td>\n",
       "      <td>NaN</td>\n",
       "      <td>5.0</td>\n",
       "      <td>5.0</td>\n",
       "      <td>5.0</td>\n",
       "      <td>v</td>\n",
       "      <td>o</td>\n",
       "      <td>v</td>\n",
       "      <td>Administration</td>\n",
       "      <td>Really nice community, lots of benefits for em...</td>\n",
       "      <td>nothing that i can think of- i love working here</td>\n",
       "      <td>2018</td>\n",
       "    </tr>\n",
       "    <tr>\n",
       "      <th>1</th>\n",
       "      <td>AFH-Wealth-Management</td>\n",
       "      <td>2018-07-05</td>\n",
       "      <td>Anonymous Employee</td>\n",
       "      <td>Former Employee, more than 3 years</td>\n",
       "      <td>NaN</td>\n",
       "      <td>1</td>\n",
       "      <td>3.0</td>\n",
       "      <td>1.0</td>\n",
       "      <td>NaN</td>\n",
       "      <td>2.0</td>\n",
       "      <td>1.0</td>\n",
       "      <td>1.0</td>\n",
       "      <td>x</td>\n",
       "      <td>x</td>\n",
       "      <td>v</td>\n",
       "      <td>Could be so much better</td>\n",
       "      <td>Lots of talented and friendly people.\\r\\n\\r\\nR...</td>\n",
       "      <td>The talented and friendly people are woefully ...</td>\n",
       "      <td>2018</td>\n",
       "    </tr>\n",
       "    <tr>\n",
       "      <th>2</th>\n",
       "      <td>AFH-Wealth-Management</td>\n",
       "      <td>2018-08-02</td>\n",
       "      <td>Anonymous Employee</td>\n",
       "      <td>Current Employee, more than 3 years</td>\n",
       "      <td>NaN</td>\n",
       "      <td>5</td>\n",
       "      <td>5.0</td>\n",
       "      <td>5.0</td>\n",
       "      <td>NaN</td>\n",
       "      <td>4.0</td>\n",
       "      <td>4.0</td>\n",
       "      <td>4.0</td>\n",
       "      <td>v</td>\n",
       "      <td>o</td>\n",
       "      <td>v</td>\n",
       "      <td>Employer of choice</td>\n",
       "      <td>Top CEO with a vision and desire to make thing...</td>\n",
       "      <td>There are none... it's what you make it.</td>\n",
       "      <td>2018</td>\n",
       "    </tr>\n",
       "    <tr>\n",
       "      <th>3</th>\n",
       "      <td>AFH-Wealth-Management</td>\n",
       "      <td>2018-09-07</td>\n",
       "      <td>Anonymous Employee</td>\n",
       "      <td>Current Employee</td>\n",
       "      <td>NaN</td>\n",
       "      <td>4</td>\n",
       "      <td>3.0</td>\n",
       "      <td>3.0</td>\n",
       "      <td>NaN</td>\n",
       "      <td>5.0</td>\n",
       "      <td>2.0</td>\n",
       "      <td>3.0</td>\n",
       "      <td>v</td>\n",
       "      <td>v</td>\n",
       "      <td>v</td>\n",
       "      <td>Good place to work</td>\n",
       "      <td>Very professional manner and lots of opportuni...</td>\n",
       "      <td>There are none to point out</td>\n",
       "      <td>2018</td>\n",
       "    </tr>\n",
       "    <tr>\n",
       "      <th>4</th>\n",
       "      <td>AFH-Wealth-Management</td>\n",
       "      <td>2018-12-04</td>\n",
       "      <td>Anonymous Employee</td>\n",
       "      <td>Former Employee</td>\n",
       "      <td>NaN</td>\n",
       "      <td>2</td>\n",
       "      <td>4.0</td>\n",
       "      <td>2.0</td>\n",
       "      <td>NaN</td>\n",
       "      <td>2.0</td>\n",
       "      <td>1.0</td>\n",
       "      <td>1.0</td>\n",
       "      <td>x</td>\n",
       "      <td>o</td>\n",
       "      <td>o</td>\n",
       "      <td>In the process of trying to provide the best s...</td>\n",
       "      <td>The compressed hours structure works well wher...</td>\n",
       "      <td>I genuinely believe AFH have a good offering f...</td>\n",
       "      <td>2018</td>\n",
       "    </tr>\n",
       "    <tr>\n",
       "      <th>...</th>\n",
       "      <td>...</td>\n",
       "      <td>...</td>\n",
       "      <td>...</td>\n",
       "      <td>...</td>\n",
       "      <td>...</td>\n",
       "      <td>...</td>\n",
       "      <td>...</td>\n",
       "      <td>...</td>\n",
       "      <td>...</td>\n",
       "      <td>...</td>\n",
       "      <td>...</td>\n",
       "      <td>...</td>\n",
       "      <td>...</td>\n",
       "      <td>...</td>\n",
       "      <td>...</td>\n",
       "      <td>...</td>\n",
       "      <td>...</td>\n",
       "      <td>...</td>\n",
       "      <td>...</td>\n",
       "    </tr>\n",
       "    <tr>\n",
       "      <th>476125</th>\n",
       "      <td>the-LEGO-Group</td>\n",
       "      <td>2021-06-02</td>\n",
       "      <td>Marketing Manager</td>\n",
       "      <td>Current Employee, more than 5 years</td>\n",
       "      <td>München, Bavaria, Bavaria</td>\n",
       "      <td>5</td>\n",
       "      <td>4.0</td>\n",
       "      <td>5.0</td>\n",
       "      <td>4.0</td>\n",
       "      <td>4.0</td>\n",
       "      <td>4.0</td>\n",
       "      <td>4.0</td>\n",
       "      <td>v</td>\n",
       "      <td>v</td>\n",
       "      <td>v</td>\n",
       "      <td>Just an awesome company to work for!!!</td>\n",
       "      <td>Great company values, awesome product, smart c...</td>\n",
       "      <td>Not very easy to transfer to other locations</td>\n",
       "      <td>2021</td>\n",
       "    </tr>\n",
       "    <tr>\n",
       "      <th>476126</th>\n",
       "      <td>the-LEGO-Group</td>\n",
       "      <td>2021-06-03</td>\n",
       "      <td>Sales Associate</td>\n",
       "      <td>Current Employee, less than 1 year</td>\n",
       "      <td>London, England, England</td>\n",
       "      <td>3</td>\n",
       "      <td>NaN</td>\n",
       "      <td>NaN</td>\n",
       "      <td>NaN</td>\n",
       "      <td>NaN</td>\n",
       "      <td>NaN</td>\n",
       "      <td>NaN</td>\n",
       "      <td>o</td>\n",
       "      <td>o</td>\n",
       "      <td>o</td>\n",
       "      <td>working at lego</td>\n",
       "      <td>staff discount is really nice</td>\n",
       "      <td>micro managing is a hassle\\r\\ncan become menta...</td>\n",
       "      <td>2021</td>\n",
       "    </tr>\n",
       "    <tr>\n",
       "      <th>476127</th>\n",
       "      <td>the-LEGO-Group</td>\n",
       "      <td>2021-06-03</td>\n",
       "      <td>Strategist</td>\n",
       "      <td>Current Employee</td>\n",
       "      <td>NaN</td>\n",
       "      <td>4</td>\n",
       "      <td>5.0</td>\n",
       "      <td>5.0</td>\n",
       "      <td>5.0</td>\n",
       "      <td>3.0</td>\n",
       "      <td>5.0</td>\n",
       "      <td>3.0</td>\n",
       "      <td>v</td>\n",
       "      <td>o</td>\n",
       "      <td>o</td>\n",
       "      <td>not interested in growing their people</td>\n",
       "      <td>loved brand for a lot of people</td>\n",
       "      <td>you can spend 6-10 years without any promotion...</td>\n",
       "      <td>2021</td>\n",
       "    </tr>\n",
       "    <tr>\n",
       "      <th>476128</th>\n",
       "      <td>the-LEGO-Group</td>\n",
       "      <td>2021-06-04</td>\n",
       "      <td>Customer Service Representative</td>\n",
       "      <td>Current Employee, less than 1 year</td>\n",
       "      <td>NaN</td>\n",
       "      <td>5</td>\n",
       "      <td>NaN</td>\n",
       "      <td>NaN</td>\n",
       "      <td>NaN</td>\n",
       "      <td>NaN</td>\n",
       "      <td>NaN</td>\n",
       "      <td>NaN</td>\n",
       "      <td>o</td>\n",
       "      <td>o</td>\n",
       "      <td>o</td>\n",
       "      <td>Great Place to Work</td>\n",
       "      <td>Good wages, good hours, lots of resources</td>\n",
       "      <td>Working every other weekend, busy seasons can ...</td>\n",
       "      <td>2021</td>\n",
       "    </tr>\n",
       "    <tr>\n",
       "      <th>476129</th>\n",
       "      <td>the-LEGO-Group</td>\n",
       "      <td>2021-06-04</td>\n",
       "      <td>Human Resources Specialist</td>\n",
       "      <td>Current Employee, more than 3 years</td>\n",
       "      <td>Kladno, Central Bohemian, Central Bohemian</td>\n",
       "      <td>5</td>\n",
       "      <td>4.0</td>\n",
       "      <td>5.0</td>\n",
       "      <td>4.0</td>\n",
       "      <td>4.0</td>\n",
       "      <td>5.0</td>\n",
       "      <td>5.0</td>\n",
       "      <td>v</td>\n",
       "      <td>v</td>\n",
       "      <td>o</td>\n",
       "      <td>I strongly recommend the LEGO Group as employer</td>\n",
       "      <td>The LEGO Group is company with many opportunit...</td>\n",
       "      <td>Many things are centralized in Denmark and rel...</td>\n",
       "      <td>2021</td>\n",
       "    </tr>\n",
       "  </tbody>\n",
       "</table>\n",
       "<p>476130 rows × 19 columns</p>\n",
       "</div>"
      ],
      "text/plain": [
       "                         firm date_review                         job_title  \\\n",
       "0       AFH-Wealth-Management  2018-01-29                Anonymous Employee   \n",
       "1       AFH-Wealth-Management  2018-07-05                Anonymous Employee   \n",
       "2       AFH-Wealth-Management  2018-08-02                Anonymous Employee   \n",
       "3       AFH-Wealth-Management  2018-09-07                Anonymous Employee   \n",
       "4       AFH-Wealth-Management  2018-12-04                Anonymous Employee   \n",
       "...                       ...         ...                               ...   \n",
       "476125         the-LEGO-Group  2021-06-02                 Marketing Manager   \n",
       "476126         the-LEGO-Group  2021-06-03                   Sales Associate   \n",
       "476127         the-LEGO-Group  2021-06-03                        Strategist   \n",
       "476128         the-LEGO-Group  2021-06-04   Customer Service Representative   \n",
       "476129         the-LEGO-Group  2021-06-04        Human Resources Specialist   \n",
       "\n",
       "                                    current  \\\n",
       "0                          Current Employee   \n",
       "1        Former Employee, more than 3 years   \n",
       "2       Current Employee, more than 3 years   \n",
       "3                          Current Employee   \n",
       "4                           Former Employee   \n",
       "...                                     ...   \n",
       "476125  Current Employee, more than 5 years   \n",
       "476126   Current Employee, less than 1 year   \n",
       "476127                     Current Employee   \n",
       "476128   Current Employee, less than 1 year   \n",
       "476129  Current Employee, more than 3 years   \n",
       "\n",
       "                                          location  overall_rating  \\\n",
       "0                                              NaN               5   \n",
       "1                                              NaN               1   \n",
       "2                                              NaN               5   \n",
       "3                                              NaN               4   \n",
       "4                                              NaN               2   \n",
       "...                                            ...             ...   \n",
       "476125                   München, Bavaria, Bavaria               5   \n",
       "476126                    London, England, England               3   \n",
       "476127                                         NaN               4   \n",
       "476128                                         NaN               5   \n",
       "476129  Kladno, Central Bohemian, Central Bohemian               5   \n",
       "\n",
       "        work_life_balance  culture_values  diversity_inclusion  career_opp  \\\n",
       "0                     5.0             5.0                  NaN         5.0   \n",
       "1                     3.0             1.0                  NaN         2.0   \n",
       "2                     5.0             5.0                  NaN         4.0   \n",
       "3                     3.0             3.0                  NaN         5.0   \n",
       "4                     4.0             2.0                  NaN         2.0   \n",
       "...                   ...             ...                  ...         ...   \n",
       "476125                4.0             5.0                  4.0         4.0   \n",
       "476126                NaN             NaN                  NaN         NaN   \n",
       "476127                5.0             5.0                  5.0         3.0   \n",
       "476128                NaN             NaN                  NaN         NaN   \n",
       "476129                4.0             5.0                  4.0         4.0   \n",
       "\n",
       "        comp_benefits  senior_mgmt recommend ceo_approv outlook  \\\n",
       "0                 5.0          5.0         v          o       v   \n",
       "1                 1.0          1.0         x          x       v   \n",
       "2                 4.0          4.0         v          o       v   \n",
       "3                 2.0          3.0         v          v       v   \n",
       "4                 1.0          1.0         x          o       o   \n",
       "...               ...          ...       ...        ...     ...   \n",
       "476125            4.0          4.0         v          v       v   \n",
       "476126            NaN          NaN         o          o       o   \n",
       "476127            5.0          3.0         v          o       o   \n",
       "476128            NaN          NaN         o          o       o   \n",
       "476129            5.0          5.0         v          v       o   \n",
       "\n",
       "                                                 headline  \\\n",
       "0                                          Administration   \n",
       "1                                 Could be so much better   \n",
       "2                                      Employer of choice   \n",
       "3                                      Good place to work   \n",
       "4       In the process of trying to provide the best s...   \n",
       "...                                                   ...   \n",
       "476125             Just an awesome company to work for!!!   \n",
       "476126                                    working at lego   \n",
       "476127             not interested in growing their people   \n",
       "476128                                Great Place to Work   \n",
       "476129    I strongly recommend the LEGO Group as employer   \n",
       "\n",
       "                                                     pros  \\\n",
       "0       Really nice community, lots of benefits for em...   \n",
       "1       Lots of talented and friendly people.\\r\\n\\r\\nR...   \n",
       "2       Top CEO with a vision and desire to make thing...   \n",
       "3       Very professional manner and lots of opportuni...   \n",
       "4       The compressed hours structure works well wher...   \n",
       "...                                                   ...   \n",
       "476125  Great company values, awesome product, smart c...   \n",
       "476126                      staff discount is really nice   \n",
       "476127                    loved brand for a lot of people   \n",
       "476128          Good wages, good hours, lots of resources   \n",
       "476129  The LEGO Group is company with many opportunit...   \n",
       "\n",
       "                                                     cons  year  \n",
       "0        nothing that i can think of- i love working here  2018  \n",
       "1       The talented and friendly people are woefully ...  2018  \n",
       "2                There are none... it's what you make it.  2018  \n",
       "3                             There are none to point out  2018  \n",
       "4       I genuinely believe AFH have a good offering f...  2018  \n",
       "...                                                   ...   ...  \n",
       "476125       Not very easy to transfer to other locations  2021  \n",
       "476126  micro managing is a hassle\\r\\ncan become menta...  2021  \n",
       "476127  you can spend 6-10 years without any promotion...  2021  \n",
       "476128  Working every other weekend, busy seasons can ...  2021  \n",
       "476129  Many things are centralized in Denmark and rel...  2021  \n",
       "\n",
       "[476130 rows x 19 columns]"
      ]
     },
     "execution_count": 244,
     "metadata": {},
     "output_type": "execute_result"
    }
   ],
   "source": [
    "df=pd.read_csv('../data/raw/filtered_df.csv')\n",
    "df"
   ]
  },
  {
   "cell_type": "code",
   "execution_count": 245,
   "id": "d7c5cfb3",
   "metadata": {},
   "outputs": [
    {
     "data": {
      "text/plain": [
       "(476130, 19)"
      ]
     },
     "execution_count": 245,
     "metadata": {},
     "output_type": "execute_result"
    }
   ],
   "source": [
    "df.shape"
   ]
  },
  {
   "cell_type": "code",
   "execution_count": 246,
   "id": "bb28e4fe",
   "metadata": {},
   "outputs": [
    {
     "data": {
      "text/plain": [
       "firm                    object\n",
       "date_review             object\n",
       "job_title               object\n",
       "current                 object\n",
       "location                object\n",
       "overall_rating           int64\n",
       "work_life_balance      float64\n",
       "culture_values         float64\n",
       "diversity_inclusion    float64\n",
       "career_opp             float64\n",
       "comp_benefits          float64\n",
       "senior_mgmt            float64\n",
       "recommend               object\n",
       "ceo_approv              object\n",
       "outlook                 object\n",
       "headline                object\n",
       "pros                    object\n",
       "cons                    object\n",
       "year                     int64\n",
       "dtype: object"
      ]
     },
     "execution_count": 246,
     "metadata": {},
     "output_type": "execute_result"
    }
   ],
   "source": [
    "df.dtypes"
   ]
  },
  {
   "cell_type": "code",
   "execution_count": 247,
   "id": "6064a68c",
   "metadata": {},
   "outputs": [
    {
     "data": {
      "text/plain": [
       "firm                        0\n",
       "date_review                 0\n",
       "job_title                   0\n",
       "current                     0\n",
       "location               156491\n",
       "overall_rating              0\n",
       "work_life_balance      110435\n",
       "culture_values         111633\n",
       "diversity_inclusion    340064\n",
       "career_opp             108303\n",
       "comp_benefits          110308\n",
       "senior_mgmt            113442\n",
       "recommend                   0\n",
       "ceo_approv                  0\n",
       "outlook                     0\n",
       "headline                 1883\n",
       "pros                        0\n",
       "cons                        4\n",
       "year                        0\n",
       "dtype: int64"
      ]
     },
     "execution_count": 247,
     "metadata": {},
     "output_type": "execute_result"
    }
   ],
   "source": [
    "df[:].isnull().sum()"
   ]
  },
  {
   "cell_type": "markdown",
   "id": "49160b75",
   "metadata": {},
   "source": [
    "ceo_approv info: \n",
    "v - Positive, r - Mild, x - Negative, o - No opinion"
   ]
  },
  {
   "cell_type": "code",
   "execution_count": 248,
   "id": "c1cec135",
   "metadata": {},
   "outputs": [
    {
     "data": {
      "text/plain": [
       "array(['o', 'x', 'v', 'r'], dtype=object)"
      ]
     },
     "execution_count": 248,
     "metadata": {},
     "output_type": "execute_result"
    }
   ],
   "source": [
    "df['ceo_approv'].unique()"
   ]
  },
  {
   "cell_type": "code",
   "execution_count": 249,
   "id": "ddf68c22",
   "metadata": {},
   "outputs": [
    {
     "data": {
      "text/plain": [
       "array([ 5.,  2.,  4.,  3.,  1., nan])"
      ]
     },
     "execution_count": 249,
     "metadata": {},
     "output_type": "execute_result"
    }
   ],
   "source": [
    "df['career_opp'].unique()"
   ]
  },
  {
   "cell_type": "code",
   "execution_count": 250,
   "id": "c7def072",
   "metadata": {},
   "outputs": [
    {
     "data": {
      "text/plain": [
       "array([ 5.,  1.,  4.,  3., nan,  2.])"
      ]
     },
     "execution_count": 250,
     "metadata": {},
     "output_type": "execute_result"
    }
   ],
   "source": [
    "df['senior_mgmt'].unique()"
   ]
  },
  {
   "cell_type": "code",
   "execution_count": 251,
   "id": "27095f34",
   "metadata": {},
   "outputs": [
    {
     "data": {
      "text/plain": [
       "array([ 5.,  1.,  4.,  2.,  3., nan])"
      ]
     },
     "execution_count": 251,
     "metadata": {},
     "output_type": "execute_result"
    }
   ],
   "source": [
    "df['comp_benefits'].unique()"
   ]
  },
  {
   "cell_type": "code",
   "execution_count": 252,
   "id": "5fa918ab",
   "metadata": {},
   "outputs": [
    {
     "data": {
      "text/plain": [
       "array([nan,  1.,  2.,  4.,  5.,  3.])"
      ]
     },
     "execution_count": 252,
     "metadata": {},
     "output_type": "execute_result"
    }
   ],
   "source": [
    "df['diversity_inclusion'].unique()"
   ]
  },
  {
   "cell_type": "code",
   "execution_count": 253,
   "id": "cc291186",
   "metadata": {},
   "outputs": [
    {
     "data": {
      "text/plain": [
       "5.0    60422\n",
       "4.0    36101\n",
       "3.0    22574\n",
       "2.0     8516\n",
       "1.0     8453\n",
       "Name: diversity_inclusion, dtype: int64"
      ]
     },
     "execution_count": 253,
     "metadata": {},
     "output_type": "execute_result"
    }
   ],
   "source": [
    "df['diversity_inclusion'].value_counts()"
   ]
  },
  {
   "cell_type": "code",
   "execution_count": 254,
   "id": "c1147bc3",
   "metadata": {},
   "outputs": [],
   "source": [
    "#df['diversity_inclusion'].replace(to_replace=\"year\",\n",
    " #          value=np.nan)"
   ]
  },
  {
   "cell_type": "code",
   "execution_count": 255,
   "id": "d71c643e",
   "metadata": {},
   "outputs": [],
   "source": [
    "df1=df[df['year'] < 2020]"
   ]
  },
  {
   "cell_type": "code",
   "execution_count": 256,
   "id": "6d3b0cf8",
   "metadata": {},
   "outputs": [
    {
     "data": {
      "text/plain": [
       "array(['AFH-Wealth-Management', 'AJ-Bell', 'ALDI', 'AQA', 'ASDA', 'ASOS',\n",
       "       'AXA-UK', 'Abcam',\n",
       "       'Abertawe-Bro-Morgannwg-University-Health-Board', 'Accenture',\n",
       "       'Accor', 'Achieving-for-Children', 'ActionCOACH',\n",
       "       'Active-Care-Group', 'Adecco', 'Age-UK-The-National-Charity',\n",
       "       'AlixPartners', 'American-Express', 'Amey', 'Angard-Staffing',\n",
       "       'Anglian-Water', 'Anglo-American',\n",
       "       'Animal-and-Plant-Health-Agency', 'Aon', 'Apple', 'Arcadia',\n",
       "       'Arnold-Clark', 'AstraZeneca', 'Aviva', 'B-and-M-Retail',\n",
       "       'B-and-Q', 'BAT', 'BBC', 'BDO', 'BHS', 'BIS', 'BNP-Paribas',\n",
       "       'BNY-Mellon', 'BP', 'BPP-Holdings', 'BT',\n",
       "       'Babcock-International-Group', 'Babylon-Health',\n",
       "       'Bain-and-Company', 'Balfour-Beatty', 'Bannatyne-Group',\n",
       "       'Barchester-Healthcare', 'Barclays', 'Barnardo-s',\n",
       "       'Barnet-and-Chase-Farm-Hospitals-NHS-Trust', 'Barnett-Waddingham',\n",
       "       'Barratt-Developments', 'Barts-Health-NHS-Trust',\n",
       "       'BayWa-r-e-renewable-energy', 'Bayer', 'Best-Western',\n",
       "       'Betsi-Cadwaladr-University-Health-Board',\n",
       "       'Bill-and-Melinda-Gates-Foundation', 'Birkbeck-College',\n",
       "       'Birmingham-City-University', 'Bloomberg-L-P', 'Blue-Arrow',\n",
       "       'Blue-Yonder', 'Booking-com', 'Boots', 'Boots-Opticians',\n",
       "       'Boston-Consulting-Group', 'Brewin-Dolphin', 'British-Airways',\n",
       "       'British-Red-Cross', 'Brook-Street', 'Bullhorn', 'Bupa',\n",
       "       'Burberry', 'CBRE', 'CVS-Group', 'Cambridge-Assessment', 'Capita',\n",
       "       'Capital-Group', 'CarShop-UK', 'Cardiff-University', 'Care-UK',\n",
       "       'Career-Legal', 'Christie-s', 'Cisco-Systems', 'Citi',\n",
       "       'Citizens-Advice', 'CityFibre', 'Civil-Service-United-Kingdom',\n",
       "       'Co-op', 'Colosseum-Dental', 'Colt-Technology-Services',\n",
       "       'Communities-and-Local-Government', 'Companies-House',\n",
       "       'Compass-Group', 'Cougar-Mountain', 'Countrywide-plc',\n",
       "       'Covea-Insurance', 'Coventry-University', 'Creative-Support',\n",
       "       'Cromwell-Tools', 'Crown-Prosecution-Service',\n",
       "       'Crowne-Plaza-Hotels-and-Resorts', 'Curtis-Banks',\n",
       "       'Cushman-and-Wakefield', 'Cygnet-Health-Care', 'DFID',\n",
       "       'DFS-Furniture', 'DHL-Supply-Chain', 'DPDgroup', 'DWF',\n",
       "       'Dalata-Hotel-Group', 'David-Lloyd-Leisure', 'Debenhams',\n",
       "       'Deloitte', 'Department-for-Work-And-Pensions',\n",
       "       'Department-of-Health-UK', 'Deutsche-Bank', 'Diageo', 'Diligenta',\n",
       "       'Dixons-Carphone', 'Doubletree-By-Hilton', 'Durham-County-Council',\n",
       "       'Dynatrace', 'EBRD', 'ENABLE-Scotland', 'ENGIE', 'EY',\n",
       "       'East-Sussex-County-Council', 'Egon-Zehnder',\n",
       "       'Engineering-and-Physical-Sciences-Research-Council', 'Equiniti',\n",
       "       'Eversheds-Sutherland', 'Everyone-Active', 'FARFETCH', 'FYXER',\n",
       "       'Facebook', 'FirstPort', 'Foreign-and-Commonwealth-Office',\n",
       "       'Four-Seasons-Health-Care', 'Foxtons',\n",
       "       'Freshfields-Bruckhaus-Deringer', 'GLL',\n",
       "       'GTR-Govia-Thameslink-Railway', 'Gateley', 'Gi-Group',\n",
       "       'GlaxoSmithKline', 'Goldman-Sachs', 'Google', 'Grange-Hotels',\n",
       "       'Grant-Thornton', 'Grant-Thornton-UK-LLP', 'Grosvenor-Casinos',\n",
       "       'Guardian-News-and-Media',\n",
       "       'Guy-s-and-St-Thomas-NHS-Foundation-Trust', 'Gymbox', 'H-and-M',\n",
       "       'HC-One', 'HM-Courts-and-Tribunals-Service', 'HM-Prison-Service',\n",
       "       'HM-Treasury', 'HMCTS', 'HSBC-Holdings',\n",
       "       'Hampshire-County-Council', 'Harris-Federation', 'Harrods',\n",
       "       'Harvey-Nichols', 'Hastings-Direct', 'Hays',\n",
       "       'Health-Education-England', 'Health-Protection-Agency',\n",
       "       'Her-Majesty-s-Revenue-and-Customs', 'Hilton',\n",
       "       'Hitachi-Capital-UK', 'Holiday-Inn', 'Holiday-Inn-Express',\n",
       "       'Home-Group', 'Home-Office', 'Hyatt', 'IBM',\n",
       "       'IHG-Hotels-and-Resorts', 'ISS-Facility-Services',\n",
       "       'Immediate-Media-Company', 'Imperial-College-London', 'Indeed',\n",
       "       'Intelligent-Office-UK', 'Interserve', 'Iron-Mountain-Inc',\n",
       "       'Irwin-Mitchell', 'J-P-Morgan', 'J-Sainsbury', 'JLL', 'JLT-Group',\n",
       "       'JP-Boden-and-Co', 'Jaguar-Land-Rover', 'James-Hay-Partnership',\n",
       "       'John-Lewis-and-Partners', 'Jurys-Inns', 'KKR', 'KPMG',\n",
       "       'Kent-County-Council', 'Kier-Group', 'King-s-College-London',\n",
       "       'Kingsley-Healthcare', 'Knight-Frank', 'Korn-Ferry', 'Kurt-Geiger',\n",
       "       'LGT-Group', 'LSE', 'LV', 'Lancaster-University',\n",
       "       'Latham-and-Watkins', 'Leaders-Romans-Group', 'Leeds-City-Council',\n",
       "       'Legal-and-General', 'Leonardo-Hotels', 'Lidl', 'Link-Group',\n",
       "       'LinkedIn', 'Lloyds-Banking-Group', 'London-Underground',\n",
       "       'Loughborough-University', 'Macdonald-Hotels-and-Resorts',\n",
       "       'Malmaison', 'Manchester-Metropolitan-University', 'Manpower',\n",
       "       'Marks-and-Spencer', 'Marriott-International', 'Mastercard',\n",
       "       'McDonald-s', 'McKinsey-and-Company', 'Mears', 'Mercer',\n",
       "       'Met-Office', 'Metro-Bank', 'Michelmores', 'Microsoft',\n",
       "       'Ministry-of-Justice-UK', 'Missguided', 'Mitie', 'Moneypenny',\n",
       "       'Morgan-Stanley', 'Morrisons', 'Mountain-Warehouse', 'MyCSP',\n",
       "       'NHS', 'NHS-England', 'NHS-Professionals', 'Nando-s-UK-and-IRE',\n",
       "       'National-Institute-for-Health-and-Care-Excellence',\n",
       "       'National-Offender-Management-Service', 'National-Star',\n",
       "       'Nationwide-Building-Society', 'Network-Rail', 'New-Look',\n",
       "       'Newcastle-Upon-Tyne-Hospitals-NHS',\n",
       "       'North-Yorkshire-County-Council', 'Northern-Gas-and-Power',\n",
       "       'Northern-Ireland-Civil-Service', 'Novotel-Hotels',\n",
       "       'Nuffield-Health', 'Odgers-Berndtson', 'Office-Angels',\n",
       "       'Office-Concierge', 'Office-for-National-Statistics',\n",
       "       'Office-of-Rail-Regulation', 'Oliver-Bonas', 'Oliver-Wyman',\n",
       "       'Oracle', 'Orbit-Group', 'Ordnance-Survey', 'Oxford-University',\n",
       "       'Oxford-University-Press', 'Pearson', 'Penderels-Trust',\n",
       "       'Penguin-Random-House', 'People-Group', 'Pertemps', 'Pizza-Hut',\n",
       "       'Portico', 'Post-Office', 'Premier-Inn', 'Primark', 'Priory-Group',\n",
       "       'Public-Health-England', 'PwC', 'Queen-s-University-Belfast',\n",
       "       'REED', 'RSM', 'RWE-Supply-and-Trading', 'Radisson-Hotel-Group',\n",
       "       'Randstad', 'Rapport-London', 'Rathbone-Brothers', 'Reassured',\n",
       "       'Rendall-and-Rittner', 'Rentokil-Initial', 'River-Island-Clothing',\n",
       "       'Robert-Walters', 'Roche', 'Rodericks-Dental', 'Royal-Mail',\n",
       "       'Rural-Payments-Agency', 'Ryan-LLC', 'SAP', 'SSE', 'Sage',\n",
       "       'Sainsbury-s', 'Salesforce', 'Sanctuary-Group', 'Santander',\n",
       "       'Savills', 'ScS-Sofas', 'Scottish-Courts-and-Tribunals-Service',\n",
       "       'Scottish-Government', 'Scottish-Widows', 'Search-Consultancy',\n",
       "       'Serco-Group', 'Skipton-Building-Society', 'Sky', 'Sodexo',\n",
       "       'Somerset-County-Council',\n",
       "       'Somerset-Partnership-NHS-Foundation-Trust', 'Sotheby-s',\n",
       "       'Southern-Health-and-Social-Care-Trust', 'Specsavers',\n",
       "       'Spire-Healthcare', 'Sport-England', 'Square-Enix',\n",
       "       'St-James-s-Place-Wealth-Management', 'Standard-Life-Aberdeen',\n",
       "       'Student-Loans-Company', 'Surrey-County-Council', 'Sytner', 'TLT',\n",
       "       'TUI-Group', 'Tate', 'Tate-Recruitment', 'Taylor-Wimpey',\n",
       "       'Tengizchevroil', 'Tesco', 'The-Access-Group-UK',\n",
       "       'The-British-Army',\n",
       "       'The-Church-of-Jesus-Christ-of-Latter-day-Saints',\n",
       "       'The-Coal-Authority', 'The-Department-for-Education-UK',\n",
       "       'The-Ivy-Collection', 'The-London-Clinic', 'The-National-Gallery',\n",
       "       'The-Open-University', 'The-Range',\n",
       "       'The-Royal-Marsden-NHS-Foundation-Trust', 'The-Salvation-Army',\n",
       "       'The-Survey-Association', 'The-White-Company', 'Thomas-Cook',\n",
       "       'Thomson-Reuters', 'Time-Etc', 'Topshop', 'Tower-Hamlets-Council',\n",
       "       'Transport-for-London', 'Travelodge-Hotels-UK', 'UHMBT',\n",
       "       'UK-Atomic-Energy-Authority', 'UK-Border-Agency',\n",
       "       'UK-Ministry-of-Defence', 'UKCIL', 'Unilever', 'United-Utilities',\n",
       "       'Unity-Technologies', 'University-College-London',\n",
       "       'University-College-London-Hospitals',\n",
       "       'University-Hospitals-of-Leicester', 'University-of-Bath',\n",
       "       'University-of-Birmingham', 'University-of-Bradford',\n",
       "       'University-of-Bristol', 'University-of-Cambridge',\n",
       "       'University-of-Durham', 'University-of-Edinburgh',\n",
       "       'University-of-Glasgow', 'University-of-Huddersfield',\n",
       "       'University-of-Hull', 'University-of-Leeds',\n",
       "       'University-of-Leicester', 'University-of-Liverpool',\n",
       "       'University-of-Manchester', 'University-of-Michigan',\n",
       "       'University-of-Newcastle-UK', 'University-of-Nottingham',\n",
       "       'University-of-Reading', 'University-of-Sheffield',\n",
       "       'University-of-Southampton', 'University-of-Strathclyde',\n",
       "       'University-of-Warwick', 'University-of-York',\n",
       "       'University-of-the-Arts-London',\n",
       "       'University-of-the-West-of-England', 'VMware',\n",
       "       'Valuation-Office-Agency', 'Veolia', 'Vets-Now', 'Vets4Pets',\n",
       "       'Virgin-Active', 'Virgin-Media', 'Vodafone', 'WHSmith',\n",
       "       'WLT-Group', 'Waitrose', 'Wakefield-Council',\n",
       "       'Wellington-Management', 'West-Sussex-County-Council',\n",
       "       'Western-Health-and-Social-Care-Trust', 'Whitbread',\n",
       "       'Willis-Towers-Watson', 'Willmott-Dixon', 'Wipro', 'Wise',\n",
       "       'Workday', 'XPO-Logistics', 'XPS-Pensions-Group',\n",
       "       'YOOX-NET-A-PORTER-GROUP', 'i-Net-Solution', 'ibis',\n",
       "       'mydentist-UK', 'next', 'the-LEGO-Group'], dtype=object)"
      ]
     },
     "execution_count": 256,
     "metadata": {},
     "output_type": "execute_result"
    }
   ],
   "source": [
    "df['firm'].unique()"
   ]
  },
  {
   "cell_type": "code",
   "execution_count": 257,
   "id": "ea49a28e",
   "metadata": {},
   "outputs": [
    {
     "data": {
      "text/plain": [
       "(191242, 19)"
      ]
     },
     "execution_count": 257,
     "metadata": {},
     "output_type": "execute_result"
    }
   ],
   "source": [
    "df1.shape"
   ]
  },
  {
   "cell_type": "code",
   "execution_count": 258,
   "id": "3adecfdb",
   "metadata": {},
   "outputs": [
    {
     "data": {
      "text/plain": [
       "firm                        0\n",
       "date_review                 0\n",
       "job_title                   0\n",
       "current                     0\n",
       "location                86961\n",
       "overall_rating              0\n",
       "work_life_balance       30529\n",
       "culture_values          31768\n",
       "diversity_inclusion    191242\n",
       "career_opp              30345\n",
       "comp_benefits           30869\n",
       "senior_mgmt             32382\n",
       "recommend                   0\n",
       "ceo_approv                  0\n",
       "outlook                     0\n",
       "headline                  240\n",
       "pros                        0\n",
       "cons                        3\n",
       "year                        0\n",
       "dtype: int64"
      ]
     },
     "execution_count": 258,
     "metadata": {},
     "output_type": "execute_result"
    }
   ],
   "source": [
    "df1[:].isnull().sum()"
   ]
  },
  {
   "cell_type": "code",
   "execution_count": 259,
   "id": "ef1f3b51",
   "metadata": {},
   "outputs": [
    {
     "name": "stderr",
     "output_type": "stream",
     "text": [
      "C:\\Users\\pbevi\\AppData\\Local\\Temp\\ipykernel_5716\\1190422171.py:1: SettingWithCopyWarning: \n",
      "A value is trying to be set on a copy of a slice from a DataFrame.\n",
      "Try using .loc[row_indexer,col_indexer] = value instead\n",
      "\n",
      "See the caveats in the documentation: https://pandas.pydata.org/pandas-docs/stable/user_guide/indexing.html#returning-a-view-versus-a-copy\n",
      "  df1[\"location\"]=df1[\"location\"].fillna(\"No location\")\n"
     ]
    }
   ],
   "source": [
    "df1[\"location\"]=df1[\"location\"].fillna(\"No location\")"
   ]
  },
  {
   "cell_type": "code",
   "execution_count": 260,
   "id": "80829990",
   "metadata": {},
   "outputs": [
    {
     "data": {
      "text/plain": [
       "firm                        0\n",
       "date_review                 0\n",
       "job_title                   0\n",
       "current                     0\n",
       "location                    0\n",
       "overall_rating              0\n",
       "work_life_balance       30529\n",
       "culture_values          31768\n",
       "diversity_inclusion    191242\n",
       "career_opp              30345\n",
       "comp_benefits           30869\n",
       "senior_mgmt             32382\n",
       "recommend                   0\n",
       "ceo_approv                  0\n",
       "outlook                     0\n",
       "headline                  240\n",
       "pros                        0\n",
       "cons                        3\n",
       "year                        0\n",
       "dtype: int64"
      ]
     },
     "execution_count": 260,
     "metadata": {},
     "output_type": "execute_result"
    }
   ],
   "source": [
    "df1[:].isnull().sum()"
   ]
  },
  {
   "cell_type": "markdown",
   "id": "fb84112e",
   "metadata": {},
   "source": [
    "Taking mode by company and storing in dictionary df1"
   ]
  },
  {
   "cell_type": "code",
   "execution_count": 261,
   "id": "055c3e55",
   "metadata": {},
   "outputs": [
    {
     "data": {
      "text/plain": [
       "firm\n",
       "AFH-Wealth-Management    5.0\n",
       "AJ-Bell                  5.0\n",
       "ALDI                     1.0\n",
       "AQA                      4.0\n",
       "ASDA                     3.0\n",
       "                        ... \n",
       "i-Net-Solution           5.0\n",
       "ibis                     3.0\n",
       "mydentist-UK             4.0\n",
       "next                     3.0\n",
       "the-LEGO-Group           5.0\n",
       "Name: work_life_balance, Length: 423, dtype: float64"
      ]
     },
     "execution_count": 261,
     "metadata": {},
     "output_type": "execute_result"
    }
   ],
   "source": [
    "wlb=df1.groupby('firm')['work_life_balance'].agg(lambda x: pd.Series.mode(x)[0])\n",
    "wlb"
   ]
  },
  {
   "cell_type": "code",
   "execution_count": 262,
   "id": "9133abe5",
   "metadata": {},
   "outputs": [],
   "source": [
    "dictwlb = wlb.to_dict()"
   ]
  },
  {
   "cell_type": "code",
   "execution_count": 263,
   "id": "6cd53b73",
   "metadata": {},
   "outputs": [],
   "source": [
    "cv=df1.groupby('firm')['culture_values'].agg(lambda x: pd.Series.mode(x)[0])"
   ]
  },
  {
   "cell_type": "code",
   "execution_count": 264,
   "id": "005fb1e6",
   "metadata": {},
   "outputs": [],
   "source": [
    "dictcv = cv.to_dict()"
   ]
  },
  {
   "cell_type": "code",
   "execution_count": 265,
   "id": "b1548f40",
   "metadata": {},
   "outputs": [],
   "source": [
    "co=df1.groupby('firm')['career_opp'].agg(lambda x: pd.Series.mode(x)[0])"
   ]
  },
  {
   "cell_type": "code",
   "execution_count": 266,
   "id": "75876a8f",
   "metadata": {},
   "outputs": [],
   "source": [
    "dictco = co.to_dict()"
   ]
  },
  {
   "cell_type": "code",
   "execution_count": 324,
   "id": "9b07dbc8",
   "metadata": {},
   "outputs": [],
   "source": [
    "cb=df1.groupby('firm')['comp_benefits'].agg(lambda x: pd.Series.mode(x)[0])"
   ]
  },
  {
   "cell_type": "code",
   "execution_count": 325,
   "id": "d63c8e78",
   "metadata": {},
   "outputs": [],
   "source": [
    "dictcb = cb.to_dict()"
   ]
  },
  {
   "cell_type": "code",
   "execution_count": 269,
   "id": "40c8e162",
   "metadata": {},
   "outputs": [],
   "source": [
    "sm1=df1.groupby('firm')['senior_mgmt'].agg(lambda x: pd.Series.mode(x)[0])"
   ]
  },
  {
   "cell_type": "code",
   "execution_count": 270,
   "id": "80c9612a",
   "metadata": {},
   "outputs": [],
   "source": [
    "dictsm1 = sm1.to_dict()"
   ]
  },
  {
   "cell_type": "code",
   "execution_count": 271,
   "id": "fc975d33",
   "metadata": {},
   "outputs": [
    {
     "data": {
      "text/plain": [
       "firm                        0\n",
       "date_review                 0\n",
       "job_title                   0\n",
       "current                     0\n",
       "location                    0\n",
       "overall_rating              0\n",
       "work_life_balance       30529\n",
       "culture_values          31768\n",
       "diversity_inclusion    191242\n",
       "career_opp              30345\n",
       "comp_benefits           30869\n",
       "senior_mgmt             32382\n",
       "recommend                   0\n",
       "ceo_approv                  0\n",
       "outlook                     0\n",
       "headline                  240\n",
       "pros                        0\n",
       "cons                        3\n",
       "year                        0\n",
       "dtype: int64"
      ]
     },
     "execution_count": 271,
     "metadata": {},
     "output_type": "execute_result"
    }
   ],
   "source": [
    "df1[:].isnull().sum()"
   ]
  },
  {
   "cell_type": "markdown",
   "id": "f2bab061",
   "metadata": {},
   "source": [
    "now df2"
   ]
  },
  {
   "cell_type": "code",
   "execution_count": 272,
   "id": "7a9a9b36",
   "metadata": {},
   "outputs": [],
   "source": [
    "df2=df[df['year'] >= 2020]"
   ]
  },
  {
   "cell_type": "code",
   "execution_count": 273,
   "id": "492e6cb9",
   "metadata": {},
   "outputs": [
    {
     "data": {
      "text/plain": [
       "(284888, 19)"
      ]
     },
     "execution_count": 273,
     "metadata": {},
     "output_type": "execute_result"
    }
   ],
   "source": [
    "df2.shape"
   ]
  },
  {
   "cell_type": "code",
   "execution_count": 274,
   "id": "1e8390d9",
   "metadata": {},
   "outputs": [
    {
     "data": {
      "text/plain": [
       "firm                        0\n",
       "date_review                 0\n",
       "job_title                   0\n",
       "current                     0\n",
       "location                69530\n",
       "overall_rating              0\n",
       "work_life_balance       79906\n",
       "culture_values          79865\n",
       "diversity_inclusion    148822\n",
       "career_opp              77958\n",
       "comp_benefits           79439\n",
       "senior_mgmt             81060\n",
       "recommend                   0\n",
       "ceo_approv                  0\n",
       "outlook                     0\n",
       "headline                 1643\n",
       "pros                        0\n",
       "cons                        1\n",
       "year                        0\n",
       "dtype: int64"
      ]
     },
     "execution_count": 274,
     "metadata": {},
     "output_type": "execute_result"
    }
   ],
   "source": [
    "df2[:].isnull().sum()"
   ]
  },
  {
   "cell_type": "code",
   "execution_count": 275,
   "id": "8aec35e4",
   "metadata": {},
   "outputs": [
    {
     "name": "stderr",
     "output_type": "stream",
     "text": [
      "C:\\Users\\pbevi\\AppData\\Local\\Temp\\ipykernel_5716\\3121176922.py:1: SettingWithCopyWarning: \n",
      "A value is trying to be set on a copy of a slice from a DataFrame.\n",
      "Try using .loc[row_indexer,col_indexer] = value instead\n",
      "\n",
      "See the caveats in the documentation: https://pandas.pydata.org/pandas-docs/stable/user_guide/indexing.html#returning-a-view-versus-a-copy\n",
      "  df2[\"location\"]=df2[\"location\"].fillna(\"No location\")\n"
     ]
    }
   ],
   "source": [
    "df2[\"location\"]=df2[\"location\"].fillna(\"No location\")"
   ]
  },
  {
   "cell_type": "markdown",
   "id": "4d0e5627",
   "metadata": {},
   "source": [
    "Taking mode by company and storing in dictionary df2"
   ]
  },
  {
   "cell_type": "code",
   "execution_count": 276,
   "id": "f28e6ca5",
   "metadata": {},
   "outputs": [
    {
     "data": {
      "text/plain": [
       "firm\n",
       "AFH-Wealth-Management      5.0\n",
       "AJ-Bell                    5.0\n",
       "ALDI                       1.0\n",
       "AQA                        5.0\n",
       "ASDA                       3.0\n",
       "                          ... \n",
       "YOOX-NET-A-PORTER-GROUP    4.0\n",
       "ibis                       3.0\n",
       "mydentist-UK               1.0\n",
       "next                       4.0\n",
       "the-LEGO-Group             5.0\n",
       "Name: work_life_balance, Length: 426, dtype: float64"
      ]
     },
     "execution_count": 276,
     "metadata": {},
     "output_type": "execute_result"
    }
   ],
   "source": [
    "wlb2=df2.groupby('firm')['work_life_balance'].agg(lambda x: pd.Series.mode(x)[0])\n",
    "wlb2"
   ]
  },
  {
   "cell_type": "code",
   "execution_count": 277,
   "id": "fa6540e1",
   "metadata": {},
   "outputs": [],
   "source": [
    "dictwlb2 = wlb2.to_dict()\n"
   ]
  },
  {
   "cell_type": "code",
   "execution_count": 278,
   "id": "67f10b90",
   "metadata": {},
   "outputs": [],
   "source": [
    "cv2=df2.groupby('firm')['culture_values'].agg(lambda x: pd.Series.mode(x)[0])"
   ]
  },
  {
   "cell_type": "code",
   "execution_count": 279,
   "id": "0c5e8a0a",
   "metadata": {},
   "outputs": [],
   "source": [
    "dictcv2 = cv2.to_dict()"
   ]
  },
  {
   "cell_type": "code",
   "execution_count": 280,
   "id": "3e1f3cff",
   "metadata": {},
   "outputs": [],
   "source": [
    "co2=df2.groupby('firm')['career_opp'].agg(lambda x: pd.Series.mode(x)[0])"
   ]
  },
  {
   "cell_type": "code",
   "execution_count": 281,
   "id": "c3d192e4",
   "metadata": {},
   "outputs": [],
   "source": [
    "dictco2 = co2.to_dict()"
   ]
  },
  {
   "cell_type": "code",
   "execution_count": 326,
   "id": "aa474f4c",
   "metadata": {},
   "outputs": [],
   "source": [
    "cb2=df2.groupby('firm')['comp_benefits'].agg(lambda x: pd.Series.mode(x)[0])"
   ]
  },
  {
   "cell_type": "code",
   "execution_count": 327,
   "id": "ed287612",
   "metadata": {},
   "outputs": [],
   "source": [
    "dictcb2 = cb2.to_dict()"
   ]
  },
  {
   "cell_type": "code",
   "execution_count": 284,
   "id": "7014ac0e",
   "metadata": {},
   "outputs": [],
   "source": [
    "sm2=df.groupby('firm')['senior_mgmt'].agg(lambda x: pd.Series.mode(x)[0])"
   ]
  },
  {
   "cell_type": "code",
   "execution_count": 285,
   "id": "798dcc78",
   "metadata": {},
   "outputs": [],
   "source": [
    "dictsm2 = sm2.to_dict()"
   ]
  },
  {
   "cell_type": "markdown",
   "id": "14301445",
   "metadata": {},
   "source": [
    "fill na values with mode by companies for df1"
   ]
  },
  {
   "cell_type": "code",
   "execution_count": 286,
   "id": "da1f3ed7",
   "metadata": {},
   "outputs": [
    {
     "name": "stderr",
     "output_type": "stream",
     "text": [
      "C:\\Users\\pbevi\\AppData\\Local\\Temp\\ipykernel_5716\\4042385781.py:1: SettingWithCopyWarning: \n",
      "A value is trying to be set on a copy of a slice from a DataFrame.\n",
      "Try using .loc[row_indexer,col_indexer] = value instead\n",
      "\n",
      "See the caveats in the documentation: https://pandas.pydata.org/pandas-docs/stable/user_guide/indexing.html#returning-a-view-versus-a-copy\n",
      "  df1.work_life_balance = df1.work_life_balance.fillna(df.firm.map(dictwlb))\n"
     ]
    }
   ],
   "source": [
    "df1.work_life_balance = df1.work_life_balance.fillna(df.firm.map(dictwlb))\n",
    "#df1.loc[df1['work_life_balance'].isnull(), ['firm','work_life_balance']].head()\n",
    "#df1.loc[df1['work_life_balance'].isnull(), 'work_life_balance'] = df1['firm'].map(dictwlb)"
   ]
  },
  {
   "cell_type": "code",
   "execution_count": 287,
   "id": "34d1ed28",
   "metadata": {},
   "outputs": [
    {
     "data": {
      "text/plain": [
       "array([5., 3., 4., 2., 1.])"
      ]
     },
     "execution_count": 287,
     "metadata": {},
     "output_type": "execute_result"
    }
   ],
   "source": [
    "df1['work_life_balance'].unique()"
   ]
  },
  {
   "cell_type": "code",
   "execution_count": 288,
   "id": "73ba9666",
   "metadata": {},
   "outputs": [
    {
     "name": "stderr",
     "output_type": "stream",
     "text": [
      "C:\\Users\\pbevi\\AppData\\Local\\Temp\\ipykernel_5716\\767004147.py:1: SettingWithCopyWarning: \n",
      "A value is trying to be set on a copy of a slice from a DataFrame.\n",
      "Try using .loc[row_indexer,col_indexer] = value instead\n",
      "\n",
      "See the caveats in the documentation: https://pandas.pydata.org/pandas-docs/stable/user_guide/indexing.html#returning-a-view-versus-a-copy\n",
      "  df1.culture_values = df1.culture_values.fillna(df.firm.map(dictcv))\n"
     ]
    }
   ],
   "source": [
    "df1.culture_values = df1.culture_values.fillna(df.firm.map(dictcv))"
   ]
  },
  {
   "cell_type": "code",
   "execution_count": 289,
   "id": "a0ab892e",
   "metadata": {},
   "outputs": [
    {
     "name": "stderr",
     "output_type": "stream",
     "text": [
      "C:\\Users\\pbevi\\AppData\\Local\\Temp\\ipykernel_5716\\1870202089.py:1: SettingWithCopyWarning: \n",
      "A value is trying to be set on a copy of a slice from a DataFrame.\n",
      "Try using .loc[row_indexer,col_indexer] = value instead\n",
      "\n",
      "See the caveats in the documentation: https://pandas.pydata.org/pandas-docs/stable/user_guide/indexing.html#returning-a-view-versus-a-copy\n",
      "  df1.work_life_balance = df1.work_life_balance.fillna(df.firm.map(dictwlb))\n"
     ]
    }
   ],
   "source": [
    "df1.work_life_balance = df1.work_life_balance.fillna(df.firm.map(dictwlb))"
   ]
  },
  {
   "cell_type": "code",
   "execution_count": 328,
   "id": "aa2ca5f9",
   "metadata": {},
   "outputs": [],
   "source": [
    "df1.comp_benefits = df1.comp_benefits.fillna(df.firm.map(dictcb))"
   ]
  },
  {
   "cell_type": "code",
   "execution_count": 329,
   "id": "02ed2067",
   "metadata": {},
   "outputs": [],
   "source": [
    "df1.loc[df1['career_opp'].isnull(), 'career_opp'] = df1['firm'].map(dictco)"
   ]
  },
  {
   "cell_type": "code",
   "execution_count": 330,
   "id": "6d7e3242",
   "metadata": {},
   "outputs": [],
   "source": [
    "df1.loc[df1['senior_mgmt'].isnull(), 'senior_mgmt'] = df1['firm'].map(dictsm1)"
   ]
  },
  {
   "cell_type": "code",
   "execution_count": 331,
   "id": "ca17e637",
   "metadata": {},
   "outputs": [
    {
     "data": {
      "text/plain": [
       "firm                     0\n",
       "date_review              0\n",
       "job_title                0\n",
       "current                  0\n",
       "location                 0\n",
       "overall_rating           0\n",
       "work_life_balance        0\n",
       "culture_values           0\n",
       "diversity_inclusion      0\n",
       "career_opp               0\n",
       "comp_benefits            0\n",
       "senior_mgmt              0\n",
       "recommend                0\n",
       "ceo_approv               0\n",
       "outlook                  0\n",
       "headline               240\n",
       "pros                     0\n",
       "cons                     3\n",
       "year                     0\n",
       "dtype: int64"
      ]
     },
     "execution_count": 331,
     "metadata": {},
     "output_type": "execute_result"
    }
   ],
   "source": [
    "df1[:].isnull().sum()"
   ]
  },
  {
   "cell_type": "markdown",
   "id": "673b01fb",
   "metadata": {},
   "source": [
    "fill na values with mode by companies df2"
   ]
  },
  {
   "cell_type": "code",
   "execution_count": 332,
   "id": "18d6744e",
   "metadata": {},
   "outputs": [
    {
     "name": "stderr",
     "output_type": "stream",
     "text": [
      "C:\\Users\\pbevi\\AppData\\Local\\Temp\\ipykernel_5716\\2071172852.py:1: SettingWithCopyWarning: \n",
      "A value is trying to be set on a copy of a slice from a DataFrame.\n",
      "Try using .loc[row_indexer,col_indexer] = value instead\n",
      "\n",
      "See the caveats in the documentation: https://pandas.pydata.org/pandas-docs/stable/user_guide/indexing.html#returning-a-view-versus-a-copy\n",
      "  df2.work_life_balance = df2.work_life_balance.fillna(df.firm.map(dictwlb2))\n"
     ]
    }
   ],
   "source": [
    "df2.work_life_balance = df2.work_life_balance.fillna(df.firm.map(dictwlb2))"
   ]
  },
  {
   "cell_type": "code",
   "execution_count": 333,
   "id": "d11aad78",
   "metadata": {},
   "outputs": [
    {
     "name": "stderr",
     "output_type": "stream",
     "text": [
      "C:\\Users\\pbevi\\AppData\\Local\\Temp\\ipykernel_5716\\737880384.py:1: SettingWithCopyWarning: \n",
      "A value is trying to be set on a copy of a slice from a DataFrame.\n",
      "Try using .loc[row_indexer,col_indexer] = value instead\n",
      "\n",
      "See the caveats in the documentation: https://pandas.pydata.org/pandas-docs/stable/user_guide/indexing.html#returning-a-view-versus-a-copy\n",
      "  df2.culture_values = df2.culture_values.fillna(df.firm.map(dictcv2))\n"
     ]
    }
   ],
   "source": [
    "df2.culture_values = df2.culture_values.fillna(df.firm.map(dictcv2))"
   ]
  },
  {
   "cell_type": "code",
   "execution_count": 334,
   "id": "96e7a620",
   "metadata": {},
   "outputs": [
    {
     "name": "stderr",
     "output_type": "stream",
     "text": [
      "C:\\Users\\pbevi\\AppData\\Local\\Temp\\ipykernel_5716\\745469023.py:1: SettingWithCopyWarning: \n",
      "A value is trying to be set on a copy of a slice from a DataFrame.\n",
      "Try using .loc[row_indexer,col_indexer] = value instead\n",
      "\n",
      "See the caveats in the documentation: https://pandas.pydata.org/pandas-docs/stable/user_guide/indexing.html#returning-a-view-versus-a-copy\n",
      "  df2.career_opp = df2.career_opp.fillna(df.firm.map(dictco2))\n"
     ]
    }
   ],
   "source": [
    "df2.career_opp = df2.career_opp.fillna(df.firm.map(dictco2))"
   ]
  },
  {
   "cell_type": "code",
   "execution_count": 335,
   "id": "403596b4",
   "metadata": {},
   "outputs": [
    {
     "name": "stderr",
     "output_type": "stream",
     "text": [
      "C:\\Users\\pbevi\\AppData\\Local\\Temp\\ipykernel_5716\\375969365.py:1: SettingWithCopyWarning: \n",
      "A value is trying to be set on a copy of a slice from a DataFrame.\n",
      "Try using .loc[row_indexer,col_indexer] = value instead\n",
      "\n",
      "See the caveats in the documentation: https://pandas.pydata.org/pandas-docs/stable/user_guide/indexing.html#returning-a-view-versus-a-copy\n",
      "  df2.comp_benefits = df2.comp_benefits.fillna(df.firm.map(dictco2))\n"
     ]
    }
   ],
   "source": [
    "df2.comp_benefits = df2.comp_benefits.fillna(df.firm.map(dictco2))"
   ]
  },
  {
   "cell_type": "code",
   "execution_count": 336,
   "id": "c22f0956",
   "metadata": {},
   "outputs": [],
   "source": [
    "df2.loc[df2['senior_mgmt'].isnull(), 'senior_mgmt'] = df2['firm'].map(dictsm2)"
   ]
  },
  {
   "cell_type": "code",
   "execution_count": 337,
   "id": "266600a5",
   "metadata": {},
   "outputs": [
    {
     "data": {
      "text/plain": [
       "firm                      0\n",
       "date_review               0\n",
       "job_title                 0\n",
       "current                   0\n",
       "location                  0\n",
       "overall_rating            0\n",
       "work_life_balance         0\n",
       "culture_values            0\n",
       "diversity_inclusion       0\n",
       "career_opp                0\n",
       "comp_benefits             0\n",
       "senior_mgmt               0\n",
       "recommend                 0\n",
       "ceo_approv                0\n",
       "outlook                   0\n",
       "headline               1643\n",
       "pros                      0\n",
       "cons                      1\n",
       "year                      0\n",
       "dtype: int64"
      ]
     },
     "execution_count": 337,
     "metadata": {},
     "output_type": "execute_result"
    }
   ],
   "source": [
    "df2[:].isnull().sum()"
   ]
  },
  {
   "cell_type": "code",
   "execution_count": 344,
   "id": "45d82706",
   "metadata": {},
   "outputs": [
    {
     "data": {
      "text/plain": [
       "array([1., 5., 4., 3., 0., 2.])"
      ]
     },
     "execution_count": 344,
     "metadata": {},
     "output_type": "execute_result"
    }
   ],
   "source": [
    "df1['diversity_inclusion'].unique()"
   ]
  },
  {
   "cell_type": "code",
   "execution_count": 339,
   "id": "b0b31e40",
   "metadata": {},
   "outputs": [
    {
     "data": {
      "text/plain": [
       "array([1., 5., 4., 3., 0., 2.])"
      ]
     },
     "execution_count": 339,
     "metadata": {},
     "output_type": "execute_result"
    }
   ],
   "source": [
    "df1['diversity_inclusion'].unique()"
   ]
  },
  {
   "cell_type": "code",
   "execution_count": 341,
   "id": "bdfb59cd",
   "metadata": {},
   "outputs": [
    {
     "data": {
      "text/plain": [
       "array([1., 2., 4., 5., 3., 0.])"
      ]
     },
     "execution_count": 341,
     "metadata": {},
     "output_type": "execute_result"
    }
   ],
   "source": [
    "df2['diversity_inclusion'].unique()"
   ]
  },
  {
   "cell_type": "code",
   "execution_count": 343,
   "id": "4f099140",
   "metadata": {},
   "outputs": [
    {
     "data": {
      "text/plain": [
       "5.0    204843\n",
       "4.0     39278\n",
       "3.0     23283\n",
       "1.0      8919\n",
       "2.0      8563\n",
       "0.0         2\n",
       "Name: diversity_inclusion, dtype: int64"
      ]
     },
     "execution_count": 343,
     "metadata": {},
     "output_type": "execute_result"
    }
   ],
   "source": [
    "df2['diversity_inclusion'].value_counts()"
   ]
  },
  {
   "cell_type": "code",
   "execution_count": 345,
   "id": "af2d1767",
   "metadata": {},
   "outputs": [
    {
     "data": {
      "text/html": [
       "<div>\n",
       "<style scoped>\n",
       "    .dataframe tbody tr th:only-of-type {\n",
       "        vertical-align: middle;\n",
       "    }\n",
       "\n",
       "    .dataframe tbody tr th {\n",
       "        vertical-align: top;\n",
       "    }\n",
       "\n",
       "    .dataframe thead th {\n",
       "        text-align: right;\n",
       "    }\n",
       "</style>\n",
       "<table border=\"1\" class=\"dataframe\">\n",
       "  <thead>\n",
       "    <tr style=\"text-align: right;\">\n",
       "      <th></th>\n",
       "      <th>firm</th>\n",
       "      <th>date_review</th>\n",
       "      <th>job_title</th>\n",
       "      <th>current</th>\n",
       "      <th>location</th>\n",
       "      <th>overall_rating</th>\n",
       "      <th>work_life_balance</th>\n",
       "      <th>culture_values</th>\n",
       "      <th>diversity_inclusion</th>\n",
       "      <th>career_opp</th>\n",
       "      <th>comp_benefits</th>\n",
       "      <th>senior_mgmt</th>\n",
       "      <th>recommend</th>\n",
       "      <th>ceo_approv</th>\n",
       "      <th>outlook</th>\n",
       "      <th>headline</th>\n",
       "      <th>pros</th>\n",
       "      <th>cons</th>\n",
       "      <th>year</th>\n",
       "    </tr>\n",
       "  </thead>\n",
       "  <tbody>\n",
       "    <tr>\n",
       "      <th>19</th>\n",
       "      <td>AFH-Wealth-Management</td>\n",
       "      <td>2020-01-07</td>\n",
       "      <td>Administrative</td>\n",
       "      <td>Former Employee</td>\n",
       "      <td>No location</td>\n",
       "      <td>1</td>\n",
       "      <td>5.0</td>\n",
       "      <td>5.0</td>\n",
       "      <td>1.0</td>\n",
       "      <td>1.0</td>\n",
       "      <td>1.0</td>\n",
       "      <td>1.0</td>\n",
       "      <td>x</td>\n",
       "      <td>o</td>\n",
       "      <td>o</td>\n",
       "      <td>The most demoralising job I have ever had.</td>\n",
       "      <td>Staff events throughout the year.</td>\n",
       "      <td>One particular department lets the whole compa...</td>\n",
       "      <td>2020</td>\n",
       "    </tr>\n",
       "    <tr>\n",
       "      <th>20</th>\n",
       "      <td>AFH-Wealth-Management</td>\n",
       "      <td>2020-01-20</td>\n",
       "      <td>Administrator</td>\n",
       "      <td>Current Employee, more than 3 years</td>\n",
       "      <td>Bromsgrove, England, England</td>\n",
       "      <td>5</td>\n",
       "      <td>5.0</td>\n",
       "      <td>5.0</td>\n",
       "      <td>1.0</td>\n",
       "      <td>5.0</td>\n",
       "      <td>5.0</td>\n",
       "      <td>2.0</td>\n",
       "      <td>v</td>\n",
       "      <td>o</td>\n",
       "      <td>v</td>\n",
       "      <td>Great Place to Work!</td>\n",
       "      <td>Approachable staff\\r\\nClient focused\\r\\nStaff ...</td>\n",
       "      <td>Salary for administration staff needs to be lo...</td>\n",
       "      <td>2020</td>\n",
       "    </tr>\n",
       "    <tr>\n",
       "      <th>21</th>\n",
       "      <td>AFH-Wealth-Management</td>\n",
       "      <td>2020-02-20</td>\n",
       "      <td>Administrative</td>\n",
       "      <td>Current Employee</td>\n",
       "      <td>No location</td>\n",
       "      <td>5</td>\n",
       "      <td>5.0</td>\n",
       "      <td>5.0</td>\n",
       "      <td>1.0</td>\n",
       "      <td>5.0</td>\n",
       "      <td>5.0</td>\n",
       "      <td>4.0</td>\n",
       "      <td>v</td>\n",
       "      <td>o</td>\n",
       "      <td>v</td>\n",
       "      <td>Great to work at</td>\n",
       "      <td>Friendly people, genuine attempts to engage an...</td>\n",
       "      <td>Tiny bit old fashioned in certain ways I.e. dr...</td>\n",
       "      <td>2020</td>\n",
       "    </tr>\n",
       "    <tr>\n",
       "      <th>22</th>\n",
       "      <td>AFH-Wealth-Management</td>\n",
       "      <td>2020-02-29</td>\n",
       "      <td>Member Of Technical Staff</td>\n",
       "      <td>Current Employee, more than 1 year</td>\n",
       "      <td>No location</td>\n",
       "      <td>2</td>\n",
       "      <td>3.0</td>\n",
       "      <td>2.0</td>\n",
       "      <td>1.0</td>\n",
       "      <td>2.0</td>\n",
       "      <td>1.0</td>\n",
       "      <td>1.0</td>\n",
       "      <td>x</td>\n",
       "      <td>v</td>\n",
       "      <td>x</td>\n",
       "      <td>Self centred business with poor focus on genui...</td>\n",
       "      <td>Some genuinely nice people do work here with s...</td>\n",
       "      <td>Too many 'vanity projects' and self promoting ...</td>\n",
       "      <td>2020</td>\n",
       "    </tr>\n",
       "    <tr>\n",
       "      <th>23</th>\n",
       "      <td>AFH-Wealth-Management</td>\n",
       "      <td>2020-06-05</td>\n",
       "      <td>Back Office Support</td>\n",
       "      <td>Current Employee, more than 3 years</td>\n",
       "      <td>Bromsgrove, England, England</td>\n",
       "      <td>2</td>\n",
       "      <td>5.0</td>\n",
       "      <td>5.0</td>\n",
       "      <td>1.0</td>\n",
       "      <td>1.0</td>\n",
       "      <td>1.0</td>\n",
       "      <td>1.0</td>\n",
       "      <td>o</td>\n",
       "      <td>o</td>\n",
       "      <td>o</td>\n",
       "      <td>A mixed bag, but on balance more negative than...</td>\n",
       "      <td>A growing and profitable company.\\r\\nFlexible ...</td>\n",
       "      <td>Autocratic, very much a “my way or the highway...</td>\n",
       "      <td>2020</td>\n",
       "    </tr>\n",
       "  </tbody>\n",
       "</table>\n",
       "</div>"
      ],
      "text/plain": [
       "                     firm date_review                   job_title  \\\n",
       "19  AFH-Wealth-Management  2020-01-07              Administrative   \n",
       "20  AFH-Wealth-Management  2020-01-20               Administrator   \n",
       "21  AFH-Wealth-Management  2020-02-20              Administrative   \n",
       "22  AFH-Wealth-Management  2020-02-29   Member Of Technical Staff   \n",
       "23  AFH-Wealth-Management  2020-06-05         Back Office Support   \n",
       "\n",
       "                                current                      location  \\\n",
       "19                      Former Employee                   No location   \n",
       "20  Current Employee, more than 3 years  Bromsgrove, England, England   \n",
       "21                     Current Employee                   No location   \n",
       "22   Current Employee, more than 1 year                   No location   \n",
       "23  Current Employee, more than 3 years  Bromsgrove, England, England   \n",
       "\n",
       "    overall_rating  work_life_balance  culture_values  diversity_inclusion  \\\n",
       "19               1                5.0             5.0                  1.0   \n",
       "20               5                5.0             5.0                  1.0   \n",
       "21               5                5.0             5.0                  1.0   \n",
       "22               2                3.0             2.0                  1.0   \n",
       "23               2                5.0             5.0                  1.0   \n",
       "\n",
       "    career_opp  comp_benefits  senior_mgmt recommend ceo_approv outlook  \\\n",
       "19         1.0            1.0          1.0         x          o       o   \n",
       "20         5.0            5.0          2.0         v          o       v   \n",
       "21         5.0            5.0          4.0         v          o       v   \n",
       "22         2.0            1.0          1.0         x          v       x   \n",
       "23         1.0            1.0          1.0         o          o       o   \n",
       "\n",
       "                                             headline  \\\n",
       "19         The most demoralising job I have ever had.   \n",
       "20                               Great Place to Work!   \n",
       "21                                   Great to work at   \n",
       "22  Self centred business with poor focus on genui...   \n",
       "23  A mixed bag, but on balance more negative than...   \n",
       "\n",
       "                                                 pros  \\\n",
       "19                  Staff events throughout the year.   \n",
       "20  Approachable staff\\r\\nClient focused\\r\\nStaff ...   \n",
       "21  Friendly people, genuine attempts to engage an...   \n",
       "22  Some genuinely nice people do work here with s...   \n",
       "23  A growing and profitable company.\\r\\nFlexible ...   \n",
       "\n",
       "                                                 cons  year  \n",
       "19  One particular department lets the whole compa...  2020  \n",
       "20  Salary for administration staff needs to be lo...  2020  \n",
       "21  Tiny bit old fashioned in certain ways I.e. dr...  2020  \n",
       "22  Too many 'vanity projects' and self promoting ...  2020  \n",
       "23  Autocratic, very much a “my way or the highway...  2020  "
      ]
     },
     "execution_count": 345,
     "metadata": {},
     "output_type": "execute_result"
    }
   ],
   "source": [
    "df2.head()"
   ]
  },
  {
   "cell_type": "code",
   "execution_count": 346,
   "id": "fe071c63",
   "metadata": {},
   "outputs": [
    {
     "data": {
      "text/plain": [
       "5.0"
      ]
     },
     "execution_count": 346,
     "metadata": {},
     "output_type": "execute_result"
    }
   ],
   "source": [
    "\n",
    "stats.mode(df2[df2['diversity_inclusion'].isna()==False]['diversity_inclusion'],nan_policy=\"omit\", keepdims=True)[0][0]"
   ]
  },
  {
   "cell_type": "code",
   "execution_count": 347,
   "id": "067dfa71",
   "metadata": {},
   "outputs": [],
   "source": [
    "dictdi2=df2.groupby(['firm'])['diversity_inclusion'].agg(lambda x: stats.mode(x,nan_policy=\"omit\",keepdims=True)[0][0])"
   ]
  },
  {
   "cell_type": "code",
   "execution_count": 348,
   "id": "985e71d7",
   "metadata": {},
   "outputs": [
    {
     "data": {
      "text/plain": [
       "firm\n",
       "AFH-Wealth-Management      1.0\n",
       "AJ-Bell                    1.0\n",
       "ALDI                       5.0\n",
       "AQA                        4.0\n",
       "ASDA                       5.0\n",
       "                          ... \n",
       "YOOX-NET-A-PORTER-GROUP    4.0\n",
       "ibis                       5.0\n",
       "mydentist-UK               1.0\n",
       "next                       5.0\n",
       "the-LEGO-Group             5.0\n",
       "Name: diversity_inclusion, Length: 426, dtype: float64"
      ]
     },
     "execution_count": 348,
     "metadata": {},
     "output_type": "execute_result"
    }
   ],
   "source": [
    "dictdi2"
   ]
  },
  {
   "cell_type": "code",
   "execution_count": 349,
   "id": "c98748d0",
   "metadata": {},
   "outputs": [],
   "source": [
    "df2.loc[df2['diversity_inclusion'].isnull(), 'diversity_inclusion'] = df2['firm'].map(dictdi2)"
   ]
  },
  {
   "cell_type": "code",
   "execution_count": 350,
   "id": "e4175579",
   "metadata": {},
   "outputs": [
    {
     "data": {
      "text/plain": [
       "firm                      0\n",
       "date_review               0\n",
       "job_title                 0\n",
       "current                   0\n",
       "location                  0\n",
       "overall_rating            0\n",
       "work_life_balance         0\n",
       "culture_values            0\n",
       "diversity_inclusion       0\n",
       "career_opp                0\n",
       "comp_benefits             0\n",
       "senior_mgmt               0\n",
       "recommend                 0\n",
       "ceo_approv                0\n",
       "outlook                   0\n",
       "headline               1643\n",
       "pros                      0\n",
       "cons                      1\n",
       "year                      0\n",
       "dtype: int64"
      ]
     },
     "execution_count": 350,
     "metadata": {},
     "output_type": "execute_result"
    }
   ],
   "source": [
    "df2[:].isnull().sum()"
   ]
  },
  {
   "cell_type": "markdown",
   "id": "d39cbc25",
   "metadata": {},
   "source": [
    "Since in df1 we didn´t had values for diversity inclusion I used the mode from df2 and will drop the rows that still have null values (only 2)"
   ]
  },
  {
   "cell_type": "code",
   "execution_count": 352,
   "id": "d4a62413",
   "metadata": {},
   "outputs": [],
   "source": [
    "df1.loc[df1['diversity_inclusion'].isnull(), 'diversity_inclusion'] = df1['firm'].map(dictdi2)"
   ]
  },
  {
   "cell_type": "code",
   "execution_count": 353,
   "id": "f69d32cc",
   "metadata": {},
   "outputs": [
    {
     "data": {
      "text/plain": [
       "firm                     0\n",
       "date_review              0\n",
       "job_title                0\n",
       "current                  0\n",
       "location                 0\n",
       "overall_rating           0\n",
       "work_life_balance        0\n",
       "culture_values           0\n",
       "diversity_inclusion      0\n",
       "career_opp               0\n",
       "comp_benefits            0\n",
       "senior_mgmt              0\n",
       "recommend                0\n",
       "ceo_approv               0\n",
       "outlook                  0\n",
       "headline               240\n",
       "pros                     0\n",
       "cons                     3\n",
       "year                     0\n",
       "dtype: int64"
      ]
     },
     "execution_count": 353,
     "metadata": {},
     "output_type": "execute_result"
    }
   ],
   "source": [
    "df1[:].isnull().sum()"
   ]
  },
  {
   "cell_type": "code",
   "execution_count": 354,
   "id": "437c9633",
   "metadata": {},
   "outputs": [],
   "source": [
    "df1 = df1.dropna(subset=['diversity_inclusion'])"
   ]
  },
  {
   "cell_type": "code",
   "execution_count": 355,
   "id": "885b22e3",
   "metadata": {},
   "outputs": [
    {
     "data": {
      "text/plain": [
       "firm                     0\n",
       "date_review              0\n",
       "job_title                0\n",
       "current                  0\n",
       "location                 0\n",
       "overall_rating           0\n",
       "work_life_balance        0\n",
       "culture_values           0\n",
       "diversity_inclusion      0\n",
       "career_opp               0\n",
       "comp_benefits            0\n",
       "senior_mgmt              0\n",
       "recommend                0\n",
       "ceo_approv               0\n",
       "outlook                  0\n",
       "headline               240\n",
       "pros                     0\n",
       "cons                     3\n",
       "year                     0\n",
       "dtype: int64"
      ]
     },
     "execution_count": 355,
     "metadata": {},
     "output_type": "execute_result"
    }
   ],
   "source": [
    "df1[:].isnull().sum()"
   ]
  },
  {
   "cell_type": "code",
   "execution_count": 365,
   "id": "a461a306",
   "metadata": {},
   "outputs": [
    {
     "data": {
      "text/plain": [
       "array([5., 3., 1., 4., 2.])"
      ]
     },
     "execution_count": 365,
     "metadata": {},
     "output_type": "execute_result"
    }
   ],
   "source": [
    "df2['work_life_balance'].unique()"
   ]
  },
  {
   "cell_type": "markdown",
   "id": "1a1265a0",
   "metadata": {},
   "source": [
    "Concatenating  "
   ]
  },
  {
   "cell_type": "code",
   "execution_count": 375,
   "id": "4e87cb4a",
   "metadata": {},
   "outputs": [
    {
     "name": "stderr",
     "output_type": "stream",
     "text": [
      "C:\\Users\\pbevi\\AppData\\Local\\Temp\\ipykernel_5716\\3008251476.py:5: FutureWarning: The frame.append method is deprecated and will be removed from pandas in a future version. Use pandas.concat instead.\n",
      "  df_merged = df1.append(df2, ignore_index=True)\n"
     ]
    }
   ],
   "source": [
    "\n",
    "df_merged = df1.append(df2, ignore_index=True)"
   ]
  },
  {
   "cell_type": "code",
   "execution_count": 376,
   "id": "f16eb655",
   "metadata": {},
   "outputs": [
    {
     "data": {
      "text/html": [
       "<div>\n",
       "<style scoped>\n",
       "    .dataframe tbody tr th:only-of-type {\n",
       "        vertical-align: middle;\n",
       "    }\n",
       "\n",
       "    .dataframe tbody tr th {\n",
       "        vertical-align: top;\n",
       "    }\n",
       "\n",
       "    .dataframe thead th {\n",
       "        text-align: right;\n",
       "    }\n",
       "</style>\n",
       "<table border=\"1\" class=\"dataframe\">\n",
       "  <thead>\n",
       "    <tr style=\"text-align: right;\">\n",
       "      <th></th>\n",
       "      <th>firm</th>\n",
       "      <th>date_review</th>\n",
       "      <th>job_title</th>\n",
       "      <th>current</th>\n",
       "      <th>location</th>\n",
       "      <th>overall_rating</th>\n",
       "      <th>work_life_balance</th>\n",
       "      <th>culture_values</th>\n",
       "      <th>diversity_inclusion</th>\n",
       "      <th>career_opp</th>\n",
       "      <th>comp_benefits</th>\n",
       "      <th>senior_mgmt</th>\n",
       "      <th>recommend</th>\n",
       "      <th>ceo_approv</th>\n",
       "      <th>outlook</th>\n",
       "      <th>headline</th>\n",
       "      <th>pros</th>\n",
       "      <th>cons</th>\n",
       "      <th>year</th>\n",
       "    </tr>\n",
       "  </thead>\n",
       "  <tbody>\n",
       "    <tr>\n",
       "      <th>0</th>\n",
       "      <td>AFH-Wealth-Management</td>\n",
       "      <td>2018-01-29</td>\n",
       "      <td>Anonymous Employee</td>\n",
       "      <td>Current Employee</td>\n",
       "      <td>No location</td>\n",
       "      <td>5</td>\n",
       "      <td>5.0</td>\n",
       "      <td>5.0</td>\n",
       "      <td>1.0</td>\n",
       "      <td>5.0</td>\n",
       "      <td>5.0</td>\n",
       "      <td>5.0</td>\n",
       "      <td>v</td>\n",
       "      <td>o</td>\n",
       "      <td>v</td>\n",
       "      <td>Administration</td>\n",
       "      <td>Really nice community, lots of benefits for em...</td>\n",
       "      <td>nothing that i can think of- i love working here</td>\n",
       "      <td>2018</td>\n",
       "    </tr>\n",
       "    <tr>\n",
       "      <th>1</th>\n",
       "      <td>AFH-Wealth-Management</td>\n",
       "      <td>2018-07-05</td>\n",
       "      <td>Anonymous Employee</td>\n",
       "      <td>Former Employee, more than 3 years</td>\n",
       "      <td>No location</td>\n",
       "      <td>1</td>\n",
       "      <td>3.0</td>\n",
       "      <td>1.0</td>\n",
       "      <td>1.0</td>\n",
       "      <td>2.0</td>\n",
       "      <td>1.0</td>\n",
       "      <td>1.0</td>\n",
       "      <td>x</td>\n",
       "      <td>x</td>\n",
       "      <td>v</td>\n",
       "      <td>Could be so much better</td>\n",
       "      <td>Lots of talented and friendly people.\\r\\n\\r\\nR...</td>\n",
       "      <td>The talented and friendly people are woefully ...</td>\n",
       "      <td>2018</td>\n",
       "    </tr>\n",
       "    <tr>\n",
       "      <th>2</th>\n",
       "      <td>AFH-Wealth-Management</td>\n",
       "      <td>2018-08-02</td>\n",
       "      <td>Anonymous Employee</td>\n",
       "      <td>Current Employee, more than 3 years</td>\n",
       "      <td>No location</td>\n",
       "      <td>5</td>\n",
       "      <td>5.0</td>\n",
       "      <td>5.0</td>\n",
       "      <td>1.0</td>\n",
       "      <td>4.0</td>\n",
       "      <td>4.0</td>\n",
       "      <td>4.0</td>\n",
       "      <td>v</td>\n",
       "      <td>o</td>\n",
       "      <td>v</td>\n",
       "      <td>Employer of choice</td>\n",
       "      <td>Top CEO with a vision and desire to make thing...</td>\n",
       "      <td>There are none... it's what you make it.</td>\n",
       "      <td>2018</td>\n",
       "    </tr>\n",
       "    <tr>\n",
       "      <th>3</th>\n",
       "      <td>AFH-Wealth-Management</td>\n",
       "      <td>2018-09-07</td>\n",
       "      <td>Anonymous Employee</td>\n",
       "      <td>Current Employee</td>\n",
       "      <td>No location</td>\n",
       "      <td>4</td>\n",
       "      <td>3.0</td>\n",
       "      <td>3.0</td>\n",
       "      <td>1.0</td>\n",
       "      <td>5.0</td>\n",
       "      <td>2.0</td>\n",
       "      <td>3.0</td>\n",
       "      <td>v</td>\n",
       "      <td>v</td>\n",
       "      <td>v</td>\n",
       "      <td>Good place to work</td>\n",
       "      <td>Very professional manner and lots of opportuni...</td>\n",
       "      <td>There are none to point out</td>\n",
       "      <td>2018</td>\n",
       "    </tr>\n",
       "    <tr>\n",
       "      <th>4</th>\n",
       "      <td>AFH-Wealth-Management</td>\n",
       "      <td>2018-12-04</td>\n",
       "      <td>Anonymous Employee</td>\n",
       "      <td>Former Employee</td>\n",
       "      <td>No location</td>\n",
       "      <td>2</td>\n",
       "      <td>4.0</td>\n",
       "      <td>2.0</td>\n",
       "      <td>1.0</td>\n",
       "      <td>2.0</td>\n",
       "      <td>1.0</td>\n",
       "      <td>1.0</td>\n",
       "      <td>x</td>\n",
       "      <td>o</td>\n",
       "      <td>o</td>\n",
       "      <td>In the process of trying to provide the best s...</td>\n",
       "      <td>The compressed hours structure works well wher...</td>\n",
       "      <td>I genuinely believe AFH have a good offering f...</td>\n",
       "      <td>2018</td>\n",
       "    </tr>\n",
       "    <tr>\n",
       "      <th>...</th>\n",
       "      <td>...</td>\n",
       "      <td>...</td>\n",
       "      <td>...</td>\n",
       "      <td>...</td>\n",
       "      <td>...</td>\n",
       "      <td>...</td>\n",
       "      <td>...</td>\n",
       "      <td>...</td>\n",
       "      <td>...</td>\n",
       "      <td>...</td>\n",
       "      <td>...</td>\n",
       "      <td>...</td>\n",
       "      <td>...</td>\n",
       "      <td>...</td>\n",
       "      <td>...</td>\n",
       "      <td>...</td>\n",
       "      <td>...</td>\n",
       "      <td>...</td>\n",
       "      <td>...</td>\n",
       "    </tr>\n",
       "    <tr>\n",
       "      <th>476123</th>\n",
       "      <td>the-LEGO-Group</td>\n",
       "      <td>2021-06-02</td>\n",
       "      <td>Marketing Manager</td>\n",
       "      <td>Current Employee, more than 5 years</td>\n",
       "      <td>München, Bavaria, Bavaria</td>\n",
       "      <td>5</td>\n",
       "      <td>4.0</td>\n",
       "      <td>5.0</td>\n",
       "      <td>4.0</td>\n",
       "      <td>4.0</td>\n",
       "      <td>4.0</td>\n",
       "      <td>4.0</td>\n",
       "      <td>v</td>\n",
       "      <td>v</td>\n",
       "      <td>v</td>\n",
       "      <td>Just an awesome company to work for!!!</td>\n",
       "      <td>Great company values, awesome product, smart c...</td>\n",
       "      <td>Not very easy to transfer to other locations</td>\n",
       "      <td>2021</td>\n",
       "    </tr>\n",
       "    <tr>\n",
       "      <th>476124</th>\n",
       "      <td>the-LEGO-Group</td>\n",
       "      <td>2021-06-03</td>\n",
       "      <td>Sales Associate</td>\n",
       "      <td>Current Employee, less than 1 year</td>\n",
       "      <td>London, England, England</td>\n",
       "      <td>3</td>\n",
       "      <td>5.0</td>\n",
       "      <td>5.0</td>\n",
       "      <td>5.0</td>\n",
       "      <td>5.0</td>\n",
       "      <td>5.0</td>\n",
       "      <td>5.0</td>\n",
       "      <td>o</td>\n",
       "      <td>o</td>\n",
       "      <td>o</td>\n",
       "      <td>working at lego</td>\n",
       "      <td>staff discount is really nice</td>\n",
       "      <td>micro managing is a hassle\\r\\ncan become menta...</td>\n",
       "      <td>2021</td>\n",
       "    </tr>\n",
       "    <tr>\n",
       "      <th>476125</th>\n",
       "      <td>the-LEGO-Group</td>\n",
       "      <td>2021-06-03</td>\n",
       "      <td>Strategist</td>\n",
       "      <td>Current Employee</td>\n",
       "      <td>No location</td>\n",
       "      <td>4</td>\n",
       "      <td>5.0</td>\n",
       "      <td>5.0</td>\n",
       "      <td>5.0</td>\n",
       "      <td>3.0</td>\n",
       "      <td>5.0</td>\n",
       "      <td>3.0</td>\n",
       "      <td>v</td>\n",
       "      <td>o</td>\n",
       "      <td>o</td>\n",
       "      <td>not interested in growing their people</td>\n",
       "      <td>loved brand for a lot of people</td>\n",
       "      <td>you can spend 6-10 years without any promotion...</td>\n",
       "      <td>2021</td>\n",
       "    </tr>\n",
       "    <tr>\n",
       "      <th>476126</th>\n",
       "      <td>the-LEGO-Group</td>\n",
       "      <td>2021-06-04</td>\n",
       "      <td>Customer Service Representative</td>\n",
       "      <td>Current Employee, less than 1 year</td>\n",
       "      <td>No location</td>\n",
       "      <td>5</td>\n",
       "      <td>5.0</td>\n",
       "      <td>5.0</td>\n",
       "      <td>5.0</td>\n",
       "      <td>5.0</td>\n",
       "      <td>5.0</td>\n",
       "      <td>5.0</td>\n",
       "      <td>o</td>\n",
       "      <td>o</td>\n",
       "      <td>o</td>\n",
       "      <td>Great Place to Work</td>\n",
       "      <td>Good wages, good hours, lots of resources</td>\n",
       "      <td>Working every other weekend, busy seasons can ...</td>\n",
       "      <td>2021</td>\n",
       "    </tr>\n",
       "    <tr>\n",
       "      <th>476127</th>\n",
       "      <td>the-LEGO-Group</td>\n",
       "      <td>2021-06-04</td>\n",
       "      <td>Human Resources Specialist</td>\n",
       "      <td>Current Employee, more than 3 years</td>\n",
       "      <td>Kladno, Central Bohemian, Central Bohemian</td>\n",
       "      <td>5</td>\n",
       "      <td>4.0</td>\n",
       "      <td>5.0</td>\n",
       "      <td>4.0</td>\n",
       "      <td>4.0</td>\n",
       "      <td>5.0</td>\n",
       "      <td>5.0</td>\n",
       "      <td>v</td>\n",
       "      <td>v</td>\n",
       "      <td>o</td>\n",
       "      <td>I strongly recommend the LEGO Group as employer</td>\n",
       "      <td>The LEGO Group is company with many opportunit...</td>\n",
       "      <td>Many things are centralized in Denmark and rel...</td>\n",
       "      <td>2021</td>\n",
       "    </tr>\n",
       "  </tbody>\n",
       "</table>\n",
       "<p>476128 rows × 19 columns</p>\n",
       "</div>"
      ],
      "text/plain": [
       "                         firm date_review                         job_title  \\\n",
       "0       AFH-Wealth-Management  2018-01-29                Anonymous Employee   \n",
       "1       AFH-Wealth-Management  2018-07-05                Anonymous Employee   \n",
       "2       AFH-Wealth-Management  2018-08-02                Anonymous Employee   \n",
       "3       AFH-Wealth-Management  2018-09-07                Anonymous Employee   \n",
       "4       AFH-Wealth-Management  2018-12-04                Anonymous Employee   \n",
       "...                       ...         ...                               ...   \n",
       "476123         the-LEGO-Group  2021-06-02                 Marketing Manager   \n",
       "476124         the-LEGO-Group  2021-06-03                   Sales Associate   \n",
       "476125         the-LEGO-Group  2021-06-03                        Strategist   \n",
       "476126         the-LEGO-Group  2021-06-04   Customer Service Representative   \n",
       "476127         the-LEGO-Group  2021-06-04        Human Resources Specialist   \n",
       "\n",
       "                                    current  \\\n",
       "0                          Current Employee   \n",
       "1        Former Employee, more than 3 years   \n",
       "2       Current Employee, more than 3 years   \n",
       "3                          Current Employee   \n",
       "4                           Former Employee   \n",
       "...                                     ...   \n",
       "476123  Current Employee, more than 5 years   \n",
       "476124   Current Employee, less than 1 year   \n",
       "476125                     Current Employee   \n",
       "476126   Current Employee, less than 1 year   \n",
       "476127  Current Employee, more than 3 years   \n",
       "\n",
       "                                          location  overall_rating  \\\n",
       "0                                      No location               5   \n",
       "1                                      No location               1   \n",
       "2                                      No location               5   \n",
       "3                                      No location               4   \n",
       "4                                      No location               2   \n",
       "...                                            ...             ...   \n",
       "476123                   München, Bavaria, Bavaria               5   \n",
       "476124                    London, England, England               3   \n",
       "476125                                 No location               4   \n",
       "476126                                 No location               5   \n",
       "476127  Kladno, Central Bohemian, Central Bohemian               5   \n",
       "\n",
       "        work_life_balance  culture_values  diversity_inclusion  career_opp  \\\n",
       "0                     5.0             5.0                  1.0         5.0   \n",
       "1                     3.0             1.0                  1.0         2.0   \n",
       "2                     5.0             5.0                  1.0         4.0   \n",
       "3                     3.0             3.0                  1.0         5.0   \n",
       "4                     4.0             2.0                  1.0         2.0   \n",
       "...                   ...             ...                  ...         ...   \n",
       "476123                4.0             5.0                  4.0         4.0   \n",
       "476124                5.0             5.0                  5.0         5.0   \n",
       "476125                5.0             5.0                  5.0         3.0   \n",
       "476126                5.0             5.0                  5.0         5.0   \n",
       "476127                4.0             5.0                  4.0         4.0   \n",
       "\n",
       "        comp_benefits  senior_mgmt recommend ceo_approv outlook  \\\n",
       "0                 5.0          5.0         v          o       v   \n",
       "1                 1.0          1.0         x          x       v   \n",
       "2                 4.0          4.0         v          o       v   \n",
       "3                 2.0          3.0         v          v       v   \n",
       "4                 1.0          1.0         x          o       o   \n",
       "...               ...          ...       ...        ...     ...   \n",
       "476123            4.0          4.0         v          v       v   \n",
       "476124            5.0          5.0         o          o       o   \n",
       "476125            5.0          3.0         v          o       o   \n",
       "476126            5.0          5.0         o          o       o   \n",
       "476127            5.0          5.0         v          v       o   \n",
       "\n",
       "                                                 headline  \\\n",
       "0                                          Administration   \n",
       "1                                 Could be so much better   \n",
       "2                                      Employer of choice   \n",
       "3                                      Good place to work   \n",
       "4       In the process of trying to provide the best s...   \n",
       "...                                                   ...   \n",
       "476123             Just an awesome company to work for!!!   \n",
       "476124                                    working at lego   \n",
       "476125             not interested in growing their people   \n",
       "476126                                Great Place to Work   \n",
       "476127    I strongly recommend the LEGO Group as employer   \n",
       "\n",
       "                                                     pros  \\\n",
       "0       Really nice community, lots of benefits for em...   \n",
       "1       Lots of talented and friendly people.\\r\\n\\r\\nR...   \n",
       "2       Top CEO with a vision and desire to make thing...   \n",
       "3       Very professional manner and lots of opportuni...   \n",
       "4       The compressed hours structure works well wher...   \n",
       "...                                                   ...   \n",
       "476123  Great company values, awesome product, smart c...   \n",
       "476124                      staff discount is really nice   \n",
       "476125                    loved brand for a lot of people   \n",
       "476126          Good wages, good hours, lots of resources   \n",
       "476127  The LEGO Group is company with many opportunit...   \n",
       "\n",
       "                                                     cons  year  \n",
       "0        nothing that i can think of- i love working here  2018  \n",
       "1       The talented and friendly people are woefully ...  2018  \n",
       "2                There are none... it's what you make it.  2018  \n",
       "3                             There are none to point out  2018  \n",
       "4       I genuinely believe AFH have a good offering f...  2018  \n",
       "...                                                   ...   ...  \n",
       "476123       Not very easy to transfer to other locations  2021  \n",
       "476124  micro managing is a hassle\\r\\ncan become menta...  2021  \n",
       "476125  you can spend 6-10 years without any promotion...  2021  \n",
       "476126  Working every other weekend, busy seasons can ...  2021  \n",
       "476127  Many things are centralized in Denmark and rel...  2021  \n",
       "\n",
       "[476128 rows x 19 columns]"
      ]
     },
     "execution_count": 376,
     "metadata": {},
     "output_type": "execute_result"
    }
   ],
   "source": [
    "df_merged"
   ]
  },
  {
   "cell_type": "code",
   "execution_count": 377,
   "id": "4155d789",
   "metadata": {},
   "outputs": [],
   "source": [
    "df_merged.to_csv('cleaned_df.csv', index=False)"
   ]
  },
  {
   "cell_type": "code",
   "execution_count": 380,
   "id": "e3ad449a",
   "metadata": {},
   "outputs": [
    {
     "data": {
      "text/plain": [
       "array([5., 3., 4., 2., 1.])"
      ]
     },
     "execution_count": 380,
     "metadata": {},
     "output_type": "execute_result"
    }
   ],
   "source": [
    "df_merged['work_life_balance'].unique()"
   ]
  },
  {
   "cell_type": "code",
   "execution_count": 382,
   "id": "d3970201",
   "metadata": {},
   "outputs": [],
   "source": [
    "df_merged.to_csv('cleaned_df2.csv', index=False)"
   ]
  },
  {
   "cell_type": "code",
   "execution_count": 384,
   "id": "5001c521",
   "metadata": {},
   "outputs": [
    {
     "data": {
      "text/html": [
       "<div>\n",
       "<style scoped>\n",
       "    .dataframe tbody tr th:only-of-type {\n",
       "        vertical-align: middle;\n",
       "    }\n",
       "\n",
       "    .dataframe tbody tr th {\n",
       "        vertical-align: top;\n",
       "    }\n",
       "\n",
       "    .dataframe thead th {\n",
       "        text-align: right;\n",
       "    }\n",
       "</style>\n",
       "<table border=\"1\" class=\"dataframe\">\n",
       "  <thead>\n",
       "    <tr style=\"text-align: right;\">\n",
       "      <th></th>\n",
       "      <th>firm</th>\n",
       "      <th>date_review</th>\n",
       "      <th>job_title</th>\n",
       "      <th>current</th>\n",
       "      <th>location</th>\n",
       "      <th>overall_rating</th>\n",
       "      <th>work_life_balance</th>\n",
       "      <th>culture_values</th>\n",
       "      <th>diversity_inclusion</th>\n",
       "      <th>career_opp</th>\n",
       "      <th>comp_benefits</th>\n",
       "      <th>senior_mgmt</th>\n",
       "      <th>recommend</th>\n",
       "      <th>ceo_approv</th>\n",
       "      <th>outlook</th>\n",
       "      <th>headline</th>\n",
       "      <th>pros</th>\n",
       "      <th>cons</th>\n",
       "      <th>year</th>\n",
       "    </tr>\n",
       "  </thead>\n",
       "  <tbody>\n",
       "    <tr>\n",
       "      <th>0</th>\n",
       "      <td>AFH-Wealth-Management</td>\n",
       "      <td>2018-01-29</td>\n",
       "      <td>Anonymous Employee</td>\n",
       "      <td>Current Employee</td>\n",
       "      <td>No location</td>\n",
       "      <td>5</td>\n",
       "      <td>5.0</td>\n",
       "      <td>5.0</td>\n",
       "      <td>1.0</td>\n",
       "      <td>5.0</td>\n",
       "      <td>5.0</td>\n",
       "      <td>5.0</td>\n",
       "      <td>v</td>\n",
       "      <td>o</td>\n",
       "      <td>v</td>\n",
       "      <td>Administration</td>\n",
       "      <td>Really nice community, lots of benefits for em...</td>\n",
       "      <td>nothing that i can think of- i love working here</td>\n",
       "      <td>2018</td>\n",
       "    </tr>\n",
       "    <tr>\n",
       "      <th>1</th>\n",
       "      <td>AFH-Wealth-Management</td>\n",
       "      <td>2018-07-05</td>\n",
       "      <td>Anonymous Employee</td>\n",
       "      <td>Former Employee, more than 3 years</td>\n",
       "      <td>No location</td>\n",
       "      <td>1</td>\n",
       "      <td>3.0</td>\n",
       "      <td>1.0</td>\n",
       "      <td>1.0</td>\n",
       "      <td>2.0</td>\n",
       "      <td>1.0</td>\n",
       "      <td>1.0</td>\n",
       "      <td>x</td>\n",
       "      <td>x</td>\n",
       "      <td>v</td>\n",
       "      <td>Could be so much better</td>\n",
       "      <td>Lots of talented and friendly people.\\r\\n\\r\\nR...</td>\n",
       "      <td>The talented and friendly people are woefully ...</td>\n",
       "      <td>2018</td>\n",
       "    </tr>\n",
       "    <tr>\n",
       "      <th>2</th>\n",
       "      <td>AFH-Wealth-Management</td>\n",
       "      <td>2018-08-02</td>\n",
       "      <td>Anonymous Employee</td>\n",
       "      <td>Current Employee, more than 3 years</td>\n",
       "      <td>No location</td>\n",
       "      <td>5</td>\n",
       "      <td>5.0</td>\n",
       "      <td>5.0</td>\n",
       "      <td>1.0</td>\n",
       "      <td>4.0</td>\n",
       "      <td>4.0</td>\n",
       "      <td>4.0</td>\n",
       "      <td>v</td>\n",
       "      <td>o</td>\n",
       "      <td>v</td>\n",
       "      <td>Employer of choice</td>\n",
       "      <td>Top CEO with a vision and desire to make thing...</td>\n",
       "      <td>There are none... it's what you make it.</td>\n",
       "      <td>2018</td>\n",
       "    </tr>\n",
       "    <tr>\n",
       "      <th>3</th>\n",
       "      <td>AFH-Wealth-Management</td>\n",
       "      <td>2018-09-07</td>\n",
       "      <td>Anonymous Employee</td>\n",
       "      <td>Current Employee</td>\n",
       "      <td>No location</td>\n",
       "      <td>4</td>\n",
       "      <td>3.0</td>\n",
       "      <td>3.0</td>\n",
       "      <td>1.0</td>\n",
       "      <td>5.0</td>\n",
       "      <td>2.0</td>\n",
       "      <td>3.0</td>\n",
       "      <td>v</td>\n",
       "      <td>v</td>\n",
       "      <td>v</td>\n",
       "      <td>Good place to work</td>\n",
       "      <td>Very professional manner and lots of opportuni...</td>\n",
       "      <td>There are none to point out</td>\n",
       "      <td>2018</td>\n",
       "    </tr>\n",
       "    <tr>\n",
       "      <th>4</th>\n",
       "      <td>AFH-Wealth-Management</td>\n",
       "      <td>2018-12-04</td>\n",
       "      <td>Anonymous Employee</td>\n",
       "      <td>Former Employee</td>\n",
       "      <td>No location</td>\n",
       "      <td>2</td>\n",
       "      <td>4.0</td>\n",
       "      <td>2.0</td>\n",
       "      <td>1.0</td>\n",
       "      <td>2.0</td>\n",
       "      <td>1.0</td>\n",
       "      <td>1.0</td>\n",
       "      <td>x</td>\n",
       "      <td>o</td>\n",
       "      <td>o</td>\n",
       "      <td>In the process of trying to provide the best s...</td>\n",
       "      <td>The compressed hours structure works well wher...</td>\n",
       "      <td>I genuinely believe AFH have a good offering f...</td>\n",
       "      <td>2018</td>\n",
       "    </tr>\n",
       "  </tbody>\n",
       "</table>\n",
       "</div>"
      ],
      "text/plain": [
       "                    firm date_review            job_title  \\\n",
       "0  AFH-Wealth-Management  2018-01-29   Anonymous Employee   \n",
       "1  AFH-Wealth-Management  2018-07-05   Anonymous Employee   \n",
       "2  AFH-Wealth-Management  2018-08-02   Anonymous Employee   \n",
       "3  AFH-Wealth-Management  2018-09-07   Anonymous Employee   \n",
       "4  AFH-Wealth-Management  2018-12-04   Anonymous Employee   \n",
       "\n",
       "                               current     location  overall_rating  \\\n",
       "0                     Current Employee  No location               5   \n",
       "1   Former Employee, more than 3 years  No location               1   \n",
       "2  Current Employee, more than 3 years  No location               5   \n",
       "3                     Current Employee  No location               4   \n",
       "4                      Former Employee  No location               2   \n",
       "\n",
       "   work_life_balance  culture_values  diversity_inclusion  career_opp  \\\n",
       "0                5.0             5.0                  1.0         5.0   \n",
       "1                3.0             1.0                  1.0         2.0   \n",
       "2                5.0             5.0                  1.0         4.0   \n",
       "3                3.0             3.0                  1.0         5.0   \n",
       "4                4.0             2.0                  1.0         2.0   \n",
       "\n",
       "   comp_benefits  senior_mgmt recommend ceo_approv outlook  \\\n",
       "0            5.0          5.0         v          o       v   \n",
       "1            1.0          1.0         x          x       v   \n",
       "2            4.0          4.0         v          o       v   \n",
       "3            2.0          3.0         v          v       v   \n",
       "4            1.0          1.0         x          o       o   \n",
       "\n",
       "                                            headline  \\\n",
       "0                                     Administration   \n",
       "1                            Could be so much better   \n",
       "2                                 Employer of choice   \n",
       "3                                 Good place to work   \n",
       "4  In the process of trying to provide the best s...   \n",
       "\n",
       "                                                pros  \\\n",
       "0  Really nice community, lots of benefits for em...   \n",
       "1  Lots of talented and friendly people.\\r\\n\\r\\nR...   \n",
       "2  Top CEO with a vision and desire to make thing...   \n",
       "3  Very professional manner and lots of opportuni...   \n",
       "4  The compressed hours structure works well wher...   \n",
       "\n",
       "                                                cons  year  \n",
       "0   nothing that i can think of- i love working here  2018  \n",
       "1  The talented and friendly people are woefully ...  2018  \n",
       "2           There are none... it's what you make it.  2018  \n",
       "3                        There are none to point out  2018  \n",
       "4  I genuinely believe AFH have a good offering f...  2018  "
      ]
     },
     "execution_count": 384,
     "metadata": {},
     "output_type": "execute_result"
    }
   ],
   "source": [
    "data=pd.read_csv('../data/clean/cleaned_df2.csv')\n",
    "data.head()"
   ]
  },
  {
   "cell_type": "code",
   "execution_count": 385,
   "id": "01bf34e5",
   "metadata": {},
   "outputs": [
    {
     "data": {
      "text/plain": [
       "firm                    object\n",
       "date_review             object\n",
       "job_title               object\n",
       "current                 object\n",
       "location                object\n",
       "overall_rating           int64\n",
       "work_life_balance      float64\n",
       "culture_values         float64\n",
       "diversity_inclusion    float64\n",
       "career_opp             float64\n",
       "comp_benefits          float64\n",
       "senior_mgmt            float64\n",
       "recommend               object\n",
       "ceo_approv              object\n",
       "outlook                 object\n",
       "headline                object\n",
       "pros                    object\n",
       "cons                    object\n",
       "year                     int64\n",
       "dtype: object"
      ]
     },
     "execution_count": 385,
     "metadata": {},
     "output_type": "execute_result"
    }
   ],
   "source": [
    "data.dtypes"
   ]
  },
  {
   "cell_type": "code",
   "execution_count": 386,
   "id": "bb03ed2a",
   "metadata": {},
   "outputs": [
    {
     "data": {
      "text/plain": [
       "firm                      0\n",
       "date_review               0\n",
       "job_title                 0\n",
       "current                   0\n",
       "location                  0\n",
       "overall_rating            0\n",
       "work_life_balance         0\n",
       "culture_values            0\n",
       "diversity_inclusion       0\n",
       "career_opp                0\n",
       "comp_benefits             0\n",
       "senior_mgmt               0\n",
       "recommend                 0\n",
       "ceo_approv                0\n",
       "outlook                   0\n",
       "headline               1883\n",
       "pros                      0\n",
       "cons                      4\n",
       "year                      0\n",
       "dtype: int64"
      ]
     },
     "execution_count": 386,
     "metadata": {},
     "output_type": "execute_result"
    }
   ],
   "source": [
    "data[:].isnull().sum()"
   ]
  },
  {
   "cell_type": "code",
   "execution_count": 387,
   "id": "9947ec13",
   "metadata": {},
   "outputs": [
    {
     "data": {
      "text/plain": [
       " Anonymous Employee               83700\n",
       " Manager                           9962\n",
       " Consultant                        8350\n",
       "                                   7963\n",
       " Software Engineer                 7234\n",
       "                                  ...  \n",
       " Games Salesperson                    1\n",
       " Ul Developer                         1\n",
       " Senior Softwared Developer           1\n",
       " Product Operations Specialist        1\n",
       " Senior Experience Designer           1\n",
       "Name: job_title, Length: 42460, dtype: int64"
      ]
     },
     "execution_count": 387,
     "metadata": {},
     "output_type": "execute_result"
    }
   ],
   "source": [
    "data['job_title'].value_counts()"
   ]
  },
  {
   "cell_type": "code",
   "execution_count": 388,
   "id": "0a08fdaf",
   "metadata": {},
   "outputs": [
    {
     "data": {
      "text/plain": [
       "No location                 156489\n",
       "London, England, England     39549\n",
       "Bangalore                    17494\n",
       "New York, NY                 13911\n",
       "Hyderābād                     7230\n",
       "                             ...  \n",
       "Fort Carson, CO                  1\n",
       "Fort Gordon, GA                  1\n",
       "Bost, Flemish Brabant            1\n",
       "Toano, VA                        1\n",
       "Wijnegem, Antwerp                1\n",
       "Name: location, Length: 11045, dtype: int64"
      ]
     },
     "execution_count": 388,
     "metadata": {},
     "output_type": "execute_result"
    }
   ],
   "source": [
    "data['location'].value_counts()"
   ]
  },
  {
   "cell_type": "code",
   "execution_count": 389,
   "id": "cf05ab85",
   "metadata": {},
   "outputs": [
    {
     "data": {
      "text/plain": [
       "array([5., 3., 4., 2., 1.])"
      ]
     },
     "execution_count": 389,
     "metadata": {},
     "output_type": "execute_result"
    }
   ],
   "source": [
    "data['work_life_balance'].unique()"
   ]
  },
  {
   "cell_type": "code",
   "execution_count": null,
   "id": "04d2a024",
   "metadata": {},
   "outputs": [],
   "source": []
  },
  {
   "cell_type": "code",
   "execution_count": null,
   "id": "f37c07fb",
   "metadata": {},
   "outputs": [],
   "source": []
  },
  {
   "cell_type": "code",
   "execution_count": null,
   "id": "1642cdfe",
   "metadata": {},
   "outputs": [],
   "source": []
  },
  {
   "cell_type": "code",
   "execution_count": null,
   "id": "9f341bfa",
   "metadata": {},
   "outputs": [],
   "source": []
  }
 ],
 "metadata": {
  "kernelspec": {
   "display_name": "Python 3.9.15 ('Final_Project')",
   "language": "python",
   "name": "python3"
  },
  "language_info": {
   "codemirror_mode": {
    "name": "ipython",
    "version": 3
   },
   "file_extension": ".py",
   "mimetype": "text/x-python",
   "name": "python",
   "nbconvert_exporter": "python",
   "pygments_lexer": "ipython3",
   "version": "3.9.15"
  },
  "vscode": {
   "interpreter": {
    "hash": "2d3d602cfa194a216c40903d4f687b7a2a69168e4a9920d33652664fab934e14"
   }
  }
 },
 "nbformat": 4,
 "nbformat_minor": 5
}
